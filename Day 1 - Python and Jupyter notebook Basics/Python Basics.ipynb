{
 "cells": [
  {
   "cell_type": "markdown",
   "id": "2bc38c5e",
   "metadata": {},
   "source": [
    "## Python Basics"
   ]
  },
  {
   "cell_type": "markdown",
   "id": "10e11163",
   "metadata": {},
   "source": [
    "There are different types of Programming language like Java, Python, and Javascript.\n",
    "<br><br>\n",
    "\n",
    "Every programming language contains something called either interpreter or compiler who converts human readiable code to machine code."
   ]
  },
  {
   "cell_type": "markdown",
   "id": "8c756cac",
   "metadata": {},
   "source": [
    "<h3>Interpreter</h3>converts source code to machine code line by line while <h3>Compiler</h3>converts whole source code to machine code all at once."
   ]
  },
  {
   "cell_type": "markdown",
   "id": "43b45c38",
   "metadata": {},
   "source": [
    "<b>Python</b> generally uses interpreter to execute the source code. Python in writtern in C programming languange i.e the interpreter used to execute the python code is written in C and is known as \"cpython\".\n",
    "<br>\n",
    "Java written interpreter for python is known as Jpython and it can also be used alternate to Cpython."
   ]
  },
  {
   "cell_type": "markdown",
   "id": "74c5f920",
   "metadata": {},
   "source": [
    "Python source code -> <b>Interpreter</b> -> Byte code -> <b>Cpython VM</b> -> machine code"
   ]
  },
  {
   "cell_type": "markdown",
   "id": "ddde9dbe",
   "metadata": {},
   "source": [
    "\n",
    "- In strictly typed languages like python typecheck is strictly enforced whereas in loosely typed its not.\n",
    "\n",
    "- Data types are of two types- mutable(list,set,dictionaries) and immutable(tuple).\n",
    "\n",
    "- In python 0 means false, any other number means true(even -ves or decimals. Empty lists,tuples etc are also considered false.\n",
    "\n",
    "- In python blocks are identified using indentations.\n",
    "\n",
    "- '''  xyz  '''  should not be used as comments"
   ]
  },
  {
   "cell_type": "markdown",
   "id": "aad402ea",
   "metadata": {},
   "source": [
    "<h4>Fundamental Datatypes in Pythons</h4>"
   ]
  },
  {
   "cell_type": "markdown",
   "id": "60487388",
   "metadata": {},
   "source": [
    "1. int\n",
    "2. float\n",
    "3. bool \n",
    "4. str\n",
    "5. list\n",
    "6. tuple\n",
    "7. set\n",
    "8. dict"
   ]
  },
  {
   "cell_type": "markdown",
   "id": "f9e0e5a5",
   "metadata": {},
   "source": [
    "<h4>Custom datatypes </h4>"
   ]
  },
  {
   "cell_type": "markdown",
   "id": "7783b1b4",
   "metadata": {},
   "source": [
    "1. Classes"
   ]
  },
  {
   "cell_type": "markdown",
   "id": "ae5858ae",
   "metadata": {},
   "source": [
    "<h4>Specialized types"
   ]
  },
  {
   "cell_type": "markdown",
   "id": "8f08ae1b",
   "metadata": {},
   "source": [
    "1. modules "
   ]
  },
  {
   "cell_type": "markdown",
   "id": "8044edf2",
   "metadata": {},
   "source": [
    "<h4>Special Type"
   ]
  },
  {
   "cell_type": "markdown",
   "id": "f1ae5969",
   "metadata": {},
   "source": [
    "1. None"
   ]
  },
  {
   "cell_type": "code",
   "execution_count": 1,
   "id": "7af4745d",
   "metadata": {},
   "outputs": [
    {
     "name": "stdout",
     "output_type": "stream",
     "text": [
      "46 4.9 Abhishek True\n"
     ]
    }
   ],
   "source": [
    "# Variables \n",
    "a = 46\n",
    "b = 4.9\n",
    "c = \"Abhishek\"\n",
    "d = True\n",
    "print(a, b, c, d)"
   ]
  },
  {
   "cell_type": "code",
   "execution_count": 2,
   "id": "9a1bb283",
   "metadata": {},
   "outputs": [
    {
     "data": {
      "text/plain": [
       "int"
      ]
     },
     "execution_count": 2,
     "metadata": {},
     "output_type": "execute_result"
    }
   ],
   "source": [
    "# type() Function - Return which type of data we are calling this function on\n",
    "type(45)"
   ]
  },
  {
   "cell_type": "code",
   "execution_count": 3,
   "id": "27174341",
   "metadata": {},
   "outputs": [
    {
     "data": {
      "text/plain": [
       "str"
      ]
     },
     "execution_count": 3,
     "metadata": {},
     "output_type": "execute_result"
    }
   ],
   "source": [
    "type(c)"
   ]
  },
  {
   "cell_type": "code",
   "execution_count": 4,
   "id": "5c2a4285",
   "metadata": {},
   "outputs": [
    {
     "data": {
      "text/plain": [
       "bool"
      ]
     },
     "execution_count": 4,
     "metadata": {},
     "output_type": "execute_result"
    }
   ],
   "source": [
    "type(d)"
   ]
  },
  {
   "cell_type": "code",
   "execution_count": 5,
   "id": "9494a06a",
   "metadata": {},
   "outputs": [
    {
     "data": {
      "text/plain": [
       "float"
      ]
     },
     "execution_count": 5,
     "metadata": {},
     "output_type": "execute_result"
    }
   ],
   "source": [
    "type(2/4)"
   ]
  },
  {
   "cell_type": "code",
   "execution_count": 6,
   "id": "1aa14d26",
   "metadata": {},
   "outputs": [
    {
     "name": "stdout",
     "output_type": "stream",
     "text": [
      "21.6\n",
      "<class 'float'>\n"
     ]
    }
   ],
   "source": [
    "print(20+1.6)\n",
    "print(type(20+1.6)) # python automatically type cast int and float addition to float"
   ]
  },
  {
   "cell_type": "code",
   "execution_count": 7,
   "id": "dff244e2",
   "metadata": {},
   "outputs": [
    {
     "name": "stdout",
     "output_type": "stream",
     "text": [
      "5\n",
      "-1\n",
      "6\n",
      "0.6666666666666666\n",
      "1\n",
      "8\n",
      "2\n"
     ]
    }
   ],
   "source": [
    "# Mathamatical operations in python\n",
    "print(2+3) # addition of 2 numbers\n",
    "print(2-3) # substraction\n",
    "print(2*3) # multiplication\n",
    "print(2/3) # True division\n",
    "print(6//4)# Floor division -> return the integer part of the division\n",
    "print(2**3)# Exponentiation -> 2 raise to the power 3. \n",
    "print(6%4) # return the remainder after division"
   ]
  },
  {
   "cell_type": "markdown",
   "id": "8cd74b3e",
   "metadata": {},
   "source": [
    "Python uses a order in which a operation is evaluated \n",
    "<br>\n",
    "<b><i>PEMDAS - Parentheses, Exponents, Multiplication/Division, Addition/Subtraction."
   ]
  },
  {
   "cell_type": "code",
   "execution_count": 8,
   "id": "8171a909",
   "metadata": {},
   "outputs": [
    {
     "data": {
      "text/plain": [
       "True"
      ]
     },
     "execution_count": 8,
     "metadata": {},
     "output_type": "execute_result"
    }
   ],
   "source": [
    "isinstance(int, object) # everything in python is a object "
   ]
  },
  {
   "cell_type": "code",
   "execution_count": 9,
   "id": "7c9b7257",
   "metadata": {},
   "outputs": [
    {
     "data": {
      "text/plain": [
       "True"
      ]
     },
     "execution_count": 9,
     "metadata": {},
     "output_type": "execute_result"
    }
   ],
   "source": [
    "a = bool\n",
    "isinstance(a, object) # everything in python is a object "
   ]
  },
  {
   "cell_type": "code",
   "execution_count": 10,
   "id": "ea180d98",
   "metadata": {},
   "outputs": [
    {
     "data": {
      "text/plain": [
       "True"
      ]
     },
     "execution_count": 10,
     "metadata": {},
     "output_type": "execute_result"
    }
   ],
   "source": [
    "a = \"abc\"   # #shows dynamic allocation - previous object which was pointed by a is cleared by garbage collection\n",
    "isinstance(a, object) # everything in python is a object "
   ]
  },
  {
   "cell_type": "code",
   "execution_count": 11,
   "id": "49f22a8c",
   "metadata": {},
   "outputs": [
    {
     "name": "stdout",
     "output_type": "stream",
     "text": [
      "True\n",
      "True\n",
      "True True False False\n"
     ]
    }
   ],
   "source": [
    "# In python bool is derived from integer\n",
    "# 0 means false, any other number means true(even -ves or decimals). Empty lists, tuples etc are also considered false.\n",
    "\n",
    "a = True\n",
    "b = 1\n",
    "c = -8\n",
    "d = 0\n",
    "e = []\n",
    "print(isinstance(a,bool))\n",
    "print(isinstance(a, int))\n",
    "print(bool(b), bool(c), bool(d), bool(e))"
   ]
  },
  {
   "cell_type": "markdown",
   "id": "5678dd4a",
   "metadata": {},
   "source": [
    "## Math Functions"
   ]
  },
  {
   "cell_type": "code",
   "execution_count": 12,
   "id": "9e26ceb6",
   "metadata": {},
   "outputs": [
    {
     "name": "stdout",
     "output_type": "stream",
     "text": [
      "4\n",
      "60\n",
      "2.0\n",
      "24\n",
      "4\n",
      "3\n",
      "7.38905609893065\n"
     ]
    }
   ],
   "source": [
    "import math\n",
    "print(round(3.6)) # round decimal number to nearest integer\n",
    "print(abs(-60)) # return the absolute of a number\n",
    "print(math.sqrt(4))# return the square root of the number\n",
    "print(math.factorial(4)) # return the factorial of the number\n",
    "print(math.ceil(3.6)) # return the lowest integer that is greater than the number\n",
    "print(math.floor(3.6)) #return the greated integer that is lower than the given number\n",
    "print(math.exp(2))# return e**x"
   ]
  },
  {
   "cell_type": "markdown",
   "id": "29a80efd",
   "metadata": {},
   "source": [
    "There are whole lot of math function in python. Some of them requires special package file that must be included in the program to run them. "
   ]
  },
  {
   "cell_type": "markdown",
   "id": "0a0234ab",
   "metadata": {},
   "source": [
    "For Example : In the above examples except round and abs all other methods require math package to be imported to work properly"
   ]
  },
  {
   "cell_type": "markdown",
   "id": "5de6dabc",
   "metadata": {},
   "source": [
    "https://www.w3schools.com/python/module_math.asp\n",
    "These are some other maths functions in python"
   ]
  },
  {
   "cell_type": "markdown",
   "id": "77f99ac4",
   "metadata": {},
   "source": [
    "## Strings"
   ]
  },
  {
   "cell_type": "markdown",
   "id": "f454101d",
   "metadata": {},
   "source": [
    "In python anything between single quotes or double quotes are consider as string\n",
    "- Strings are immutable in python\n",
    "- We can access the string characters using square brackets [index]"
   ]
  },
  {
   "cell_type": "code",
   "execution_count": 13,
   "id": "dc798103",
   "metadata": {},
   "outputs": [
    {
     "data": {
      "text/plain": [
       "str"
      ]
     },
     "execution_count": 13,
     "metadata": {},
     "output_type": "execute_result"
    }
   ],
   "source": [
    "type(\"Hello world\")"
   ]
  },
  {
   "cell_type": "code",
   "execution_count": 14,
   "id": "adceb96d",
   "metadata": {},
   "outputs": [
    {
     "data": {
      "text/plain": [
       "str"
      ]
     },
     "execution_count": 14,
     "metadata": {},
     "output_type": "execute_result"
    }
   ],
   "source": [
    "type('Goodbye world')"
   ]
  },
  {
   "cell_type": "code",
   "execution_count": 15,
   "id": "03aa9f24",
   "metadata": {},
   "outputs": [
    {
     "name": "stdout",
     "output_type": "stream",
     "text": [
      "abhishek 66daysofcode\n"
     ]
    }
   ],
   "source": [
    "name = \"abhishek\"\n",
    "challenge_name = \"66daysofcode\"\n",
    "print(name, challenge_name)"
   ]
  },
  {
   "cell_type": "code",
   "execution_count": 16,
   "id": "99b44f16",
   "metadata": {},
   "outputs": [
    {
     "name": "stdout",
     "output_type": "stream",
     "text": [
      "\n",
      "this is the long string \n",
      "o   o\n",
      "  |\n",
      "-----\n",
      "\n"
     ]
    }
   ],
   "source": [
    "# We can write a string having more than one line and assign it to a vairable using three opeaning single qoutes and three closing single quotes\n",
    "long_string = '''\n",
    "this is the long string \n",
    "o   o\n",
    "  |\n",
    "-----\n",
    "'''\n",
    "print(long_string)"
   ]
  },
  {
   "cell_type": "code",
   "execution_count": 17,
   "id": "30583806",
   "metadata": {},
   "outputs": [
    {
     "name": "stdout",
     "output_type": "stream",
     "text": [
      "AbhishekBhatt\n"
     ]
    }
   ],
   "source": [
    "# Concatenation of the string\n",
    "first_name = \"Abhishek\"\n",
    "last_name = \"Bhatt\"\n",
    "full_name = first_name + last_name\n",
    "print(full_name)"
   ]
  },
  {
   "cell_type": "code",
   "execution_count": 18,
   "id": "9b47783e",
   "metadata": {},
   "outputs": [
    {
     "name": "stdout",
     "output_type": "stream",
     "text": [
      "Hello World\n"
     ]
    }
   ],
   "source": [
    "# We can directly concat strings inside print statement\n",
    "print(\"Hello \" + \"World\")"
   ]
  },
  {
   "cell_type": "code",
   "execution_count": 19,
   "id": "b6247689",
   "metadata": {},
   "outputs": [],
   "source": [
    "# But we can not add or concat string with some other dataype. It will produce a type error\n",
    "#print(\"hello\" + 5)"
   ]
  },
  {
   "cell_type": "code",
   "execution_count": 20,
   "id": "2ecf39c4",
   "metadata": {},
   "outputs": [
    {
     "name": "stdout",
     "output_type": "stream",
     "text": [
      "It's a good weather today\n"
     ]
    }
   ],
   "source": [
    "# Escape sequences denoted by backslash(\\)\n",
    "print('It\\'s a good weather today')"
   ]
  },
  {
   "cell_type": "code",
   "execution_count": 21,
   "id": "65c3bbc1",
   "metadata": {},
   "outputs": [
    {
     "name": "stdout",
     "output_type": "stream",
     "text": [
      "S\n",
      "l\n",
      "S e l f i s h\n"
     ]
    }
   ],
   "source": [
    "# We can access string characters using the index\n",
    "a = \"Selfish\"\n",
    "print(a[0])\n",
    "print(a[2])\n",
    "print(a[0], a[1], a[2], a[3], a[4], a[5], a[6])"
   ]
  },
  {
   "cell_type": "code",
   "execution_count": 22,
   "id": "e4c82432",
   "metadata": {},
   "outputs": [
    {
     "name": "stdout",
     "output_type": "stream",
     "text": [
      "h s i f\n"
     ]
    }
   ],
   "source": [
    "# Strings can also have index in negative form\n",
    "print(a[-1], a[-2], a[-3], a[-4])"
   ]
  },
  {
   "cell_type": "code",
   "execution_count": 23,
   "id": "903b469b",
   "metadata": {},
   "outputs": [
    {
     "name": "stdout",
     "output_type": "stream",
     "text": [
      "lfi\n",
      "Sli\n"
     ]
    }
   ],
   "source": [
    "# We can also write starting index and end index seperated by colon(:) inside the square bracket to get the string between two index\n",
    "# string_name[start : end : startover]\n",
    "print(a[2:5])\n",
    "#startover tell how many charcters we have to jump while illetraring the stirng\n",
    "print(a[0:6:2])"
   ]
  },
  {
   "cell_type": "code",
   "execution_count": 24,
   "id": "521c0e89",
   "metadata": {
    "scrolled": true
   },
   "outputs": [
    {
     "name": "stdout",
     "output_type": "stream",
     "text": [
      "elfish\n",
      "Se\n",
      "Slih\n",
      "Sli\n",
      "Selfis\n",
      "hsifleS\n"
     ]
    }
   ],
   "source": [
    "# Some tricky things we can do in pythons with strings and index\n",
    "print(a[1:])\n",
    "print(a[:2])\n",
    "print(a[::2])\n",
    "print(a[:6:2])\n",
    "print(a[:-1])\n",
    "print(a[::-1])"
   ]
  },
  {
   "cell_type": "code",
   "execution_count": 25,
   "id": "c72c6533",
   "metadata": {},
   "outputs": [
    {
     "name": "stdout",
     "output_type": "stream",
     "text": [
      "10\n",
      "True\n",
      "False\n",
      "False\n",
      "True\n",
      "False\n",
      "False\n",
      "False\n",
      "False\n",
      "True\n",
      "True\n",
      "abhishek07\n",
      "ABHISHEK07\n",
      "Abhishek03\n"
     ]
    }
   ],
   "source": [
    "my_str = \"Abhishek07\"\n",
    "print(len(my_str))      #return the length of the string\n",
    "print(my_str.isalnum()) #check if all char are numbers and alphabets\n",
    "print(my_str.isalpha()) #check if all char in the string are alphabetic\n",
    "print(my_str.isdigit()) #test if string has only digits\n",
    "print(my_str.istitle()) #test if string contains title words\n",
    "print(my_str.isupper()) #test if string contains upper case\n",
    "print(my_str.islower()) #test if string contains lower case\n",
    "print(my_str.isspace()) #test if string contains spaces\n",
    "print(my_str.endswith('3')) #test if string ends with a 3\n",
    "print(my_str.endswith('7')) #test if string ends with a 7\n",
    "print(my_str.startswith('A')) #test if string starts with A\n",
    "print(my_str.lower())   #convert whole string to lower case\n",
    "print(my_str.upper())   # convert whole string to uppercase\n",
    "print(my_str.replace(\"07\" , \"03\")) #replace all the occurence of a specified string"
   ]
  },
  {
   "cell_type": "markdown",
   "id": "eeb70c99",
   "metadata": {},
   "source": [
    "Some of other methods are listed here\n",
    "https://www.w3schools.com/python/python_ref_string.asp"
   ]
  },
  {
   "cell_type": "markdown",
   "id": "cd5c194f",
   "metadata": {},
   "source": [
    "##### Typecasting\n",
    "<br>\n",
    "Changing one dataype to another is called typecasting"
   ]
  },
  {
   "cell_type": "code",
   "execution_count": 26,
   "id": "6118f729",
   "metadata": {},
   "outputs": [
    {
     "name": "stdout",
     "output_type": "stream",
     "text": [
      "<class 'int'>\n",
      "<class 'str'>\n",
      "c =  16.5 <class 'float'> d =  16 <class 'int'>\n"
     ]
    }
   ],
   "source": [
    "a = 10\n",
    "print(type(a))\n",
    "b = str(a)     # changed integer type to string\n",
    "print(type(b))\n",
    "\n",
    "c = 16.5\n",
    "d = int(c)     # changed float ot integer\n",
    "print(\"c = \", c, type(c), \"d = \",d, type(d))"
   ]
  },
  {
   "cell_type": "markdown",
   "id": "c62192e6",
   "metadata": {},
   "source": [
    "## Loops"
   ]
  },
  {
   "cell_type": "code",
   "execution_count": 27,
   "id": "5201e12e",
   "metadata": {},
   "outputs": [
    {
     "name": "stdout",
     "output_type": "stream",
     "text": [
      "1\n",
      "2\n",
      "3\n",
      "4\n",
      "5\n",
      "6\n",
      "98\n",
      "7\n",
      "8\n",
      "45\n",
      "2\n",
      "1\n"
     ]
    }
   ],
   "source": [
    "my_list = [1,2,3,4,5,6,98,7,8,45,2,1]\n",
    "for i in my_list:\n",
    "    print(i)"
   ]
  },
  {
   "cell_type": "code",
   "execution_count": 28,
   "id": "c958de57",
   "metadata": {},
   "outputs": [
    {
     "name": "stdout",
     "output_type": "stream",
     "text": [
      "0\n",
      "1\n",
      "2\n",
      "3\n",
      "4\n",
      "5\n",
      "6\n",
      "7\n",
      "8\n",
      "9\n"
     ]
    }
   ],
   "source": [
    "for i in range(0 , 10):\n",
    "    print(i)"
   ]
  },
  {
   "cell_type": "code",
   "execution_count": 29,
   "id": "4946e399",
   "metadata": {},
   "outputs": [
    {
     "name": "stdout",
     "output_type": "stream",
     "text": [
      "0\n",
      "2\n",
      "4\n",
      "6\n",
      "8\n",
      "10\n",
      "12\n",
      "14\n",
      "16\n",
      "18\n"
     ]
    }
   ],
   "source": [
    "for i in range(0, 20, 2):\n",
    "    print(i)"
   ]
  },
  {
   "cell_type": "code",
   "execution_count": 30,
   "id": "bb98f759",
   "metadata": {},
   "outputs": [
    {
     "name": "stdout",
     "output_type": "stream",
     "text": [
      "0\n",
      "1\n",
      "2\n",
      "3\n",
      "4\n",
      "5\n",
      "6\n",
      "7\n",
      "8\n",
      "9\n"
     ]
    }
   ],
   "source": [
    "i = 0\n",
    "while i < 10:\n",
    "    print(i)\n",
    "    i = i + 1"
   ]
  },
  {
   "cell_type": "markdown",
   "id": "18871c14",
   "metadata": {},
   "source": [
    "## Functions\n",
    "In python functions are also objects"
   ]
  },
  {
   "cell_type": "code",
   "execution_count": 48,
   "id": "e766511f",
   "metadata": {},
   "outputs": [
    {
     "name": "stdout",
     "output_type": "stream",
     "text": [
      "Hello\n"
     ]
    },
    {
     "data": {
      "text/plain": [
       "True"
      ]
     },
     "execution_count": 48,
     "metadata": {},
     "output_type": "execute_result"
    }
   ],
   "source": [
    "def display():\n",
    "    print(\"Hello\")\n",
    "display()\n",
    "isinstance(display, object)"
   ]
  },
  {
   "cell_type": "code",
   "execution_count": 31,
   "id": "c0f211c6",
   "metadata": {},
   "outputs": [
    {
     "name": "stdout",
     "output_type": "stream",
     "text": [
      "hello\n"
     ]
    }
   ],
   "source": [
    "def hello():\n",
    "    print(\"hello\")\n",
    "\n",
    "hello()\n",
    "    "
   ]
  },
  {
   "cell_type": "code",
   "execution_count": 32,
   "id": "4239a4e8",
   "metadata": {},
   "outputs": [
    {
     "name": "stdout",
     "output_type": "stream",
     "text": [
      "5\n"
     ]
    }
   ],
   "source": [
    "def add(a,b):\n",
    "    print(a+b)\n",
    "add(2,3)\n",
    "    "
   ]
  },
  {
   "cell_type": "code",
   "execution_count": 33,
   "id": "cee498b0",
   "metadata": {},
   "outputs": [
    {
     "data": {
      "text/plain": [
       "6"
      ]
     },
     "execution_count": 33,
     "metadata": {},
     "output_type": "execute_result"
    }
   ],
   "source": [
    "def multiply(a,b):\n",
    "    return a*b\n",
    "\n",
    "multiply(2,3)"
   ]
  },
  {
   "cell_type": "code",
   "execution_count": 34,
   "id": "40af86c9",
   "metadata": {},
   "outputs": [],
   "source": [
    "def print_penny(name,no=3):\n",
    "    for i in range(no):\n",
    "     print(\"knock knock {}\".format(name))"
   ]
  },
  {
   "cell_type": "code",
   "execution_count": 35,
   "id": "72c2c2e5",
   "metadata": {},
   "outputs": [
    {
     "name": "stdout",
     "output_type": "stream",
     "text": [
      "knock knock penny\n",
      "knock knock penny\n",
      "knock knock penny\n"
     ]
    }
   ],
   "source": [
    "print_penny(\"penny\")"
   ]
  },
  {
   "cell_type": "code",
   "execution_count": 36,
   "id": "4b3bc562",
   "metadata": {},
   "outputs": [
    {
     "name": "stdout",
     "output_type": "stream",
     "text": [
      "knock knock penny\n",
      "knock knock penny\n",
      "knock knock penny\n",
      "knock knock penny\n",
      "knock knock penny\n",
      "knock knock penny\n"
     ]
    }
   ],
   "source": [
    "print_penny(\"penny\", 6)"
   ]
  },
  {
   "cell_type": "code",
   "execution_count": 37,
   "id": "4a8f02fb",
   "metadata": {},
   "outputs": [
    {
     "name": "stdout",
     "output_type": "stream",
     "text": [
      "56\n"
     ]
    }
   ],
   "source": [
    "x = 10                   #global variable\n",
    "def display():\n",
    "    x = 56               #local vaiable\n",
    "    print(x)\n",
    "display()"
   ]
  },
  {
   "cell_type": "code",
   "execution_count": 38,
   "id": "1e634cfd",
   "metadata": {},
   "outputs": [
    {
     "ename": "UnboundLocalError",
     "evalue": "local variable 'x' referenced before assignment",
     "output_type": "error",
     "traceback": [
      "\u001b[1;31m---------------------------------------------------------------------------\u001b[0m",
      "\u001b[1;31mUnboundLocalError\u001b[0m                         Traceback (most recent call last)",
      "\u001b[1;32m~\\AppData\\Local\\Temp/ipykernel_17916/443580624.py\u001b[0m in \u001b[0;36m<module>\u001b[1;34m\u001b[0m\n\u001b[0;32m      3\u001b[0m     \u001b[0mx\u001b[0m \u001b[1;33m+=\u001b[0m \u001b[1;36m5\u001b[0m              \u001b[1;31m# error -> cannot find x in local\u001b[0m\u001b[1;33m\u001b[0m\u001b[1;33m\u001b[0m\u001b[0m\n\u001b[0;32m      4\u001b[0m     \u001b[0mprint\u001b[0m\u001b[1;33m(\u001b[0m\u001b[0mx\u001b[0m\u001b[1;33m)\u001b[0m\u001b[1;33m\u001b[0m\u001b[1;33m\u001b[0m\u001b[0m\n\u001b[1;32m----> 5\u001b[1;33m \u001b[0mdisplay\u001b[0m\u001b[1;33m(\u001b[0m\u001b[1;33m)\u001b[0m\u001b[1;33m\u001b[0m\u001b[1;33m\u001b[0m\u001b[0m\n\u001b[0m",
      "\u001b[1;32m~\\AppData\\Local\\Temp/ipykernel_17916/443580624.py\u001b[0m in \u001b[0;36mdisplay\u001b[1;34m()\u001b[0m\n\u001b[0;32m      1\u001b[0m \u001b[0mx\u001b[0m \u001b[1;33m=\u001b[0m \u001b[1;36m10\u001b[0m\u001b[1;33m\u001b[0m\u001b[1;33m\u001b[0m\u001b[0m\n\u001b[0;32m      2\u001b[0m \u001b[1;32mdef\u001b[0m \u001b[0mdisplay\u001b[0m\u001b[1;33m(\u001b[0m\u001b[1;33m)\u001b[0m\u001b[1;33m:\u001b[0m\u001b[1;33m\u001b[0m\u001b[1;33m\u001b[0m\u001b[0m\n\u001b[1;32m----> 3\u001b[1;33m     \u001b[0mx\u001b[0m \u001b[1;33m+=\u001b[0m \u001b[1;36m5\u001b[0m              \u001b[1;31m# error -> cannot find x in local\u001b[0m\u001b[1;33m\u001b[0m\u001b[1;33m\u001b[0m\u001b[0m\n\u001b[0m\u001b[0;32m      4\u001b[0m     \u001b[0mprint\u001b[0m\u001b[1;33m(\u001b[0m\u001b[0mx\u001b[0m\u001b[1;33m)\u001b[0m\u001b[1;33m\u001b[0m\u001b[1;33m\u001b[0m\u001b[0m\n\u001b[0;32m      5\u001b[0m \u001b[0mdisplay\u001b[0m\u001b[1;33m(\u001b[0m\u001b[1;33m)\u001b[0m\u001b[1;33m\u001b[0m\u001b[1;33m\u001b[0m\u001b[0m\n",
      "\u001b[1;31mUnboundLocalError\u001b[0m: local variable 'x' referenced before assignment"
     ]
    }
   ],
   "source": [
    "x = 10\n",
    "def display():\n",
    "    x += 5              # error -> cannot find x in local\n",
    "    print(x)\n",
    "display()"
   ]
  },
  {
   "cell_type": "code",
   "execution_count": 39,
   "id": "bf11f814",
   "metadata": {},
   "outputs": [
    {
     "name": "stdout",
     "output_type": "stream",
     "text": [
      "15\n"
     ]
    }
   ],
   "source": [
    "x=10\n",
    "def display():\n",
    "    global x\n",
    "    x+=5\n",
    "    print(x)\n",
    "display()"
   ]
  },
  {
   "cell_type": "code",
   "execution_count": 40,
   "id": "992309e6",
   "metadata": {},
   "outputs": [
    {
     "name": "stdout",
     "output_type": "stream",
     "text": [
      "<class 'tuple'>\n",
      "(1, 2, 3, 'Abhi')\n"
     ]
    }
   ],
   "source": [
    "def display(*args):      # here args will be referred as tuple\n",
    "    print(type(args))\n",
    "    print(args)\n",
    "display(1,2,3, \"Abhi\")"
   ]
  },
  {
   "cell_type": "code",
   "execution_count": 41,
   "id": "3e98da54",
   "metadata": {},
   "outputs": [
    {
     "name": "stdout",
     "output_type": "stream",
     "text": [
      "(3, 'abhi')\n"
     ]
    }
   ],
   "source": [
    "def display(a, b, *args):\n",
    "    print(args)\n",
    "display(1,2,3,\"abhi\") # packed arguments"
   ]
  },
  {
   "cell_type": "code",
   "execution_count": 42,
   "id": "b340409e",
   "metadata": {},
   "outputs": [
    {
     "name": "stdout",
     "output_type": "stream",
     "text": [
      "{'name': 'Abhi', 'age': '18'}\n"
     ]
    }
   ],
   "source": [
    "def display(**kwargs):  # this indicates that kwargs in a dictionary\n",
    "    print(kwargs)\n",
    "display(name=\"Abhi\", age=\"18\")"
   ]
  },
  {
   "cell_type": "code",
   "execution_count": 43,
   "id": "b85aa971",
   "metadata": {},
   "outputs": [
    {
     "name": "stdout",
     "output_type": "stream",
     "text": [
      "10\n"
     ]
    }
   ],
   "source": [
    "#lambda functions -> short notation for writing python functions \n",
    "fun = lambda a: print(a)\n",
    "fun(a)"
   ]
  },
  {
   "cell_type": "code",
   "execution_count": 44,
   "id": "451826a0",
   "metadata": {},
   "outputs": [
    {
     "name": "stdout",
     "output_type": "stream",
     "text": [
      "6\n"
     ]
    }
   ],
   "source": [
    "fun = lambda a,b: print(a*b)\n",
    "fun(2,3)"
   ]
  },
  {
   "cell_type": "markdown",
   "id": "ccbda107",
   "metadata": {},
   "source": [
    "## Map function\n",
    "This function takes 2 arguments. 1st - a function, 2nd - a iterable value like list.\n",
    "<br>\n",
    "- applies a given function to each element of iterable "
   ]
  },
  {
   "cell_type": "code",
   "execution_count": 45,
   "id": "1797d92b",
   "metadata": {},
   "outputs": [
    {
     "data": {
      "text/plain": [
       "[2, 4, 6, 8, 10]"
      ]
     },
     "execution_count": 45,
     "metadata": {},
     "output_type": "execute_result"
    }
   ],
   "source": [
    "a = [1,2,3,4,5]\n",
    "def increment(x):\n",
    "    return 2*x\n",
    "\n",
    "list(map(increment,a))"
   ]
  },
  {
   "cell_type": "code",
   "execution_count": 49,
   "id": "59ea3ac3",
   "metadata": {},
   "outputs": [
    {
     "data": {
      "text/plain": [
       "[1, 4, 9, 16, 25]"
      ]
     },
     "execution_count": 49,
     "metadata": {},
     "output_type": "execute_result"
    }
   ],
   "source": [
    "a = [1,2,3,4,5]\n",
    "list(map(lambda x:x*x,a))"
   ]
  },
  {
   "cell_type": "markdown",
   "id": "cb4ac8cc",
   "metadata": {},
   "source": [
    "## Filter Functions \n",
    "This function takes 2 arguments. 1st - a function, 2nd - a iterable value like list.\n",
    "<br>\n",
    "- it return only those values from the iterable for which the action function returns true"
   ]
  },
  {
   "cell_type": "code",
   "execution_count": 50,
   "id": "66c0880c",
   "metadata": {},
   "outputs": [
    {
     "data": {
      "text/plain": [
       "[1, 3, 5, 7]"
      ]
     },
     "execution_count": 50,
     "metadata": {},
     "output_type": "execute_result"
    }
   ],
   "source": [
    "a = [1,2,3,4,5,6,7]\n",
    "def only_odd(item):\n",
    "    if item%2 != 0:\n",
    "        return True\n",
    "    else:\n",
    "        return False\n",
    "\n",
    "list(filter(only_odd, a))"
   ]
  },
  {
   "cell_type": "markdown",
   "id": "f71a8abd",
   "metadata": {},
   "source": [
    "## Zip function\n",
    "This function takes 2 or more than 2 arguments. All iterables(either same or differnt).\n",
    "<br>\n",
    "- It take 2 iterables and zip them together by grabing the first item of 1st iterable and first item of 2nd iterable and zipping them together in a tuple. Similarly goes for other items also"
   ]
  },
  {
   "cell_type": "code",
   "execution_count": 51,
   "id": "f8d44691",
   "metadata": {},
   "outputs": [
    {
     "data": {
      "text/plain": [
       "[(1, 5), (2, 6), (3, 7), (4, 8)]"
      ]
     },
     "execution_count": 51,
     "metadata": {},
     "output_type": "execute_result"
    }
   ],
   "source": [
    "list_one = [1,2,3,4]\n",
    "list_two = [5,6,7,8]\n",
    "list(zip(list_one, list_two))"
   ]
  },
  {
   "cell_type": "code",
   "execution_count": 53,
   "id": "fbc4693e",
   "metadata": {},
   "outputs": [
    {
     "data": {
      "text/plain": [
       "[(1, 5), (2, 6), (3, 7), (4, 8)]"
      ]
     },
     "execution_count": 53,
     "metadata": {},
     "output_type": "execute_result"
    }
   ],
   "source": [
    "list_one = [1,2,3,4]\n",
    "tuple_one = (5,6,7,8)\n",
    "list(zip(list_one, tuple_one))"
   ]
  },
  {
   "cell_type": "code",
   "execution_count": 54,
   "id": "a9ea66a1",
   "metadata": {},
   "outputs": [
    {
     "data": {
      "text/plain": [
       "[(1, 5, 9), (2, 6, 10), (3, 7, 11), (4, 8, 12)]"
      ]
     },
     "execution_count": 54,
     "metadata": {},
     "output_type": "execute_result"
    }
   ],
   "source": [
    "list_one = [1,2,3,4]\n",
    "tuple_one = (5,6,7,8)\n",
    "list_two = [9,10,11,12]\n",
    "list(zip(list_one, tuple_one, list_two))"
   ]
  },
  {
   "cell_type": "code",
   "execution_count": null,
   "id": "96f530a4",
   "metadata": {},
   "outputs": [],
   "source": []
  }
 ],
 "metadata": {
  "kernelspec": {
   "display_name": "Python 3 (ipykernel)",
   "language": "python",
   "name": "python3"
  },
  "language_info": {
   "codemirror_mode": {
    "name": "ipython",
    "version": 3
   },
   "file_extension": ".py",
   "mimetype": "text/x-python",
   "name": "python",
   "nbconvert_exporter": "python",
   "pygments_lexer": "ipython3",
   "version": "3.10.1"
  }
 },
 "nbformat": 4,
 "nbformat_minor": 5
}
