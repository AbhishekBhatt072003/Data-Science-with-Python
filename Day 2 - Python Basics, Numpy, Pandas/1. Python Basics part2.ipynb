{
 "cells": [
  {
   "cell_type": "markdown",
   "id": "dd53e245",
   "metadata": {},
   "source": [
    "## Lists\n",
    "List is a type of datastructure in python. It can be used to hold the differnt items together under a same name of the variable.\n",
    "<br>\n",
    "- List is just like arrays but unlike arrays like can hold different datatype in it,\n",
    "- Item are stored in continous memory location.\n",
    "- List is donoted by squares bracket []\n",
    "- item inside list can be accessed using the index like in case of strings"
   ]
  },
  {
   "cell_type": "code",
   "execution_count": 1,
   "id": "7330a0ba",
   "metadata": {},
   "outputs": [
    {
     "name": "stdout",
     "output_type": "stream",
     "text": [
      "[1, 2, 3, 4, 5]\n",
      "['a', 'd', 'f', 'g']\n",
      "[1, 2, 3, 4, 'a', 'b', 'abc', True]\n"
     ]
    }
   ],
   "source": [
    "li = [1,2,3,4,5]\n",
    "li2 = ['a', 'd','f','g']\n",
    "li3 = [1,2,3,4,'a','b','abc', True] # can hold different type of data\n",
    "print(li)\n",
    "print(li2)\n",
    "print(li3)"
   ]
  },
  {
   "cell_type": "code",
   "execution_count": 2,
   "id": "93aa76dd",
   "metadata": {},
   "outputs": [
    {
     "name": "stdout",
     "output_type": "stream",
     "text": [
      "1 abc True\n"
     ]
    }
   ],
   "source": [
    "print(li3[0], li3[6], li3[7])"
   ]
  },
  {
   "cell_type": "code",
   "execution_count": 3,
   "id": "2f885187",
   "metadata": {},
   "outputs": [
    {
     "name": "stdout",
     "output_type": "stream",
     "text": [
      "[1, 2, 3, 4, 5]\n",
      "[6, 7, 8, 9]\n",
      "[1, 3, 5, 7]\n",
      "[1, 3, 5, 7, 9]\n",
      "8\n",
      "[9, 7, 5, 3, 1]\n",
      "[9, 8, 7, 6, 5, 4, 3, 2, 1]\n"
     ]
    }
   ],
   "source": [
    "# Just like strings, slicing can also be performed at lists \n",
    "my_list = [1,2,3,4,5,6,7,8,9]\n",
    "print(my_list[0:5])\n",
    "print(my_list[5:])\n",
    "print(my_list[0:7:2])\n",
    "print(my_list[::2])\n",
    "print(my_list[-2])\n",
    "print(my_list[::-2])\n",
    "print(my_list[::-1])"
   ]
  },
  {
   "cell_type": "markdown",
   "id": "64c22f0b",
   "metadata": {},
   "source": [
    "- List are mutable i.e we can change the list item after first we assign them\n",
    "- List slicing creates a new list which can be stored in any other new list\n",
    "- But assigning a list to another list does not create a copy of that list. Instead it pass the reference of the old list to the new one,"
   ]
  },
  {
   "cell_type": "code",
   "execution_count": 4,
   "id": "5ee7a296",
   "metadata": {},
   "outputs": [
    {
     "name": "stdout",
     "output_type": "stream",
     "text": [
      "['laptop', 'macbook', 'iPhone', 'grocery']\n",
      "['laptop', 'macbook', 'iPhone']\n",
      "['headphone', 'macbook', 'iPhone']\n",
      "['laptop', 'macbook', 'iPhone', 'grocery']\n",
      "['ipad', 'macbook', 'iPhone', 'grocery']\n",
      "['ipad', 'macbook', 'iPhone', 'grocery']\n"
     ]
    }
   ],
   "source": [
    "amazon_cart = [\"laptop\", \"macbook\", \"iPhone\", \"grocery\"]\n",
    "print(amazon_cart)\n",
    "new_cart = amazon_cart[0:3]\n",
    "print(new_cart)\n",
    "new_cart[0] = \"headphone\"   # list mutability\n",
    "print(new_cart)\n",
    "another_cart = amazon_cart  # passing the reference of the amazon_cart to the another_cart\n",
    "print(another_cart)    \n",
    "another_cart[0] = \"ipad\"    # any changes made to another_cart will reflects in amazon_cart\n",
    "print(another_cart)\n",
    "print(amazon_cart)"
   ]
  },
  {
   "cell_type": "code",
   "execution_count": 5,
   "id": "d0406224",
   "metadata": {},
   "outputs": [
    {
     "data": {
      "text/plain": [
       "True"
      ]
     },
     "execution_count": 5,
     "metadata": {},
     "output_type": "execute_result"
    }
   ],
   "source": [
    "li = [2,4,6,8,9]    # list is also a object\n",
    "isinstance(li, object)"
   ]
  },
  {
   "cell_type": "code",
   "execution_count": 6,
   "id": "d0327965",
   "metadata": {},
   "outputs": [
    {
     "name": "stdout",
     "output_type": "stream",
     "text": [
      "[[1, 2, 3], [4, 5, 6], ['a', 'b', 'c']]\n"
     ]
    }
   ],
   "source": [
    "#matrix -> list inside list (can be consider as 2-D list just like 2-D arrays)\n",
    "matrix = [\n",
    "    [1,2,3],\n",
    "    [4,5,6],\n",
    "    ['a','b','c']\n",
    "]\n",
    "print(matrix)"
   ]
  },
  {
   "cell_type": "code",
   "execution_count": 7,
   "id": "5cede986",
   "metadata": {},
   "outputs": [
    {
     "name": "stdout",
     "output_type": "stream",
     "text": [
      "6\n",
      "[1, 2, 3, 'a', 'b', 'c', 45]\n",
      "3\n",
      "[1, 2, 3, 98, 'a', 'b', 'c', 45]\n",
      "[45, 'c', 'b', 'a', 98, 3, 2, 1]\n",
      "[45, 'c', 'b', 'a', 98, 3, 2]\n",
      "[45, 'c', 'b', 98, 3, 2]\n",
      "[]\n"
     ]
    }
   ],
   "source": [
    "# List methods \n",
    "my_list = [1,2,3,'a','b','c']\n",
    "print(len(my_list))     # return number of item in list\n",
    "\n",
    "my_list.append(45)      # add a item to the end of the list\n",
    "print(my_list)\n",
    "\n",
    "print(my_list.index('a')) # return the first index of the element\n",
    "\n",
    "my_list.insert(3,98)    # insert a element at specified position\n",
    "print(my_list)\n",
    "\n",
    "my_list.reverse()       # reverse the list\n",
    "print(my_list)\n",
    "\n",
    "my_list.pop()           # remove the last element from the list and returns it \n",
    "print(my_list)\n",
    "\n",
    "my_list.remove('a')     # remove the elemet from the list but does not return anything\n",
    "print(my_list)\n",
    "\n",
    "my_list.clear()         # remove all the elements form the list\n",
    "print(my_list)"
   ]
  },
  {
   "cell_type": "code",
   "execution_count": 8,
   "id": "1372302a",
   "metadata": {},
   "outputs": [
    {
     "name": "stdout",
     "output_type": "stream",
     "text": [
      "[-59, -4, 0, 1, 2, 45, 59, 69, 78, 100]\n"
     ]
    }
   ],
   "source": [
    "number_list = [45,78,1,59,2,69,100,-4,-59,0]\n",
    "number_list.sort()      # sort the list in the asscending order\n",
    "print(number_list)"
   ]
  },
  {
   "cell_type": "markdown",
   "id": "81134674",
   "metadata": {},
   "source": [
    "#### Common list pattern"
   ]
  },
  {
   "cell_type": "code",
   "execution_count": 9,
   "id": "ababcd16",
   "metadata": {},
   "outputs": [
    {
     "name": "stdout",
     "output_type": "stream",
     "text": [
      "['a', 'c', 'g', 'p', 'x', 'y', 'z']\n",
      "['z', 'y', 'x', 'p', 'g', 'c', 'a']\n",
      "@\n",
      "hi@my@name@is@Beast\n"
     ]
    }
   ],
   "source": [
    "basket = ['a', 'c', 'z', 'g', 'x', 'p', 'y']\n",
    "basket.sort()\n",
    "print(basket)\n",
    "\n",
    "print(basket[::-1])      # reversing the list\n",
    "\n",
    "\n",
    "sentence = \"@\"\n",
    "new_sentence = sentence.join([\"hi\", \"my\", \"name\", \"is\", \"Beast\"])\n",
    "print(sentence)\n",
    "print(new_sentence)"
   ]
  },
  {
   "cell_type": "code",
   "execution_count": 10,
   "id": "cc6ced00",
   "metadata": {},
   "outputs": [
    {
     "name": "stdout",
     "output_type": "stream",
     "text": [
      "a b c 4\n"
     ]
    }
   ],
   "source": [
    "# Unpacking a list\n",
    "my_list = [\"a\", \"b\", \"c\", 4]\n",
    "a,b,c,d = my_list\n",
    "print(a,b,c,d)"
   ]
  },
  {
   "cell_type": "markdown",
   "id": "6ef66157",
   "metadata": {},
   "source": [
    "## Tuple\n",
    "They are like read-only lists. We use them to store a list of items. But once we\n",
    "define a tuple, we cannot add or remove items or change the existing items.\n",
    "\n",
    "- they are denoted by round bracket ()\n",
    "- can't be modified i.e immutable\n"
   ]
  },
  {
   "cell_type": "code",
   "execution_count": 11,
   "id": "7162e501",
   "metadata": {},
   "outputs": [
    {
     "name": "stdout",
     "output_type": "stream",
     "text": [
      "(1, 2, 3)\n",
      "(1, 2)\n",
      "(3, 2, 1)\n"
     ]
    }
   ],
   "source": [
    "coordinates = (1,2,3)\n",
    "print(coordinates)\n",
    "\n",
    "print(coordinates[0:2])\n",
    "print(coordinates[::-1])"
   ]
  },
  {
   "cell_type": "code",
   "execution_count": 12,
   "id": "26e9e6ac",
   "metadata": {},
   "outputs": [
    {
     "name": "stdout",
     "output_type": "stream",
     "text": [
      "True\n"
     ]
    }
   ],
   "source": [
    "print(3 in coordinates)"
   ]
  },
  {
   "cell_type": "code",
   "execution_count": 13,
   "id": "3a85c351",
   "metadata": {},
   "outputs": [
    {
     "name": "stdout",
     "output_type": "stream",
     "text": [
      "11 89\n",
      "89 11\n"
     ]
    }
   ],
   "source": [
    "# Swaping two values using tuple\n",
    "x = 11 \n",
    "y = 89\n",
    "print(x,y)\n",
    "x , y = y, x\n",
    "print(x,y)"
   ]
  },
  {
   "cell_type": "code",
   "execution_count": 14,
   "id": "5eafecd0",
   "metadata": {},
   "outputs": [
    {
     "name": "stdout",
     "output_type": "stream",
     "text": [
      "45 12 36\n",
      "[100, 498, -98]\n"
     ]
    }
   ],
   "source": [
    "# Unpacking a tuple\n",
    "point = (45,12,36, 100, 498, -98)\n",
    "x,y,z,*other = point\n",
    "print(x,y,z)\n",
    "\n",
    "print(other)"
   ]
  },
  {
   "cell_type": "code",
   "execution_count": 15,
   "id": "ffda4833",
   "metadata": {},
   "outputs": [
    {
     "name": "stdout",
     "output_type": "stream",
     "text": [
      "12\n",
      "3\n"
     ]
    }
   ],
   "source": [
    "# Tuple methods \n",
    "my_tuple = (1,2,3,4,1,2,4,8,9,4,6,7)\n",
    "print(len(my_tuple))     # return the number of items in tuple\n",
    "print(my_tuple.count(4))     # return how many times 4 occures in tuple"
   ]
  },
  {
   "cell_type": "code",
   "execution_count": 16,
   "id": "a1def27d",
   "metadata": {},
   "outputs": [
    {
     "name": "stdout",
     "output_type": "stream",
     "text": [
      "8\n"
     ]
    }
   ],
   "source": [
    "print(my_tuple.index(9)) # return the first index of an element from the tuple"
   ]
  },
  {
   "cell_type": "markdown",
   "id": "5923638b",
   "metadata": {},
   "source": [
    "## Sets\n",
    "unordered collections of unique objects \n",
    "- can not contain duplicates\n",
    "- set object do not support indexing\n"
   ]
  },
  {
   "cell_type": "code",
   "execution_count": 17,
   "id": "f7e003c7",
   "metadata": {},
   "outputs": [
    {
     "name": "stdout",
     "output_type": "stream",
     "text": [
      "{1, 2, 3, 4, 5}\n"
     ]
    }
   ],
   "source": [
    "my_set = {1,2,3,4,5}\n",
    "print(my_set)"
   ]
  },
  {
   "cell_type": "code",
   "execution_count": 18,
   "id": "2ce5b15c",
   "metadata": {},
   "outputs": [
    {
     "name": "stdout",
     "output_type": "stream",
     "text": [
      "{1, 2, 5, 6, 8}\n"
     ]
    }
   ],
   "source": [
    "my_set = {1,1,2,5,6,8,5}  # remove duplicates \n",
    "print(my_set)"
   ]
  },
  {
   "cell_type": "code",
   "execution_count": 19,
   "id": "d9d9a903",
   "metadata": {},
   "outputs": [
    {
     "name": "stdout",
     "output_type": "stream",
     "text": [
      "{1, 2, 3, 4, 5, 6}\n"
     ]
    }
   ],
   "source": [
    "my_list = [1,2,3,4,4,5,6,5]\n",
    "my_set = set(my_list)\n",
    "print(my_set)"
   ]
  },
  {
   "cell_type": "code",
   "execution_count": 20,
   "id": "6f16be7f",
   "metadata": {},
   "outputs": [
    {
     "name": "stdout",
     "output_type": "stream",
     "text": [
      "{3, 4, 8, 9, 12, 45}\n",
      "True\n",
      "6\n",
      "{3, 4, 888, 8, 9, 12, 45}\n",
      "True\n",
      "set()\n"
     ]
    }
   ],
   "source": [
    "my_set = { 12,3,4,8,9,45,4}\n",
    "print(my_set)\n",
    "print(12 in my_set)\n",
    "print(len(my_set))\n",
    "my_set.add(888)\n",
    "print(my_set)\n",
    "print(isinstance(set, object))\n",
    "my_set.clear()\n",
    "print(my_set)\n"
   ]
  },
  {
   "cell_type": "markdown",
   "id": "4dd9359e",
   "metadata": {},
   "source": [
    "## Dictionary\n",
    "It is Datastructure in python. We use dictionaries to store unordered key/value pairs.\n",
    "- it is denote by dict keyword\n",
    "- it has the following structure dictionary_name = { key1:value , key2:value}\n",
    "- items inside the dictionary are not stored in contigious memory location, ie the items are scattered inside the memory.  "
   ]
  },
  {
   "cell_type": "code",
   "execution_count": 21,
   "id": "ac785ef5",
   "metadata": {},
   "outputs": [
    {
     "name": "stdout",
     "output_type": "stream",
     "text": [
      "{'a': 1, 'b': 2}\n"
     ]
    }
   ],
   "source": [
    "dictionary = {\n",
    "    'a':1,\n",
    "    'b':2\n",
    "}\n",
    "\n",
    "print(dictionary)"
   ]
  },
  {
   "cell_type": "code",
   "execution_count": 22,
   "id": "02a1bfb1",
   "metadata": {},
   "outputs": [
    {
     "name": "stdout",
     "output_type": "stream",
     "text": [
      "{'a': [1, 2, 3], 'b': 'helllo', 'c': True, 'd': {1, 2, 3}, 123: [1, 2, 3]}\n"
     ]
    }
   ],
   "source": [
    "dictionary2 = {\n",
    "    'a':[1,2,3],\n",
    "    'b': \"helllo\",\n",
    "    'c': True,\n",
    "    'd':{1,2,3},\n",
    "    123:[1,2,3]              \n",
    "}\n",
    "print(dictionary2)"
   ]
  },
  {
   "cell_type": "code",
   "execution_count": 23,
   "id": "8b05a669",
   "metadata": {},
   "outputs": [
    {
     "name": "stdout",
     "output_type": "stream",
     "text": [
      "1\n",
      "2\n"
     ]
    }
   ],
   "source": [
    "# accessing dictionary items \n",
    "print(dictionary['a'])\n",
    "print(dictionary['b'])"
   ]
  },
  {
   "cell_type": "code",
   "execution_count": 24,
   "id": "666e081b",
   "metadata": {},
   "outputs": [
    {
     "name": "stdout",
     "output_type": "stream",
     "text": [
      "[1, 2, 3]\n",
      "3\n"
     ]
    }
   ],
   "source": [
    "print(dictionary2['a'])\n",
    "print(dictionary2['a'][2])"
   ]
  },
  {
   "cell_type": "code",
   "execution_count": 25,
   "id": "e2aef6b4",
   "metadata": {},
   "outputs": [
    {
     "name": "stdout",
     "output_type": "stream",
     "text": [
      "{1, 2, 3}\n"
     ]
    }
   ],
   "source": [
    "print(dictionary2['d'])"
   ]
  },
  {
   "cell_type": "code",
   "execution_count": 26,
   "id": "57b3cc1a",
   "metadata": {},
   "outputs": [
    {
     "name": "stdout",
     "output_type": "stream",
     "text": [
      "[1, 2, 3]\n"
     ]
    }
   ],
   "source": [
    "print(dictionary2[123])"
   ]
  },
  {
   "cell_type": "markdown",
   "id": "dd2e9992",
   "metadata": {},
   "source": [
    "### properties of a dictionary keys\n",
    "- dictionary keys can be anything that is immutable. Ex - strings, numbers , tuple.\n",
    "- key has to be unique"
   ]
  },
  {
   "cell_type": "code",
   "execution_count": 27,
   "id": "a92a6233",
   "metadata": {},
   "outputs": [
    {
     "name": "stdout",
     "output_type": "stream",
     "text": [
      "{'abc': ['helllo'], 123: {1, 2, 3}, (1, 2, 3): (1, 2, 3)}\n",
      "(1, 2, 3)\n"
     ]
    }
   ],
   "source": [
    "dict1 = {\n",
    "    \"abc\" : [\"helllo\"],\n",
    "    123: {1,2,3},\n",
    "    (1,2,3) : (1,2,3)\n",
    "}\n",
    "print(dict1)\n",
    "print(dict1[(1,2,3)])"
   ]
  },
  {
   "cell_type": "code",
   "execution_count": 28,
   "id": "6fa2284d",
   "metadata": {},
   "outputs": [
    {
     "data": {
      "text/plain": [
       "True"
      ]
     },
     "execution_count": 28,
     "metadata": {},
     "output_type": "execute_result"
    }
   ],
   "source": [
    "isinstance(dict1, object) # dict is also a object"
   ]
  },
  {
   "cell_type": "code",
   "execution_count": 29,
   "id": "002a47c6",
   "metadata": {},
   "outputs": [
    {
     "name": "stdout",
     "output_type": "stream",
     "text": [
      "None\n",
      "55\n"
     ]
    }
   ],
   "source": [
    "# Dict methods \n",
    "user = {\n",
    "    \"basket\" : [1,2,3],\n",
    "    \"greet\" : 'hello'\n",
    "}\n",
    "\n",
    "print(user.get('age'))     # check whether dict contains age key or not\n",
    "print(user.get('age', 55)) # tell dict that if dict contains age key then print its original value else give age a default value as 55"
   ]
  },
  {
   "cell_type": "code",
   "execution_count": 30,
   "id": "ff1bbc2a",
   "metadata": {},
   "outputs": [
    {
     "name": "stdout",
     "output_type": "stream",
     "text": [
      "{'name': 'John', 'age': 55}\n"
     ]
    }
   ],
   "source": [
    "user2 = dict(name=\"John\",age = 55)     # other way to create a dictionary using built-in function dict\n",
    "print(user2)"
   ]
  },
  {
   "cell_type": "code",
   "execution_count": 31,
   "id": "fc0910c6",
   "metadata": {},
   "outputs": [
    {
     "name": "stdout",
     "output_type": "stream",
     "text": [
      "True\n",
      "False\n"
     ]
    }
   ],
   "source": [
    " user = {\n",
    "    \"basket\" : [1,2,3],\n",
    "    \"greet\" : 'hello',\n",
    "     \"age\": 20\n",
    "}\n",
    "print(\"greet\" in user.keys())              # .keys() check for the respective keys in dict\n",
    "print(\"phone\" in user.keys())"
   ]
  },
  {
   "cell_type": "code",
   "execution_count": 32,
   "id": "ad9d44c5",
   "metadata": {},
   "outputs": [
    {
     "name": "stdout",
     "output_type": "stream",
     "text": [
      "dict_items([('basket', [1, 2, 3]), ('greet', 'hello'), ('age', 20)])\n"
     ]
    }
   ],
   "source": [
    "print(user.items())                         # check all the items in the dict"
   ]
  },
  {
   "cell_type": "code",
   "execution_count": 33,
   "id": "1d6dec80",
   "metadata": {},
   "outputs": [
    {
     "name": "stdout",
     "output_type": "stream",
     "text": [
      "{'basket': [1, 2, 3], 'greet': 'hello', 'age': 55}\n"
     ]
    }
   ],
   "source": [
    "user.update({'age': 55})          #updates the existing key from the dict. If the key is not present from the before then it adds the the key:value to that dictionary\n",
    "print(user)"
   ]
  },
  {
   "cell_type": "code",
   "execution_count": 34,
   "id": "9d6a57ea",
   "metadata": {},
   "outputs": [
    {
     "name": "stdout",
     "output_type": "stream",
     "text": [
      "{'basket': [1, 2, 3], 'greet': 'hello', 'age': 55}\n"
     ]
    }
   ],
   "source": [
    "user3 = user.copy()                       # print one dictionary into another\n",
    "print(user3)"
   ]
  },
  {
   "cell_type": "code",
   "execution_count": 35,
   "id": "0bb2b4a0",
   "metadata": {},
   "outputs": [
    {
     "name": "stdout",
     "output_type": "stream",
     "text": [
      "{}\n"
     ]
    }
   ],
   "source": [
    "user.clear()                      #emptys the dictionnary\n",
    "print(user)"
   ]
  },
  {
   "cell_type": "code",
   "execution_count": 36,
   "id": "2275c172",
   "metadata": {},
   "outputs": [
    {
     "name": "stdout",
     "output_type": "stream",
     "text": [
      "{'basket': [1, 2, 3], 'greet': 'hello'}\n"
     ]
    }
   ],
   "source": [
    "user3.pop('age')     # delete a key-value pair from the dictionary based on the key passed and returns it.\n",
    "print(user3)"
   ]
  },
  {
   "cell_type": "code",
   "execution_count": 37,
   "id": "993bfd9a",
   "metadata": {},
   "outputs": [
    {
     "name": "stdout",
     "output_type": "stream",
     "text": [
      "{'basket': [1, 2, 3]}\n"
     ]
    }
   ],
   "source": [
    "user3.popitem()    # delete some pair from the dictionary randomly as dict in unordered \n",
    "print(user3)"
   ]
  },
  {
   "cell_type": "markdown",
   "id": "8f3b03d4",
   "metadata": {},
   "source": [
    "## List, Sets and Dictionary comprehensions\n",
    "python provides us an easy way to create a list set or dict without looping or something"
   ]
  },
  {
   "cell_type": "code",
   "execution_count": 38,
   "id": "8d9f8466",
   "metadata": {},
   "outputs": [
    {
     "name": "stdout",
     "output_type": "stream",
     "text": [
      "['h', 'e', 'l', 'l', 'o']\n"
     ]
    }
   ],
   "source": [
    "li = [char for char in 'hello']\n",
    "print(li)\n",
    "\n"
   ]
  },
  {
   "cell_type": "code",
   "execution_count": 39,
   "id": "4eb47f02",
   "metadata": {},
   "outputs": [
    {
     "name": "stdout",
     "output_type": "stream",
     "text": [
      "[0, 1, 2, 3, 4, 5, 6, 7, 8, 9, 10, 11, 12, 13, 14, 15, 16, 17, 18, 19, 20, 21, 22, 23, 24, 25, 26, 27, 28, 29, 30, 31, 32, 33, 34, 35, 36, 37, 38, 39, 40, 41, 42, 43, 44, 45, 46, 47, 48, 49, 50, 51, 52, 53, 54, 55, 56, 57, 58, 59, 60, 61, 62, 63, 64, 65, 66, 67, 68, 69, 70, 71, 72, 73, 74, 75, 76, 77, 78, 79, 80, 81, 82, 83, 84, 85, 86, 87, 88, 89, 90, 91, 92, 93, 94, 95, 96, 97, 98, 99]\n"
     ]
    }
   ],
   "source": [
    "li2 = [num for num in range(0,100)]\n",
    "print(li2)"
   ]
  },
  {
   "cell_type": "code",
   "execution_count": 40,
   "id": "65a250d9",
   "metadata": {},
   "outputs": [
    {
     "name": "stdout",
     "output_type": "stream",
     "text": [
      "[0, 2, 4, 6, 8, 10, 12, 14, 16, 18]\n"
     ]
    }
   ],
   "source": [
    "li3 = [num*2 for num in range(0,10)]\n",
    "print(li3)"
   ]
  },
  {
   "cell_type": "code",
   "execution_count": 41,
   "id": "f3c18792",
   "metadata": {},
   "outputs": [
    {
     "name": "stdout",
     "output_type": "stream",
     "text": [
      "[0, 2, 4, 6, 8, 10, 12, 14, 16, 18, 20, 22, 24, 26, 28, 30, 32, 34, 36, 38, 40, 42, 44, 46, 48, 50, 52, 54, 56, 58, 60, 62, 64, 66, 68, 70, 72, 74, 76, 78, 80, 82, 84, 86, 88, 90, 92, 94, 96, 98]\n"
     ]
    }
   ],
   "source": [
    "li4 = [num for num in range(0,100) if num%2==0]\n",
    "print(li4)"
   ]
  },
  {
   "cell_type": "code",
   "execution_count": 42,
   "id": "fe2bcea0",
   "metadata": {},
   "outputs": [
    {
     "name": "stdout",
     "output_type": "stream",
     "text": [
      "{128, 129, 130, 131, 132, 133, 134, 135, 136, 137, 138, 139, 140, 141, 142, 143, 144, 145, 146, 147, 148, 149, 100, 101, 102, 103, 104, 105, 106, 107, 108, 109, 110, 111, 112, 113, 114, 115, 116, 117, 118, 119, 120, 121, 122, 123, 124, 125, 126, 127}\n"
     ]
    }
   ],
   "source": [
    "set1 = {num for num in range(100,150)}\n",
    "print(set1)"
   ]
  },
  {
   "cell_type": "code",
   "execution_count": 43,
   "id": "17d4a048",
   "metadata": {},
   "outputs": [
    {
     "name": "stdout",
     "output_type": "stream",
     "text": [
      "{'a': 1, 'b': 4, 'c': 9}\n"
     ]
    }
   ],
   "source": [
    "simple_dict = {\n",
    "    'a':1,\n",
    "    'b':2,\n",
    "    'c':3\n",
    "}\n",
    "comprehensive_dict = {key:value**2 for key,value in simple_dict.items()}\n",
    "print(comprehensive_dict)"
   ]
  },
  {
   "cell_type": "code",
   "execution_count": 44,
   "id": "6fa128cf",
   "metadata": {},
   "outputs": [
    {
     "name": "stdout",
     "output_type": "stream",
     "text": [
      "{'b': 4}\n"
     ]
    }
   ],
   "source": [
    "comprehensive_dict2 = {key:value**2 for key,value in simple_dict.items() if value%2 ==0}\n",
    "print(comprehensive_dict2)"
   ]
  },
  {
   "cell_type": "code",
   "execution_count": 45,
   "id": "732d00d5",
   "metadata": {},
   "outputs": [
    {
     "name": "stdout",
     "output_type": "stream",
     "text": [
      "{1: 2, 2: 4, 3: 6, 4: 8}\n"
     ]
    }
   ],
   "source": [
    "comprehensive_dict3 = {num:num*2 for num in [1,2,3,4]}\n",
    "print(comprehensive_dict3)"
   ]
  },
  {
   "cell_type": "code",
   "execution_count": null,
   "id": "4f65e05c",
   "metadata": {},
   "outputs": [],
   "source": []
  }
 ],
 "metadata": {
  "kernelspec": {
   "display_name": "Python 3 (ipykernel)",
   "language": "python",
   "name": "python3"
  },
  "language_info": {
   "codemirror_mode": {
    "name": "ipython",
    "version": 3
   },
   "file_extension": ".py",
   "mimetype": "text/x-python",
   "name": "python",
   "nbconvert_exporter": "python",
   "pygments_lexer": "ipython3",
   "version": "3.10.1"
  }
 },
 "nbformat": 4,
 "nbformat_minor": 5
}
