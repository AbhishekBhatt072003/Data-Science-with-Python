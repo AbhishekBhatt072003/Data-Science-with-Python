{
 "cells": [
  {
   "cell_type": "markdown",
   "id": "1f15861f",
   "metadata": {},
   "source": [
    "## File Handling"
   ]
  },
  {
   "cell_type": "markdown",
   "id": "63fdda20",
   "metadata": {},
   "source": [
    "### Opeaning the file "
   ]
  },
  {
   "cell_type": "code",
   "execution_count": 3,
   "id": "526509ed",
   "metadata": {},
   "outputs": [],
   "source": [
    "file = open('file.txt', 'r')"
   ]
  },
  {
   "cell_type": "code",
   "execution_count": 4,
   "id": "1b1bbb48",
   "metadata": {},
   "outputs": [
    {
     "data": {
      "text/plain": [
       "'Helllo, You just opeaned a file.'"
      ]
     },
     "execution_count": 4,
     "metadata": {},
     "output_type": "execute_result"
    }
   ],
   "source": [
    "file.read()"
   ]
  },
  {
   "cell_type": "code",
   "execution_count": 5,
   "id": "8d10b650",
   "metadata": {},
   "outputs": [],
   "source": [
    "file.close()"
   ]
  },
  {
   "cell_type": "markdown",
   "id": "79d06eac",
   "metadata": {},
   "source": [
    "### Writing a file"
   ]
  },
  {
   "cell_type": "code",
   "execution_count": 9,
   "id": "984b968b",
   "metadata": {},
   "outputs": [],
   "source": [
    "file = open('file.txt', 'w')\n",
    "file.write(\"you wrote into a file and deleted the pervious material\")\n",
    "file.close()"
   ]
  },
  {
   "cell_type": "markdown",
   "id": "e049090a",
   "metadata": {},
   "source": [
    "### Appending the file"
   ]
  },
  {
   "cell_type": "code",
   "execution_count": 10,
   "id": "6aacc8a2",
   "metadata": {},
   "outputs": [
    {
     "data": {
      "text/plain": [
       "38"
      ]
     },
     "execution_count": 10,
     "metadata": {},
     "output_type": "execute_result"
    }
   ],
   "source": [
    "file = open('file.txt', 'a')\n",
    "file.write('\\n this line is added using append mode')"
   ]
  },
  {
   "cell_type": "code",
   "execution_count": 11,
   "id": "8b98537c",
   "metadata": {},
   "outputs": [],
   "source": [
    "file.close()"
   ]
  },
  {
   "cell_type": "markdown",
   "id": "fdf01a15",
   "metadata": {},
   "source": [
    "### Reading line from the file one by one "
   ]
  },
  {
   "cell_type": "code",
   "execution_count": 12,
   "id": "7c73a34c",
   "metadata": {},
   "outputs": [
    {
     "data": {
      "text/plain": [
       "'you wrote into a file and deleted the pervious material\\n'"
      ]
     },
     "execution_count": 12,
     "metadata": {},
     "output_type": "execute_result"
    }
   ],
   "source": [
    "file=open(\"file.txt\", 'r')\n",
    "file.readline()                 # read a whole line from the file one at a time"
   ]
  },
  {
   "cell_type": "code",
   "execution_count": 13,
   "id": "b35e153c",
   "metadata": {},
   "outputs": [],
   "source": [
    "file.close()"
   ]
  },
  {
   "cell_type": "code",
   "execution_count": 15,
   "id": "1117b0ac",
   "metadata": {},
   "outputs": [
    {
     "data": {
      "text/plain": [
       "['you wrote into a file and deleted the pervious material\\n',\n",
       " ' this line is added using append mode']"
      ]
     },
     "execution_count": 15,
     "metadata": {},
     "output_type": "execute_result"
    }
   ],
   "source": [
    "file = open('file.txt', 'r')\n",
    "file.readlines()                # read all the lines from the file and return them in form of list"
   ]
  },
  {
   "cell_type": "code",
   "execution_count": 16,
   "id": "f141836a",
   "metadata": {},
   "outputs": [],
   "source": [
    "file.close()"
   ]
  },
  {
   "cell_type": "code",
   "execution_count": 18,
   "id": "f7c22250",
   "metadata": {},
   "outputs": [
    {
     "data": {
      "text/plain": [
       "'e into a file and deleted the pervious material\\n this line is added using append mode'"
      ]
     },
     "execution_count": 18,
     "metadata": {},
     "output_type": "execute_result"
    }
   ],
   "source": [
    "file = open(\"file.txt\", 'r')\n",
    "file.seek(8)                    # move the cursor to the specified location\n",
    "file.read()"
   ]
  },
  {
   "cell_type": "code",
   "execution_count": 19,
   "id": "6451efc4",
   "metadata": {},
   "outputs": [],
   "source": [
    "file.close()"
   ]
  },
  {
   "cell_type": "markdown",
   "id": "13a47341",
   "metadata": {},
   "source": [
    "### Creating a new file"
   ]
  },
  {
   "cell_type": "code",
   "execution_count": 1,
   "id": "710ecd87",
   "metadata": {},
   "outputs": [
    {
     "data": {
      "text/plain": [
       "20"
      ]
     },
     "execution_count": 1,
     "metadata": {},
     "output_type": "execute_result"
    }
   ],
   "source": [
    "newFile = open('newFile.txt', 'x')\n",
    "newFile.write(\"This is the new file\")"
   ]
  },
  {
   "cell_type": "code",
   "execution_count": 3,
   "id": "c313b34f",
   "metadata": {},
   "outputs": [],
   "source": [
    "newFile.close()"
   ]
  },
  {
   "cell_type": "markdown",
   "id": "3aee4f0f",
   "metadata": {},
   "source": [
    "## Error Handling\n",
    "The try block lets you test a block of code for errors.\n",
    "\n",
    "The except block lets you handle the error.\n",
    "\n",
    "The else block lets you execute code when there is no error.\n",
    "\n",
    "The finally block lets you execute code, regardless of the result of the try- and except blocks."
   ]
  },
  {
   "cell_type": "code",
   "execution_count": 4,
   "id": "30d76ec7",
   "metadata": {},
   "outputs": [
    {
     "name": "stdout",
     "output_type": "stream",
     "text": [
      "Error - x is not defined\n"
     ]
    }
   ],
   "source": [
    "# When an error occurs, or exception as we call it, Python will normally stop and generate an error message.\n",
    "# These exceptions can be handled using the try statement:\n",
    "\n",
    "try:\n",
    "    print(x)\n",
    "except:\n",
    "    print(\"Error - x is not defined\")"
   ]
  },
  {
   "cell_type": "code",
   "execution_count": 5,
   "id": "70747050",
   "metadata": {},
   "outputs": [
    {
     "name": "stdout",
     "output_type": "stream",
     "text": [
      "Variable x is not defined\n"
     ]
    }
   ],
   "source": [
    "# You can define as many exception blocks as you want,\n",
    "# e.g. if you want to execute a special block of code for a special kind of error:\n",
    "try:\n",
    "  print(x)\n",
    "except NameError:\n",
    "  print(\"Variable x is not defined\")\n",
    "except:\n",
    "  print(\"Something else went wrong\") "
   ]
  },
  {
   "cell_type": "code",
   "execution_count": 6,
   "id": "1a9317a9",
   "metadata": {},
   "outputs": [
    {
     "name": "stdout",
     "output_type": "stream",
     "text": [
      "hello\n",
      "Everything is fine\n"
     ]
    }
   ],
   "source": [
    "# You can use the else keyword to define a block of code to be executed if no errors were raised:\n",
    "try:\n",
    "    print(\"hello\")\n",
    "except:\n",
    "    print(\"Something went fishy🤨\")\n",
    "else:\n",
    "    print(\"Everything is fine\")"
   ]
  },
  {
   "cell_type": "code",
   "execution_count": 8,
   "id": "5b384267",
   "metadata": {},
   "outputs": [
    {
     "name": "stdout",
     "output_type": "stream",
     "text": [
      "HEllo\n",
      "Everything is fine\n",
      "I will run regardless of anything😤\n"
     ]
    }
   ],
   "source": [
    "# You can use the else keyword to define a block of code to be executed if no errors were raised:\n",
    "try:\n",
    "    print(\"HEllo\")\n",
    "except:\n",
    "    print(\"Something went fishy🤨\")\n",
    "else:\n",
    "    print(\"Everything is fine\")\n",
    "finally:\n",
    "    print(\"I will run regardless of anything😤\")"
   ]
  },
  {
   "cell_type": "code",
   "execution_count": 12,
   "id": "3c4c225e",
   "metadata": {},
   "outputs": [
    {
     "name": "stdout",
     "output_type": "stream",
     "text": [
      "Something else went wrong while openning file\n"
     ]
    }
   ],
   "source": [
    "try:\n",
    "    file = open(\"test.txt\", 'x')\n",
    "    try:\n",
    "        file.write(\"Lorem ipsum\")                      # write something to a newly created file\n",
    "    except:\n",
    "        print(\"Something went wwrong when writing into the file\")      # print this if try block doesnot works \n",
    "    finally:\n",
    "        file.close()                                      # file will get closed as finally will always run \n",
    "except:\n",
    "    print(\"Something else went wrong while openning file\")      "
   ]
  },
  {
   "cell_type": "markdown",
   "id": "88095994",
   "metadata": {},
   "source": [
    "#### Raise an exception\n",
    "To throw (or raise) an exception, use the raise keyword."
   ]
  },
  {
   "cell_type": "code",
   "execution_count": 13,
   "id": "007d4ac8",
   "metadata": {},
   "outputs": [
    {
     "ename": "Exception",
     "evalue": "Sorry, no numbers below zero",
     "output_type": "error",
     "traceback": [
      "\u001b[1;31m---------------------------------------------------------------------------\u001b[0m",
      "\u001b[1;31mException\u001b[0m                                 Traceback (most recent call last)",
      "\u001b[1;32m~\\AppData\\Local\\Temp/ipykernel_8104/1802015379.py\u001b[0m in \u001b[0;36m<module>\u001b[1;34m\u001b[0m\n\u001b[0;32m      2\u001b[0m \u001b[1;33m\u001b[0m\u001b[0m\n\u001b[0;32m      3\u001b[0m \u001b[1;32mif\u001b[0m \u001b[0mx\u001b[0m \u001b[1;33m<\u001b[0m \u001b[1;36m0\u001b[0m\u001b[1;33m:\u001b[0m\u001b[1;33m\u001b[0m\u001b[1;33m\u001b[0m\u001b[0m\n\u001b[1;32m----> 4\u001b[1;33m       \u001b[1;32mraise\u001b[0m \u001b[0mException\u001b[0m\u001b[1;33m(\u001b[0m\u001b[1;34m\"Sorry, no numbers below zero\"\u001b[0m\u001b[1;33m)\u001b[0m\u001b[1;33m\u001b[0m\u001b[1;33m\u001b[0m\u001b[0m\n\u001b[0m",
      "\u001b[1;31mException\u001b[0m: Sorry, no numbers below zero"
     ]
    }
   ],
   "source": [
    "x = -1\n",
    "\n",
    "if x < 0:\n",
    "      raise Exception(\"Sorry, no numbers below zero\") "
   ]
  },
  {
   "cell_type": "code",
   "execution_count": null,
   "id": "4ac5a618",
   "metadata": {},
   "outputs": [],
   "source": [
    "# The raise keyword is used to raise an exception.\n",
    "# You can define what kind of error to raise, and the text to print to the user."
   ]
  },
  {
   "cell_type": "code",
   "execution_count": 14,
   "id": "012868cc",
   "metadata": {},
   "outputs": [
    {
     "ename": "TypeError",
     "evalue": "Only integers are allowed",
     "output_type": "error",
     "traceback": [
      "\u001b[1;31m---------------------------------------------------------------------------\u001b[0m",
      "\u001b[1;31mTypeError\u001b[0m                                 Traceback (most recent call last)",
      "\u001b[1;32m~\\AppData\\Local\\Temp/ipykernel_8104/1355256456.py\u001b[0m in \u001b[0;36m<module>\u001b[1;34m\u001b[0m\n\u001b[0;32m      1\u001b[0m \u001b[0mx\u001b[0m \u001b[1;33m=\u001b[0m \u001b[1;34m\"hello\"\u001b[0m\u001b[1;33m\u001b[0m\u001b[1;33m\u001b[0m\u001b[0m\n\u001b[0;32m      2\u001b[0m \u001b[1;32mif\u001b[0m \u001b[1;32mnot\u001b[0m \u001b[0mtype\u001b[0m\u001b[1;33m(\u001b[0m\u001b[0mx\u001b[0m\u001b[1;33m)\u001b[0m \u001b[1;32mis\u001b[0m \u001b[0mint\u001b[0m\u001b[1;33m:\u001b[0m\u001b[1;33m\u001b[0m\u001b[1;33m\u001b[0m\u001b[0m\n\u001b[1;32m----> 3\u001b[1;33m       \u001b[1;32mraise\u001b[0m \u001b[0mTypeError\u001b[0m\u001b[1;33m(\u001b[0m\u001b[1;34m\"Only integers are allowed\"\u001b[0m\u001b[1;33m)\u001b[0m\u001b[1;33m\u001b[0m\u001b[1;33m\u001b[0m\u001b[0m\n\u001b[0m",
      "\u001b[1;31mTypeError\u001b[0m: Only integers are allowed"
     ]
    }
   ],
   "source": [
    "x = \"hello\"\n",
    "if not type(x) is int:\n",
    "      raise TypeError(\"Only integers are allowed\")"
   ]
  },
  {
   "cell_type": "code",
   "execution_count": null,
   "id": "1ac05218",
   "metadata": {},
   "outputs": [],
   "source": []
  }
 ],
 "metadata": {
  "kernelspec": {
   "display_name": "Python 3 (ipykernel)",
   "language": "python",
   "name": "python3"
  },
  "language_info": {
   "codemirror_mode": {
    "name": "ipython",
    "version": 3
   },
   "file_extension": ".py",
   "mimetype": "text/x-python",
   "name": "python",
   "nbconvert_exporter": "python",
   "pygments_lexer": "ipython3",
   "version": "3.10.1"
  }
 },
 "nbformat": 4,
 "nbformat_minor": 5
}
