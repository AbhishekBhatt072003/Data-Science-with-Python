{
 "cells": [
  {
   "cell_type": "markdown",
   "id": "b75f54f7",
   "metadata": {},
   "source": [
    "# Numpy"
   ]
  },
  {
   "cell_type": "markdown",
   "id": "ec8e9007",
   "metadata": {},
   "source": [
    "Numpy is a library for the python programming languange, adding large multi-dimensional arrays and matrices, along with the large collections of the high\n",
    "level mathematical functions to operate on these arrays\n",
    "- very fast\n",
    "- uses vectorization using brodcasting (without using loops)"
   ]
  },
  {
   "cell_type": "markdown",
   "id": "e7ff0b77",
   "metadata": {},
   "source": [
    "### 1. Datatypes and Attributes\n",
    "Numpy has only 1 datatype ndarray (n dimensional array)"
   ]
  },
  {
   "cell_type": "code",
   "execution_count": 5,
   "id": "f11df447",
   "metadata": {},
   "outputs": [],
   "source": [
    "import numpy as np"
   ]
  },
  {
   "cell_type": "code",
   "execution_count": 6,
   "id": "3538ccc9",
   "metadata": {},
   "outputs": [
    {
     "data": {
      "text/plain": [
       "array([1, 2, 3])"
      ]
     },
     "execution_count": 6,
     "metadata": {},
     "output_type": "execute_result"
    }
   ],
   "source": [
    "a1 = np.array([1,2,3])            # create a 1d array. It takes python list as parameters \n",
    "a1"
   ]
  },
  {
   "cell_type": "code",
   "execution_count": 7,
   "id": "03ed99b6",
   "metadata": {},
   "outputs": [],
   "source": [
    "l1 = [4,5,6]\n",
    "a1 = np.array(l1)"
   ]
  },
  {
   "cell_type": "code",
   "execution_count": 8,
   "id": "495c7573",
   "metadata": {},
   "outputs": [
    {
     "data": {
      "text/plain": [
       "array([4, 5, 6])"
      ]
     },
     "execution_count": 8,
     "metadata": {},
     "output_type": "execute_result"
    }
   ],
   "source": [
    "a1"
   ]
  },
  {
   "cell_type": "code",
   "execution_count": 9,
   "id": "22a55352",
   "metadata": {},
   "outputs": [
    {
     "data": {
      "text/plain": [
       "array([[1, 2, 3],\n",
       "       [4, 5, 6]])"
      ]
     },
     "execution_count": 9,
     "metadata": {},
     "output_type": "execute_result"
    }
   ],
   "source": [
    "a2 = np.array([[1,2,3],            # create 2d array\n",
    "               [4,5,6]])\n",
    "a2"
   ]
  },
  {
   "cell_type": "code",
   "execution_count": 10,
   "id": "502f6739",
   "metadata": {},
   "outputs": [],
   "source": [
    "a3 = np.array([[[1, 2, 3],\n",
    "                [4, 5, 6]],        #  create 3d array\n",
    "               [[7, 8, 9],\n",
    "                [10, 11, 12]],\n",
    "               [[13, 14, 15],\n",
    "                [16, 17, 18]]])"
   ]
  },
  {
   "cell_type": "code",
   "execution_count": 12,
   "id": "0deb66b2",
   "metadata": {},
   "outputs": [
    {
     "data": {
      "text/plain": [
       "array([[[ 1,  2,  3],\n",
       "        [ 4,  5,  6]],\n",
       "\n",
       "       [[ 7,  8,  9],\n",
       "        [10, 11, 12]],\n",
       "\n",
       "       [[13, 14, 15],\n",
       "        [16, 17, 18]]])"
      ]
     },
     "execution_count": 12,
     "metadata": {},
     "output_type": "execute_result"
    }
   ],
   "source": [
    "a3"
   ]
  },
  {
   "cell_type": "code",
   "execution_count": 14,
   "id": "11a4382a",
   "metadata": {},
   "outputs": [
    {
     "data": {
      "text/plain": [
       "(3,)"
      ]
     },
     "execution_count": 14,
     "metadata": {},
     "output_type": "execute_result"
    }
   ],
   "source": [
    "a1.shape"
   ]
  },
  {
   "cell_type": "code",
   "execution_count": 15,
   "id": "58fad349",
   "metadata": {},
   "outputs": [
    {
     "data": {
      "text/plain": [
       "(2, 3)"
      ]
     },
     "execution_count": 15,
     "metadata": {},
     "output_type": "execute_result"
    }
   ],
   "source": [
    "a2.shape"
   ]
  },
  {
   "cell_type": "code",
   "execution_count": 23,
   "id": "61ecb0aa",
   "metadata": {},
   "outputs": [
    {
     "data": {
      "text/plain": [
       "(3, 2, 3)"
      ]
     },
     "execution_count": 23,
     "metadata": {},
     "output_type": "execute_result"
    }
   ],
   "source": [
    "a3.shape                          # check how many dimensions are there in array"
   ]
  },
  {
   "cell_type": "code",
   "execution_count": 24,
   "id": "b74664de",
   "metadata": {},
   "outputs": [
    {
     "data": {
      "text/plain": [
       "(1, 2, 3)"
      ]
     },
     "execution_count": 24,
     "metadata": {},
     "output_type": "execute_result"
    }
   ],
   "source": [
    "a1.ndim , a2.ndim, a3.ndim        # check the dimensions of array"
   ]
  },
  {
   "cell_type": "code",
   "execution_count": 25,
   "id": "97f373e7",
   "metadata": {},
   "outputs": [
    {
     "data": {
      "text/plain": [
       "(dtype('int32'), dtype('int32'), dtype('int32'))"
      ]
     },
     "execution_count": 25,
     "metadata": {},
     "output_type": "execute_result"
    }
   ],
   "source": [
    "a1.dtype, a2.dtype, a3.dtype       # check the type of data stored in arrray"
   ]
  },
  {
   "cell_type": "code",
   "execution_count": 26,
   "id": "21863005",
   "metadata": {},
   "outputs": [
    {
     "data": {
      "text/plain": [
       "(3, 6, 18)"
      ]
     },
     "execution_count": 26,
     "metadata": {},
     "output_type": "execute_result"
    }
   ],
   "source": [
    "a1.size, a2.size, a3.size         # check the no of elements in the array"
   ]
  },
  {
   "cell_type": "code",
   "execution_count": 27,
   "id": "59933fc4",
   "metadata": {},
   "outputs": [
    {
     "data": {
      "text/plain": [
       "(numpy.ndarray, numpy.ndarray, numpy.ndarray)"
      ]
     },
     "execution_count": 27,
     "metadata": {},
     "output_type": "execute_result"
    }
   ],
   "source": [
    "type(a1), type(a2), type(a3)      # check what is the type of the datastructure"
   ]
  },
  {
   "cell_type": "markdown",
   "id": "e2211c16",
   "metadata": {},
   "source": [
    " ## 2. Creating Numpy Arrays"
   ]
  },
  {
   "cell_type": "code",
   "execution_count": 28,
   "id": "66da18ae",
   "metadata": {},
   "outputs": [
    {
     "name": "stdout",
     "output_type": "stream",
     "text": [
      "[1 2 3]\n"
     ]
    }
   ],
   "source": [
    "sample_array = np.array([1,2,3])\n",
    "print(sample_array)"
   ]
  },
  {
   "cell_type": "code",
   "execution_count": 30,
   "id": "e53387c4",
   "metadata": {},
   "outputs": [
    {
     "data": {
      "text/plain": [
       "dtype('int32')"
      ]
     },
     "execution_count": 30,
     "metadata": {},
     "output_type": "execute_result"
    }
   ],
   "source": [
    "sample_array.dtype"
   ]
  },
  {
   "cell_type": "code",
   "execution_count": 31,
   "id": "84f2469f",
   "metadata": {},
   "outputs": [],
   "source": [
    "ones = np.ones((2,3), dtype=float)    # gives a arrays with given shape and type, all filled with ones  "
   ]
  },
  {
   "cell_type": "code",
   "execution_count": 32,
   "id": "76c2e43c",
   "metadata": {},
   "outputs": [
    {
     "data": {
      "text/plain": [
       "array([[1., 1., 1.],\n",
       "       [1., 1., 1.]])"
      ]
     },
     "execution_count": 32,
     "metadata": {},
     "output_type": "execute_result"
    }
   ],
   "source": [
    "ones"
   ]
  },
  {
   "cell_type": "code",
   "execution_count": 33,
   "id": "754fd02f",
   "metadata": {},
   "outputs": [
    {
     "name": "stdout",
     "output_type": "stream",
     "text": [
      "float64\n",
      "<class 'numpy.ndarray'>\n"
     ]
    }
   ],
   "source": [
    "print(ones.dtype)\n",
    "print(type(ones))"
   ]
  },
  {
   "cell_type": "code",
   "execution_count": 34,
   "id": "25573be0",
   "metadata": {},
   "outputs": [],
   "source": [
    "zeros = np.zeros((3,3))   # arrays filled with zeros "
   ]
  },
  {
   "cell_type": "code",
   "execution_count": 35,
   "id": "7085aad9",
   "metadata": {},
   "outputs": [
    {
     "data": {
      "text/plain": [
       "array([[0., 0., 0.],\n",
       "       [0., 0., 0.],\n",
       "       [0., 0., 0.]])"
      ]
     },
     "execution_count": 35,
     "metadata": {},
     "output_type": "execute_result"
    }
   ],
   "source": [
    "zeros"
   ]
  },
  {
   "cell_type": "code",
   "execution_count": 36,
   "id": "c54808a0",
   "metadata": {},
   "outputs": [],
   "source": [
    "range_array = np.arange(0, 10, 2)"
   ]
  },
  {
   "cell_type": "code",
   "execution_count": 37,
   "id": "88c09121",
   "metadata": {},
   "outputs": [
    {
     "data": {
      "text/plain": [
       "array([0, 2, 4, 6, 8])"
      ]
     },
     "execution_count": 37,
     "metadata": {},
     "output_type": "execute_result"
    }
   ],
   "source": [
    "range_array"
   ]
  },
  {
   "cell_type": "code",
   "execution_count": 38,
   "id": "baee45e6",
   "metadata": {},
   "outputs": [],
   "source": [
    "random_array = np.random.randint(2, 9, size = (3,5))"
   ]
  },
  {
   "cell_type": "code",
   "execution_count": 39,
   "id": "9aa2000e",
   "metadata": {},
   "outputs": [
    {
     "data": {
      "text/plain": [
       "array([[8, 3, 3, 3, 6],\n",
       "       [5, 7, 7, 4, 6],\n",
       "       [3, 3, 3, 8, 6]])"
      ]
     },
     "execution_count": 39,
     "metadata": {},
     "output_type": "execute_result"
    }
   ],
   "source": [
    "random_array"
   ]
  },
  {
   "cell_type": "code",
   "execution_count": 40,
   "id": "f013fb5c",
   "metadata": {},
   "outputs": [],
   "source": [
    "random_array2 = np.random.random((5,3))"
   ]
  },
  {
   "cell_type": "code",
   "execution_count": 41,
   "id": "fce4e4c3",
   "metadata": {},
   "outputs": [
    {
     "data": {
      "text/plain": [
       "array([[0.54545034, 0.05990775, 0.87687031],\n",
       "       [0.44172388, 0.88969806, 0.0912468 ],\n",
       "       [0.97318032, 0.93690296, 0.11006074],\n",
       "       [0.01938437, 0.64097538, 0.20994308],\n",
       "       [0.74122262, 0.32436457, 0.61371477]])"
      ]
     },
     "execution_count": 41,
     "metadata": {},
     "output_type": "execute_result"
    }
   ],
   "source": [
    "random_array2"
   ]
  },
  {
   "cell_type": "code",
   "execution_count": 42,
   "id": "e0d2db2f",
   "metadata": {},
   "outputs": [],
   "source": [
    "random_array3 = np.random.rand(3,3)"
   ]
  },
  {
   "cell_type": "code",
   "execution_count": 43,
   "id": "cf06a5c8",
   "metadata": {},
   "outputs": [
    {
     "data": {
      "text/plain": [
       "array([[0.33838705, 0.38958052, 0.81603963],\n",
       "       [0.25403175, 0.5562384 , 0.95392395],\n",
       "       [0.25304136, 0.03427383, 0.76161778]])"
      ]
     },
     "execution_count": 43,
     "metadata": {},
     "output_type": "execute_result"
    }
   ],
   "source": [
    "random_array3"
   ]
  },
  {
   "cell_type": "markdown",
   "id": "33412eb1",
   "metadata": {},
   "source": [
    "## 3. Viewing arrays and matrices"
   ]
  },
  {
   "cell_type": "code",
   "execution_count": 44,
   "id": "27e23210",
   "metadata": {},
   "outputs": [
    {
     "data": {
      "text/plain": [
       "array([[8, 7, 5, 5],\n",
       "       [4, 4, 8, 2],\n",
       "       [3, 8, 5, 5],\n",
       "       [5, 2, 5, 6]])"
      ]
     },
     "execution_count": 44,
     "metadata": {},
     "output_type": "execute_result"
    }
   ],
   "source": [
    "my_array = np.random.randint(2,9,size=(4,4))\n",
    "my_array"
   ]
  },
  {
   "cell_type": "code",
   "execution_count": 45,
   "id": "c458aca0",
   "metadata": {},
   "outputs": [
    {
     "data": {
      "text/plain": [
       "array([2, 3, 4, 5, 6, 7, 8])"
      ]
     },
     "execution_count": 45,
     "metadata": {},
     "output_type": "execute_result"
    }
   ],
   "source": [
    "np.unique(my_array)  # returns an array with all elements from the passed array only one time"
   ]
  },
  {
   "cell_type": "code",
   "execution_count": 46,
   "id": "f0b13357",
   "metadata": {},
   "outputs": [
    {
     "data": {
      "text/plain": [
       "array([[8, 7, 5, 5],\n",
       "       [4, 4, 8, 2],\n",
       "       [3, 8, 5, 5],\n",
       "       [5, 2, 5, 6]])"
      ]
     },
     "execution_count": 46,
     "metadata": {},
     "output_type": "execute_result"
    }
   ],
   "source": [
    "my_array"
   ]
  },
  {
   "cell_type": "code",
   "execution_count": 48,
   "id": "bdc2f0df",
   "metadata": {},
   "outputs": [
    {
     "data": {
      "text/plain": [
       "(array([8, 7, 5, 5]),\n",
       " array([4, 4, 8, 2]),\n",
       " array([3, 8, 5, 5]),\n",
       " array([5, 2, 5, 6]))"
      ]
     },
     "execution_count": 48,
     "metadata": {},
     "output_type": "execute_result"
    }
   ],
   "source": [
    "my_array[0], my_array[1], my_array[2], my_array[3]"
   ]
  },
  {
   "cell_type": "code",
   "execution_count": 49,
   "id": "3ce78338",
   "metadata": {},
   "outputs": [
    {
     "data": {
      "text/plain": [
       "(8, 7, 5, 5)"
      ]
     },
     "execution_count": 49,
     "metadata": {},
     "output_type": "execute_result"
    }
   ],
   "source": [
    "my_array[0][0], my_array[0][1], my_array[0][2], my_array[0][3], "
   ]
  },
  {
   "cell_type": "code",
   "execution_count": 50,
   "id": "40c8b3b4",
   "metadata": {},
   "outputs": [
    {
     "data": {
      "text/plain": [
       "array([[8, 7, 5, 5],\n",
       "       [4, 4, 8, 2],\n",
       "       [3, 8, 5, 5],\n",
       "       [5, 2, 5, 6]])"
      ]
     },
     "execution_count": 50,
     "metadata": {},
     "output_type": "execute_result"
    }
   ],
   "source": [
    "# We can also use the slicing in numpy arrays. Just like the python\n",
    "my_array"
   ]
  },
  {
   "cell_type": "code",
   "execution_count": 51,
   "id": "af9b4b43",
   "metadata": {},
   "outputs": [
    {
     "data": {
      "text/plain": [
       "array([[8, 7, 5, 5],\n",
       "       [4, 4, 8, 2]])"
      ]
     },
     "execution_count": 51,
     "metadata": {},
     "output_type": "execute_result"
    }
   ],
   "source": [
    "my_array[0:2]"
   ]
  },
  {
   "cell_type": "code",
   "execution_count": 52,
   "id": "1b9278a4",
   "metadata": {},
   "outputs": [
    {
     "data": {
      "text/plain": [
       "array([[3, 8, 5, 5],\n",
       "       [5, 2, 5, 6]])"
      ]
     },
     "execution_count": 52,
     "metadata": {},
     "output_type": "execute_result"
    }
   ],
   "source": [
    "my_array[2:4]"
   ]
  },
  {
   "cell_type": "code",
   "execution_count": 55,
   "id": "1a5c4f5e",
   "metadata": {},
   "outputs": [
    {
     "data": {
      "text/plain": [
       "array([[8, 7, 5, 5],\n",
       "       [4, 4, 8, 2],\n",
       "       [3, 8, 5, 5],\n",
       "       [5, 2, 5, 6]])"
      ]
     },
     "execution_count": 55,
     "metadata": {},
     "output_type": "execute_result"
    }
   ],
   "source": [
    "my_array[0:len(my_array)]"
   ]
  },
  {
   "cell_type": "code",
   "execution_count": 57,
   "id": "fda07bb8",
   "metadata": {},
   "outputs": [
    {
     "data": {
      "text/plain": [
       "array([[8, 7, 5, 5],\n",
       "       [3, 8, 5, 5]])"
      ]
     },
     "execution_count": 57,
     "metadata": {},
     "output_type": "execute_result"
    }
   ],
   "source": [
    "my_array[0:4:2]"
   ]
  },
  {
   "cell_type": "code",
   "execution_count": 58,
   "id": "7465d086",
   "metadata": {},
   "outputs": [
    {
     "data": {
      "text/plain": [
       "array([[5, 2, 5, 6],\n",
       "       [3, 8, 5, 5],\n",
       "       [4, 4, 8, 2],\n",
       "       [8, 7, 5, 5]])"
      ]
     },
     "execution_count": 58,
     "metadata": {},
     "output_type": "execute_result"
    }
   ],
   "source": [
    "my_array[::-1]"
   ]
  },
  {
   "cell_type": "code",
   "execution_count": 59,
   "id": "4a5faaf3",
   "metadata": {},
   "outputs": [
    {
     "data": {
      "text/plain": [
       "array([[[[3, 0, 1, 9, 8],\n",
       "         [4, 1, 5, 1, 2],\n",
       "         [4, 4, 6, 3, 8],\n",
       "         [9, 8, 1, 5, 9]],\n",
       "\n",
       "        [[3, 2, 5, 8, 8],\n",
       "         [3, 7, 0, 7, 3],\n",
       "         [5, 2, 8, 3, 9],\n",
       "         [6, 1, 7, 2, 4]],\n",
       "\n",
       "        [[8, 3, 4, 8, 9],\n",
       "         [4, 1, 8, 8, 5],\n",
       "         [8, 2, 9, 0, 0],\n",
       "         [9, 5, 6, 2, 9]]],\n",
       "\n",
       "\n",
       "       [[[4, 2, 1, 3, 8],\n",
       "         [2, 2, 7, 1, 9],\n",
       "         [6, 3, 4, 1, 4],\n",
       "         [9, 4, 5, 1, 5]],\n",
       "\n",
       "        [[1, 2, 1, 1, 2],\n",
       "         [5, 6, 2, 4, 1],\n",
       "         [6, 6, 6, 9, 3],\n",
       "         [1, 1, 3, 4, 2]],\n",
       "\n",
       "        [[9, 4, 3, 3, 1],\n",
       "         [3, 4, 9, 9, 0],\n",
       "         [9, 8, 2, 7, 4],\n",
       "         [3, 9, 9, 7, 7]]]])"
      ]
     },
     "execution_count": 59,
     "metadata": {},
     "output_type": "execute_result"
    }
   ],
   "source": [
    "my_array2 = np.random.randint(10, size = (2,3,4,5))\n",
    "my_array2"
   ]
  },
  {
   "cell_type": "code",
   "execution_count": 60,
   "id": "9ff4f882",
   "metadata": {},
   "outputs": [
    {
     "data": {
      "text/plain": [
       "array([[[[3],\n",
       "         [4],\n",
       "         [4],\n",
       "         [9]],\n",
       "\n",
       "        [[3],\n",
       "         [3],\n",
       "         [5],\n",
       "         [6]],\n",
       "\n",
       "        [[8],\n",
       "         [4],\n",
       "         [8],\n",
       "         [9]]],\n",
       "\n",
       "\n",
       "       [[[4],\n",
       "         [2],\n",
       "         [6],\n",
       "         [9]],\n",
       "\n",
       "        [[1],\n",
       "         [5],\n",
       "         [6],\n",
       "         [1]],\n",
       "\n",
       "        [[9],\n",
       "         [3],\n",
       "         [9],\n",
       "         [3]]]])"
      ]
     },
     "execution_count": 60,
     "metadata": {},
     "output_type": "execute_result"
    }
   ],
   "source": [
    "# get the first 4 numbers of the inner most arrays \n",
    "my_array2[:, :, :, :1]"
   ]
  },
  {
   "cell_type": "markdown",
   "id": "b407653e",
   "metadata": {},
   "source": [
    " ## 4. Manipulating and Comparing Arrays"
   ]
  },
  {
   "cell_type": "markdown",
   "id": "786d06fb",
   "metadata": {},
   "source": [
    "### Arithmetic"
   ]
  },
  {
   "cell_type": "code",
   "execution_count": 61,
   "id": "4af5668e",
   "metadata": {},
   "outputs": [],
   "source": [
    "ones =  np.ones(3)"
   ]
  },
  {
   "cell_type": "code",
   "execution_count": 62,
   "id": "8ff306b8",
   "metadata": {},
   "outputs": [
    {
     "data": {
      "text/plain": [
       "array([1., 1., 1.])"
      ]
     },
     "execution_count": 62,
     "metadata": {},
     "output_type": "execute_result"
    }
   ],
   "source": [
    "ones "
   ]
  },
  {
   "cell_type": "code",
   "execution_count": 74,
   "id": "bdc0dd4a",
   "metadata": {},
   "outputs": [
    {
     "data": {
      "text/plain": [
       "array([1, 2, 3])"
      ]
     },
     "execution_count": 74,
     "metadata": {},
     "output_type": "execute_result"
    }
   ],
   "source": [
    "a1 = np.array([1,2,3])\n",
    "a1"
   ]
  },
  {
   "cell_type": "code",
   "execution_count": 75,
   "id": "90400f7a",
   "metadata": {},
   "outputs": [
    {
     "data": {
      "text/plain": [
       "array([2., 3., 4.])"
      ]
     },
     "execution_count": 75,
     "metadata": {},
     "output_type": "execute_result"
    }
   ],
   "source": [
    "a1 + ones"
   ]
  },
  {
   "cell_type": "code",
   "execution_count": 76,
   "id": "42cacb63",
   "metadata": {},
   "outputs": [
    {
     "data": {
      "text/plain": [
       "array([0., 1., 2.])"
      ]
     },
     "execution_count": 76,
     "metadata": {},
     "output_type": "execute_result"
    }
   ],
   "source": [
    "a1 - ones"
   ]
  },
  {
   "cell_type": "code",
   "execution_count": 77,
   "id": "a7cab270",
   "metadata": {},
   "outputs": [
    {
     "data": {
      "text/plain": [
       "array([1., 2., 3.])"
      ]
     },
     "execution_count": 77,
     "metadata": {},
     "output_type": "execute_result"
    }
   ],
   "source": [
    "a1 * ones "
   ]
  },
  {
   "cell_type": "code",
   "execution_count": 78,
   "id": "31151314",
   "metadata": {},
   "outputs": [
    {
     "data": {
      "text/plain": [
       "array([[1, 2, 3],\n",
       "       [4, 5, 6]])"
      ]
     },
     "execution_count": 78,
     "metadata": {},
     "output_type": "execute_result"
    }
   ],
   "source": [
    "a2 = np.array([[1,2,3], [4,5,6]])\n",
    "a2"
   ]
  },
  {
   "cell_type": "code",
   "execution_count": 79,
   "id": "979048dc",
   "metadata": {},
   "outputs": [
    {
     "data": {
      "text/plain": [
       "array([[ 1,  4,  9],\n",
       "       [ 4, 10, 18]])"
      ]
     },
     "execution_count": 79,
     "metadata": {},
     "output_type": "execute_result"
    }
   ],
   "source": [
    "a1 * a2"
   ]
  },
  {
   "cell_type": "code",
   "execution_count": 80,
   "id": "7a416869",
   "metadata": {},
   "outputs": [
    {
     "data": {
      "text/plain": [
       "array([[ 7,  8,  9],\n",
       "       [11, 12, 13]])"
      ]
     },
     "execution_count": 80,
     "metadata": {},
     "output_type": "execute_result"
    }
   ],
   "source": [
    "a3 = np.array([[7,8,9], [11,12,13]])\n",
    "a3"
   ]
  },
  {
   "cell_type": "code",
   "execution_count": 81,
   "id": "0174973e",
   "metadata": {},
   "outputs": [
    {
     "data": {
      "text/plain": [
       "array([[ 7, 16, 27],\n",
       "       [44, 60, 78]])"
      ]
     },
     "execution_count": 81,
     "metadata": {},
     "output_type": "execute_result"
    }
   ],
   "source": [
    "a2 * a3     # mmultiply adjacent elements "
   ]
  },
  {
   "cell_type": "code",
   "execution_count": 82,
   "id": "6da7381a",
   "metadata": {},
   "outputs": [
    {
     "data": {
      "text/plain": [
       "array([2, 4, 6])"
      ]
     },
     "execution_count": 82,
     "metadata": {},
     "output_type": "execute_result"
    }
   ],
   "source": [
    "a1 * 2"
   ]
  },
  {
   "cell_type": "code",
   "execution_count": 83,
   "id": "71e8873e",
   "metadata": {},
   "outputs": [
    {
     "data": {
      "text/plain": [
       "array([1., 2., 3.])"
      ]
     },
     "execution_count": 83,
     "metadata": {},
     "output_type": "execute_result"
    }
   ],
   "source": [
    "a1 / ones "
   ]
  },
  {
   "cell_type": "code",
   "execution_count": 84,
   "id": "fedd8f9d",
   "metadata": {},
   "outputs": [
    {
     "data": {
      "text/plain": [
       "array([[1. , 1. , 1. ],\n",
       "       [4. , 2.5, 2. ]])"
      ]
     },
     "execution_count": 84,
     "metadata": {},
     "output_type": "execute_result"
    }
   ],
   "source": [
    "a2 / a1"
   ]
  },
  {
   "cell_type": "code",
   "execution_count": 85,
   "id": "9b04e0b7",
   "metadata": {},
   "outputs": [
    {
     "data": {
      "text/plain": [
       "array([[1, 1, 1],\n",
       "       [4, 2, 2]], dtype=int32)"
      ]
     },
     "execution_count": 85,
     "metadata": {},
     "output_type": "execute_result"
    }
   ],
   "source": [
    "a2 // a1 # floor division"
   ]
  },
  {
   "cell_type": "code",
   "execution_count": 86,
   "id": "11fb1f70",
   "metadata": {},
   "outputs": [
    {
     "data": {
      "text/plain": [
       "array([1, 4, 9], dtype=int32)"
      ]
     },
     "execution_count": 86,
     "metadata": {},
     "output_type": "execute_result"
    }
   ],
   "source": [
    "a1 ** 2"
   ]
  },
  {
   "cell_type": "code",
   "execution_count": 87,
   "id": "0eea7141",
   "metadata": {},
   "outputs": [
    {
     "data": {
      "text/plain": [
       "array([[  1,   4,  27],\n",
       "       [  4,  25, 216]], dtype=int32)"
      ]
     },
     "execution_count": 87,
     "metadata": {},
     "output_type": "execute_result"
    }
   ],
   "source": [
    "a2 ** a1"
   ]
  },
  {
   "cell_type": "code",
   "execution_count": 89,
   "id": "7a072a6c",
   "metadata": {},
   "outputs": [
    {
     "data": {
      "text/plain": [
       "array([[ 1,  4,  9],\n",
       "       [16, 25, 36]], dtype=int32)"
      ]
     },
     "execution_count": 89,
     "metadata": {},
     "output_type": "execute_result"
    }
   ],
   "source": [
    "np.square(a2)"
   ]
  },
  {
   "cell_type": "code",
   "execution_count": 95,
   "id": "bb555e8b",
   "metadata": {},
   "outputs": [
    {
     "data": {
      "text/plain": [
       "array([1, 2, 3])"
      ]
     },
     "execution_count": 95,
     "metadata": {},
     "output_type": "execute_result"
    }
   ],
   "source": [
    "a1"
   ]
  },
  {
   "cell_type": "code",
   "execution_count": 96,
   "id": "a7b2bdb3",
   "metadata": {},
   "outputs": [
    {
     "data": {
      "text/plain": [
       "array([1., 1., 1.])"
      ]
     },
     "execution_count": 96,
     "metadata": {},
     "output_type": "execute_result"
    }
   ],
   "source": [
    "ones "
   ]
  },
  {
   "cell_type": "code",
   "execution_count": 97,
   "id": "002baaa5",
   "metadata": {},
   "outputs": [
    {
     "data": {
      "text/plain": [
       "array([2., 3., 4.])"
      ]
     },
     "execution_count": 97,
     "metadata": {},
     "output_type": "execute_result"
    }
   ],
   "source": [
    "np.add(a1, ones )"
   ]
  },
  {
   "cell_type": "code",
   "execution_count": 99,
   "id": "a419dff6",
   "metadata": {},
   "outputs": [
    {
     "data": {
      "text/plain": [
       "array([[1, 0, 1],\n",
       "       [0, 1, 0]], dtype=int32)"
      ]
     },
     "execution_count": 99,
     "metadata": {},
     "output_type": "execute_result"
    }
   ],
   "source": [
    "np.mod(a2,2) # return remainder after division"
   ]
  },
  {
   "cell_type": "code",
   "execution_count": 100,
   "id": "1b164470",
   "metadata": {},
   "outputs": [
    {
     "data": {
      "text/plain": [
       "array([[1, 0, 1],\n",
       "       [0, 1, 0]], dtype=int32)"
      ]
     },
     "execution_count": 100,
     "metadata": {},
     "output_type": "execute_result"
    }
   ],
   "source": [
    "a2 % 2"
   ]
  },
  {
   "cell_type": "code",
   "execution_count": 103,
   "id": "4be58da2",
   "metadata": {},
   "outputs": [
    {
     "data": {
      "text/plain": [
       "array([[0.5, 1. , 1.5],\n",
       "       [2. , 2.5, 3. ]])"
      ]
     },
     "execution_count": 103,
     "metadata": {},
     "output_type": "execute_result"
    }
   ],
   "source": [
    "a2 / 2"
   ]
  },
  {
   "cell_type": "code",
   "execution_count": 104,
   "id": "e86f6a38",
   "metadata": {},
   "outputs": [
    {
     "data": {
      "text/plain": [
       "array([[1, 0, 1],\n",
       "       [0, 1, 0]], dtype=int32)"
      ]
     },
     "execution_count": 104,
     "metadata": {},
     "output_type": "execute_result"
    }
   ],
   "source": [
    "a2%2"
   ]
  },
  {
   "cell_type": "code",
   "execution_count": 105,
   "id": "bb461f02",
   "metadata": {},
   "outputs": [
    {
     "data": {
      "text/plain": [
       "array([0.        , 0.69314718, 1.09861229])"
      ]
     },
     "execution_count": 105,
     "metadata": {},
     "output_type": "execute_result"
    }
   ],
   "source": [
    "np.log(a1)"
   ]
  },
  {
   "cell_type": "code",
   "execution_count": 106,
   "id": "db731745",
   "metadata": {},
   "outputs": [
    {
     "data": {
      "text/plain": [
       "array([[  2.71828183,   7.3890561 ,  20.08553692],\n",
       "       [ 54.59815003, 148.4131591 , 403.42879349]])"
      ]
     },
     "execution_count": 106,
     "metadata": {},
     "output_type": "execute_result"
    }
   ],
   "source": [
    "np.exp(a2)"
   ]
  },
  {
   "cell_type": "markdown",
   "id": "f947b107",
   "metadata": {},
   "source": [
    "### Aggregation\n",
    "Performing the same operation on a number of things "
   ]
  },
  {
   "cell_type": "code",
   "execution_count": 109,
   "id": "5db60330",
   "metadata": {},
   "outputs": [
    {
     "data": {
      "text/plain": [
       "list"
      ]
     },
     "execution_count": 109,
     "metadata": {},
     "output_type": "execute_result"
    }
   ],
   "source": [
    "ls1 = [1,2,3]\n",
    "type(ls1)"
   ]
  },
  {
   "cell_type": "code",
   "execution_count": 110,
   "id": "ae8aafc6",
   "metadata": {},
   "outputs": [
    {
     "data": {
      "text/plain": [
       "6"
      ]
     },
     "execution_count": 110,
     "metadata": {},
     "output_type": "execute_result"
    }
   ],
   "source": [
    "sum(ls1)"
   ]
  },
  {
   "cell_type": "code",
   "execution_count": 111,
   "id": "bbbf4636",
   "metadata": {},
   "outputs": [
    {
     "data": {
      "text/plain": [
       "6"
      ]
     },
     "execution_count": 111,
     "metadata": {},
     "output_type": "execute_result"
    }
   ],
   "source": [
    "a1 = np.array([1,2,3])\n",
    "sum(a1)"
   ]
  },
  {
   "cell_type": "code",
   "execution_count": 112,
   "id": "4dd82cfb",
   "metadata": {},
   "outputs": [
    {
     "data": {
      "text/plain": [
       "6"
      ]
     },
     "execution_count": 112,
     "metadata": {},
     "output_type": "execute_result"
    }
   ],
   "source": [
    "np.sum(a1)"
   ]
  },
  {
   "cell_type": "markdown",
   "id": "07fa7085",
   "metadata": {},
   "source": [
    "- It is advised to perform pythons methods on python datatypes and use numpy's methods on the Numpy arrays"
   ]
  },
  {
   "cell_type": "code",
   "execution_count": 117,
   "id": "9dbce9d8",
   "metadata": {},
   "outputs": [
    {
     "data": {
      "text/plain": [
       "array([0.90531317, 0.09193317, 0.96397208, ..., 0.47429839, 0.11038701,\n",
       "       0.289257  ])"
      ]
     },
     "execution_count": 117,
     "metadata": {},
     "output_type": "execute_result"
    }
   ],
   "source": [
    "# Create a massive numpy array\n",
    "massive_array = np.random.random(100000)\n",
    "massive_array"
   ]
  },
  {
   "cell_type": "code",
   "execution_count": 118,
   "id": "94d56f55",
   "metadata": {},
   "outputs": [
    {
     "data": {
      "text/plain": [
       "100000"
      ]
     },
     "execution_count": 118,
     "metadata": {},
     "output_type": "execute_result"
    }
   ],
   "source": [
    "massive_array.size"
   ]
  },
  {
   "cell_type": "code",
   "execution_count": 119,
   "id": "61b0393b",
   "metadata": {},
   "outputs": [
    {
     "data": {
      "text/plain": [
       "dtype('float64')"
      ]
     },
     "execution_count": 119,
     "metadata": {},
     "output_type": "execute_result"
    }
   ],
   "source": [
    "massive_array.dtype"
   ]
  },
  {
   "cell_type": "code",
   "execution_count": 120,
   "id": "3556bbba",
   "metadata": {},
   "outputs": [
    {
     "data": {
      "text/plain": [
       "numpy.ndarray"
      ]
     },
     "execution_count": 120,
     "metadata": {},
     "output_type": "execute_result"
    }
   ],
   "source": [
    "type(massive_array)"
   ]
  },
  {
   "cell_type": "code",
   "execution_count": 121,
   "id": "35429a91",
   "metadata": {},
   "outputs": [
    {
     "name": "stdout",
     "output_type": "stream",
     "text": [
      "10.4 ms ± 584 µs per loop (mean ± std. dev. of 7 runs, 100 loops each)\n",
      "35.5 µs ± 1.53 µs per loop (mean ± std. dev. of 7 runs, 10000 loops each)\n"
     ]
    }
   ],
   "source": [
    "%timeit sum(massive_array)   #Python's sum method\n",
    "%timeit np.sum(massive_array) #Numpy sum method"
   ]
  },
  {
   "cell_type": "markdown",
   "id": "07f51004",
   "metadata": {},
   "source": [
    "`%timeit` is the jupyter magic function. It give the time taken by the line to execute.\n",
    "\n",
    "##### As we can see from the above calculation python `sum()` method take 10.4 milliseconds  while Numpy `np.sum()` method take 35.5 microseconds to perform the sum of 100000 entries.\n",
    "Pyhton method is 500+ times slower than numpy function. \n",
    "<br>\n",
    "Therefore numpy is great library for ML"
   ]
  },
  {
   "cell_type": "code",
   "execution_count": 122,
   "id": "c329a5ba",
   "metadata": {},
   "outputs": [
    {
     "data": {
      "text/plain": [
       "0.49971779383120823"
      ]
     },
     "execution_count": 122,
     "metadata": {},
     "output_type": "execute_result"
    }
   ],
   "source": [
    "np.mean(massive_array)"
   ]
  },
  {
   "cell_type": "code",
   "execution_count": 123,
   "id": "a9e2677e",
   "metadata": {},
   "outputs": [
    {
     "data": {
      "text/plain": [
       "0.49847740055854795"
      ]
     },
     "execution_count": 123,
     "metadata": {},
     "output_type": "execute_result"
    }
   ],
   "source": [
    "np.median(massive_array)"
   ]
  },
  {
   "cell_type": "code",
   "execution_count": 124,
   "id": "b5da2919",
   "metadata": {},
   "outputs": [
    {
     "data": {
      "text/plain": [
       "3.932141535711864e-07"
      ]
     },
     "execution_count": 124,
     "metadata": {},
     "output_type": "execute_result"
    }
   ],
   "source": [
    "np.min(massive_array)   # minimum element"
   ]
  },
  {
   "cell_type": "code",
   "execution_count": 125,
   "id": "bd102bd3",
   "metadata": {},
   "outputs": [
    {
     "data": {
      "text/plain": [
       "0.9999904286086201"
      ]
     },
     "execution_count": 125,
     "metadata": {},
     "output_type": "execute_result"
    }
   ],
   "source": [
    "np.max(massive_array)   # maximum element"
   ]
  },
  {
   "cell_type": "code",
   "execution_count": 126,
   "id": "afac7d3a",
   "metadata": {},
   "outputs": [
    {
     "data": {
      "text/plain": [
       "0.2883568024203"
      ]
     },
     "execution_count": 126,
     "metadata": {},
     "output_type": "execute_result"
    }
   ],
   "source": [
    "np.std(massive_array)  # standerd deviation"
   ]
  },
  {
   "cell_type": "code",
   "execution_count": 127,
   "id": "dc82d2e4",
   "metadata": {},
   "outputs": [
    {
     "data": {
      "text/plain": [
       "0.08314964550205992"
      ]
     },
     "execution_count": 127,
     "metadata": {},
     "output_type": "execute_result"
    }
   ],
   "source": [
    "np.var(massive_array)   # variance"
   ]
  },
  {
   "cell_type": "code",
   "execution_count": 128,
   "id": "78d9a93c",
   "metadata": {},
   "outputs": [
    {
     "data": {
      "text/plain": [
       "array([0.95147947, 0.30320483, 0.9818208 , ..., 0.68869325, 0.33224541,\n",
       "       0.53782618])"
      ]
     },
     "execution_count": 128,
     "metadata": {},
     "output_type": "execute_result"
    }
   ],
   "source": [
    "np.sqrt(massive_array)"
   ]
  },
  {
   "cell_type": "code",
   "execution_count": 129,
   "id": "aa6039c8",
   "metadata": {},
   "outputs": [
    {
     "data": {
      "text/plain": [
       "array([0.81959194, 0.00845171, 0.92924217, ..., 0.22495896, 0.01218529,\n",
       "       0.08366961])"
      ]
     },
     "execution_count": 129,
     "metadata": {},
     "output_type": "execute_result"
    }
   ],
   "source": [
    "np.square(massive_array)"
   ]
  },
  {
   "cell_type": "code",
   "execution_count": 132,
   "id": "42d9ca79",
   "metadata": {},
   "outputs": [
    {
     "data": {
      "text/plain": [
       "array([7.41987383e-01, 7.76992272e-04, 8.95763512e-01, ...,\n",
       "       1.06697673e-01, 1.34509800e-03, 2.42020220e-02])"
      ]
     },
     "execution_count": 132,
     "metadata": {},
     "output_type": "execute_result"
    }
   ],
   "source": [
    "np.power(massive_array, 3)"
   ]
  },
  {
   "cell_type": "markdown",
   "id": "8285897f",
   "metadata": {},
   "source": [
    "## 5. Reshaping and Transposing"
   ]
  },
  {
   "cell_type": "code",
   "execution_count": 136,
   "id": "0250999d",
   "metadata": {},
   "outputs": [
    {
     "data": {
      "text/plain": [
       "(array([[1, 2, 3],\n",
       "        [4, 5, 6]]),\n",
       " (2, 3))"
      ]
     },
     "execution_count": 136,
     "metadata": {},
     "output_type": "execute_result"
    }
   ],
   "source": [
    "arr1 = np.array([[1,2,3],[4,5,6]])\n",
    "arr1, np.shape(arr1)"
   ]
  },
  {
   "cell_type": "code",
   "execution_count": 137,
   "id": "42ee17da",
   "metadata": {},
   "outputs": [
    {
     "data": {
      "text/plain": [
       "(array([[[0, 6, 7],\n",
       "         [0, 4, 8],\n",
       "         [9, 2, 2]],\n",
       " \n",
       "        [[2, 9, 7],\n",
       "         [7, 8, 4],\n",
       "         [5, 5, 3]]]),\n",
       " (2, 3, 3))"
      ]
     },
     "execution_count": 137,
     "metadata": {},
     "output_type": "execute_result"
    }
   ],
   "source": [
    "arr2 = np.random.randint(0,10,size = (2,3,3))\n",
    "arr2, np.shape(arr2)"
   ]
  },
  {
   "cell_type": "code",
   "execution_count": 138,
   "id": "f5f6dc1a",
   "metadata": {},
   "outputs": [
    {
     "ename": "ValueError",
     "evalue": "operands could not be broadcast together with shapes (2,3) (2,3,3) ",
     "output_type": "error",
     "traceback": [
      "\u001b[1;31m---------------------------------------------------------------------------\u001b[0m",
      "\u001b[1;31mValueError\u001b[0m                                Traceback (most recent call last)",
      "\u001b[1;32m~\\AppData\\Local\\Temp/ipykernel_16136/3653520007.py\u001b[0m in \u001b[0;36m<module>\u001b[1;34m\u001b[0m\n\u001b[1;32m----> 1\u001b[1;33m \u001b[0marr1\u001b[0m \u001b[1;33m*\u001b[0m \u001b[0marr2\u001b[0m\u001b[1;33m\u001b[0m\u001b[1;33m\u001b[0m\u001b[0m\n\u001b[0m",
      "\u001b[1;31mValueError\u001b[0m: operands could not be broadcast together with shapes (2,3) (2,3,3) "
     ]
    }
   ],
   "source": [
    "arr1 * arr2   # error"
   ]
  },
  {
   "cell_type": "code",
   "execution_count": 139,
   "id": "a80a6579",
   "metadata": {},
   "outputs": [
    {
     "data": {
      "text/plain": [
       "(array([[[1],\n",
       "         [2],\n",
       "         [3]],\n",
       " \n",
       "        [[4],\n",
       "         [5],\n",
       "         [6]]]),\n",
       " (2, 3, 1))"
      ]
     },
     "execution_count": 139,
     "metadata": {},
     "output_type": "execute_result"
    }
   ],
   "source": [
    "# Numpy broadcasting rule - two numpy array can only be operated if their shape is same or one of their shape is 1\n",
    "\n",
    "arr1_reshape = arr1.reshape(2,3,1)\n",
    "arr1_reshape, np.shape(arr1_reshape)"
   ]
  },
  {
   "cell_type": "code",
   "execution_count": 140,
   "id": "fb4ecdc3",
   "metadata": {},
   "outputs": [
    {
     "data": {
      "text/plain": [
       "array([[[ 0,  6,  7],\n",
       "        [ 0,  8, 16],\n",
       "        [27,  6,  6]],\n",
       "\n",
       "       [[ 8, 36, 28],\n",
       "        [35, 40, 20],\n",
       "        [30, 30, 18]]])"
      ]
     },
     "execution_count": 140,
     "metadata": {},
     "output_type": "execute_result"
    }
   ],
   "source": [
    "arr1_reshape * arr2   # now the multiplication is compactible "
   ]
  },
  {
   "cell_type": "code",
   "execution_count": 144,
   "id": "cb5b27c2",
   "metadata": {},
   "outputs": [
    {
     "data": {
      "text/plain": [
       "array([[1, 4],\n",
       "       [2, 5],\n",
       "       [3, 6]])"
      ]
     },
     "execution_count": 144,
     "metadata": {},
     "output_type": "execute_result"
    }
   ],
   "source": [
    "arr1.T     # transpose the array"
   ]
  },
  {
   "cell_type": "code",
   "execution_count": 145,
   "id": "dc4c2779",
   "metadata": {},
   "outputs": [
    {
     "data": {
      "text/plain": [
       "array([[[0, 2],\n",
       "        [0, 7],\n",
       "        [9, 5]],\n",
       "\n",
       "       [[6, 9],\n",
       "        [4, 8],\n",
       "        [2, 5]],\n",
       "\n",
       "       [[7, 7],\n",
       "        [8, 4],\n",
       "        [2, 3]]])"
      ]
     },
     "execution_count": 145,
     "metadata": {},
     "output_type": "execute_result"
    }
   ],
   "source": [
    "arr2.T"
   ]
  },
  {
   "cell_type": "code",
   "execution_count": 148,
   "id": "febb332d",
   "metadata": {},
   "outputs": [
    {
     "data": {
      "text/plain": [
       "((2, 3, 3), (3, 3, 2))"
      ]
     },
     "execution_count": 148,
     "metadata": {},
     "output_type": "execute_result"
    }
   ],
   "source": [
    "arr2.shape, arr2.T.shape"
   ]
  },
  {
   "cell_type": "markdown",
   "id": "6bd41719",
   "metadata": {},
   "source": [
    "## 6. Comparison Operators"
   ]
  },
  {
   "cell_type": "code",
   "execution_count": 150,
   "id": "95895ef5",
   "metadata": {},
   "outputs": [
    {
     "data": {
      "text/plain": [
       "array([[1, 2, 3],\n",
       "       [4, 5, 6]])"
      ]
     },
     "execution_count": 150,
     "metadata": {},
     "output_type": "execute_result"
    }
   ],
   "source": [
    "arr1"
   ]
  },
  {
   "cell_type": "code",
   "execution_count": 153,
   "id": "ad21188b",
   "metadata": {},
   "outputs": [
    {
     "data": {
      "text/plain": [
       "array([[[1],\n",
       "        [2],\n",
       "        [3]],\n",
       "\n",
       "       [[4],\n",
       "        [5],\n",
       "        [6]]])"
      ]
     },
     "execution_count": 153,
     "metadata": {},
     "output_type": "execute_result"
    }
   ],
   "source": [
    "arr1_reshape"
   ]
  },
  {
   "cell_type": "code",
   "execution_count": 158,
   "id": "fb9b5076",
   "metadata": {},
   "outputs": [
    {
     "data": {
      "text/plain": [
       "array([[[ True, False, False],\n",
       "        [ True, False, False],\n",
       "        [False,  True,  True]],\n",
       "\n",
       "       [[ True, False, False],\n",
       "        [False, False,  True],\n",
       "        [ True,  True,  True]]])"
      ]
     },
     "execution_count": 158,
     "metadata": {},
     "output_type": "execute_result"
    }
   ],
   "source": [
    "bool_array = arr1_reshape > arr2      # return a boolean array\n",
    "bool_array"
   ]
  },
  {
   "cell_type": "code",
   "execution_count": 159,
   "id": "1ccbdb08",
   "metadata": {},
   "outputs": [
    {
     "data": {
      "text/plain": [
       "(array([[[ True, False, False],\n",
       "         [ True, False, False],\n",
       "         [False,  True,  True]],\n",
       " \n",
       "        [[ True, False, False],\n",
       "         [False, False,  True],\n",
       "         [ True,  True,  True]]]),\n",
       " dtype('bool'),\n",
       " numpy.ndarray)"
      ]
     },
     "execution_count": 159,
     "metadata": {},
     "output_type": "execute_result"
    }
   ],
   "source": [
    "bool_array, bool_array.dtype, type(bool_array)"
   ]
  },
  {
   "cell_type": "code",
   "execution_count": 161,
   "id": "e9ec336d",
   "metadata": {},
   "outputs": [
    {
     "data": {
      "text/plain": [
       "array([[[False, False, False],\n",
       "        [False, False, False],\n",
       "        [False, False, False]],\n",
       "\n",
       "       [[False, False, False],\n",
       "        [False, False, False],\n",
       "        [False, False, False]]])"
      ]
     },
     "execution_count": 161,
     "metadata": {},
     "output_type": "execute_result"
    }
   ],
   "source": [
    "arr1_reshape == arr2"
   ]
  },
  {
   "cell_type": "code",
   "execution_count": 163,
   "id": "191c864b",
   "metadata": {},
   "outputs": [
    {
     "data": {
      "text/plain": [
       "array([[[False,  True,  True],\n",
       "        [False,  True,  True],\n",
       "        [ True, False, False]],\n",
       "\n",
       "       [[False,  True,  True],\n",
       "        [ True,  True, False],\n",
       "        [False, False, False]]])"
      ]
     },
     "execution_count": 163,
     "metadata": {},
     "output_type": "execute_result"
    }
   ],
   "source": [
    "arr1_reshape < arr2"
   ]
  },
  {
   "cell_type": "markdown",
   "id": "5a982598",
   "metadata": {},
   "source": [
    "## 7. Sorting Arrays"
   ]
  },
  {
   "cell_type": "code",
   "execution_count": 171,
   "id": "00e998fd",
   "metadata": {},
   "outputs": [],
   "source": [
    "rand_array = np.random.randint(1, 10 ,size = (3,5))"
   ]
  },
  {
   "cell_type": "code",
   "execution_count": 172,
   "id": "7eca0334",
   "metadata": {},
   "outputs": [
    {
     "data": {
      "text/plain": [
       "array([[3, 8, 7, 6, 3],\n",
       "       [3, 2, 1, 4, 6],\n",
       "       [9, 1, 1, 6, 1]])"
      ]
     },
     "execution_count": 172,
     "metadata": {},
     "output_type": "execute_result"
    }
   ],
   "source": [
    "rand_array"
   ]
  },
  {
   "cell_type": "code",
   "execution_count": 173,
   "id": "caf09d04",
   "metadata": {},
   "outputs": [
    {
     "data": {
      "text/plain": [
       "array([[3, 3, 6, 7, 8],\n",
       "       [1, 2, 3, 4, 6],\n",
       "       [1, 1, 1, 6, 9]])"
      ]
     },
     "execution_count": 173,
     "metadata": {},
     "output_type": "execute_result"
    }
   ],
   "source": [
    "# Sort the elements in the array in default axis i.e axis = 1 column\n",
    "np.sort(rand_array)"
   ]
  },
  {
   "cell_type": "code",
   "execution_count": 175,
   "id": "3e11f32f",
   "metadata": {},
   "outputs": [
    {
     "data": {
      "text/plain": [
       "array([[3, 1, 1, 4, 1],\n",
       "       [3, 2, 1, 6, 3],\n",
       "       [9, 8, 7, 6, 6]])"
      ]
     },
     "execution_count": 175,
     "metadata": {},
     "output_type": "execute_result"
    }
   ],
   "source": [
    "np.sort(rand_array, axis=0) # sort according to axis = 0 row"
   ]
  },
  {
   "cell_type": "code",
   "execution_count": 179,
   "id": "464851f9",
   "metadata": {},
   "outputs": [
    {
     "data": {
      "text/plain": [
       "array([[3, 8, 7, 6, 3],\n",
       "       [3, 2, 1, 4, 6],\n",
       "       [9, 1, 1, 6, 1]])"
      ]
     },
     "execution_count": 179,
     "metadata": {},
     "output_type": "execute_result"
    }
   ],
   "source": [
    "rand_array"
   ]
  },
  {
   "cell_type": "code",
   "execution_count": 183,
   "id": "96d487fd",
   "metadata": {},
   "outputs": [
    {
     "data": {
      "text/plain": [
       "array([2, 0, 0, 0, 1], dtype=int64)"
      ]
     },
     "execution_count": 183,
     "metadata": {},
     "output_type": "execute_result"
    }
   ],
   "source": [
    "np.argmax(rand_array, axis=0) # return the indices of maximum element accross the axis"
   ]
  },
  {
   "cell_type": "code",
   "execution_count": 184,
   "id": "edaebfe6",
   "metadata": {},
   "outputs": [
    {
     "data": {
      "text/plain": [
       "array([1, 4, 0], dtype=int64)"
      ]
     },
     "execution_count": 184,
     "metadata": {},
     "output_type": "execute_result"
    }
   ],
   "source": [
    "np.argmax(rand_array, axis=1)"
   ]
  },
  {
   "cell_type": "markdown",
   "id": "c4a7362f",
   "metadata": {},
   "source": [
    "## Practical Example - Numpy in Action!!!!"
   ]
  },
  {
   "cell_type": "markdown",
   "id": "98250e0d",
   "metadata": {},
   "source": [
    "Converting the image into numbers "
   ]
  },
  {
   "cell_type": "code",
   "execution_count": null,
   "id": "403217ae",
   "metadata": {},
   "outputs": [],
   "source": [
    "<img src='./images/panda.png'"
   ]
  }
 ],
 "metadata": {
  "kernelspec": {
   "display_name": "Python 3 (ipykernel)",
   "language": "python",
   "name": "python3"
  },
  "language_info": {
   "codemirror_mode": {
    "name": "ipython",
    "version": 3
   },
   "file_extension": ".py",
   "mimetype": "text/x-python",
   "name": "python",
   "nbconvert_exporter": "python",
   "pygments_lexer": "ipython3",
   "version": "3.10.1"
  }
 },
 "nbformat": 4,
 "nbformat_minor": 5
}
