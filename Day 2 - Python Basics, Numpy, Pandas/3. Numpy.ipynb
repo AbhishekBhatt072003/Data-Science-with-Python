{
 "cells": [
  {
   "cell_type": "markdown",
   "id": "b75f54f7",
   "metadata": {},
   "source": [
    "# Numpy"
   ]
  },
  {
   "cell_type": "markdown",
   "id": "ec8e9007",
   "metadata": {},
   "source": [
    "Numpy is a library for the python programming languange, adding large multi-dimensional arrays and matrices, along with the large collections of the high\n",
    "level mathematical functions to operate on these arrays\n",
    "- very fast\n",
    "- uses vectorization using brodcasting (without using loops)"
   ]
  },
  {
   "cell_type": "markdown",
   "id": "e7ff0b77",
   "metadata": {},
   "source": [
    "### 1. Datatypes and Attributes\n",
    "Numpy has only 1 datatype ndarray (n dimensional array)"
   ]
  },
  {
   "cell_type": "code",
   "execution_count": 5,
   "id": "f11df447",
   "metadata": {},
   "outputs": [],
   "source": [
    "import numpy as np"
   ]
  },
  {
   "cell_type": "code",
   "execution_count": 6,
   "id": "3538ccc9",
   "metadata": {},
   "outputs": [
    {
     "data": {
      "text/plain": [
       "array([1, 2, 3])"
      ]
     },
     "execution_count": 6,
     "metadata": {},
     "output_type": "execute_result"
    }
   ],
   "source": [
    "a1 = np.array([1,2,3])            # create a 1d array. It takes python list as parameters \n",
    "a1"
   ]
  },
  {
   "cell_type": "code",
   "execution_count": 7,
   "id": "03ed99b6",
   "metadata": {},
   "outputs": [],
   "source": [
    "l1 = [4,5,6]\n",
    "a1 = np.array(l1)"
   ]
  },
  {
   "cell_type": "code",
   "execution_count": 8,
   "id": "495c7573",
   "metadata": {},
   "outputs": [
    {
     "data": {
      "text/plain": [
       "array([4, 5, 6])"
      ]
     },
     "execution_count": 8,
     "metadata": {},
     "output_type": "execute_result"
    }
   ],
   "source": [
    "a1"
   ]
  },
  {
   "cell_type": "code",
   "execution_count": 9,
   "id": "22a55352",
   "metadata": {},
   "outputs": [
    {
     "data": {
      "text/plain": [
       "array([[1, 2, 3],\n",
       "       [4, 5, 6]])"
      ]
     },
     "execution_count": 9,
     "metadata": {},
     "output_type": "execute_result"
    }
   ],
   "source": [
    "a2 = np.array([[1,2,3],            # create 2d array\n",
    "               [4,5,6]])\n",
    "a2"
   ]
  },
  {
   "cell_type": "code",
   "execution_count": 10,
   "id": "502f6739",
   "metadata": {},
   "outputs": [],
   "source": [
    "a3 = np.array([[[1, 2, 3],\n",
    "                [4, 5, 6]],        #  create 3d array\n",
    "               [[7, 8, 9],\n",
    "                [10, 11, 12]],\n",
    "               [[13, 14, 15],\n",
    "                [16, 17, 18]]])"
   ]
  },
  {
   "cell_type": "code",
   "execution_count": 12,
   "id": "0deb66b2",
   "metadata": {},
   "outputs": [
    {
     "data": {
      "text/plain": [
       "array([[[ 1,  2,  3],\n",
       "        [ 4,  5,  6]],\n",
       "\n",
       "       [[ 7,  8,  9],\n",
       "        [10, 11, 12]],\n",
       "\n",
       "       [[13, 14, 15],\n",
       "        [16, 17, 18]]])"
      ]
     },
     "execution_count": 12,
     "metadata": {},
     "output_type": "execute_result"
    }
   ],
   "source": [
    "a3"
   ]
  },
  {
   "cell_type": "code",
   "execution_count": 14,
   "id": "54629d0b",
   "metadata": {},
   "outputs": [
    {
     "data": {
      "text/plain": [
       "(3,)"
      ]
     },
     "execution_count": 14,
     "metadata": {},
     "output_type": "execute_result"
    }
   ],
   "source": [
    "a1.shape"
   ]
  },
  {
   "cell_type": "code",
   "execution_count": 15,
   "id": "44e65e2d",
   "metadata": {},
   "outputs": [
    {
     "data": {
      "text/plain": [
       "(2, 3)"
      ]
     },
     "execution_count": 15,
     "metadata": {},
     "output_type": "execute_result"
    }
   ],
   "source": [
    "a2.shape"
   ]
  },
  {
   "cell_type": "code",
   "execution_count": 23,
   "id": "f5518c43",
   "metadata": {},
   "outputs": [
    {
     "data": {
      "text/plain": [
       "(3, 2, 3)"
      ]
     },
     "execution_count": 23,
     "metadata": {},
     "output_type": "execute_result"
    }
   ],
   "source": [
    "a3.shape                          # check how many dimensions are there in array"
   ]
  },
  {
   "cell_type": "code",
   "execution_count": 24,
   "id": "89b54d72",
   "metadata": {},
   "outputs": [
    {
     "data": {
      "text/plain": [
       "(1, 2, 3)"
      ]
     },
     "execution_count": 24,
     "metadata": {},
     "output_type": "execute_result"
    }
   ],
   "source": [
    "a1.ndim , a2.ndim, a3.ndim        # check the dimensions of array"
   ]
  },
  {
   "cell_type": "code",
   "execution_count": 25,
   "id": "c7e75029",
   "metadata": {},
   "outputs": [
    {
     "data": {
      "text/plain": [
       "(dtype('int32'), dtype('int32'), dtype('int32'))"
      ]
     },
     "execution_count": 25,
     "metadata": {},
     "output_type": "execute_result"
    }
   ],
   "source": [
    "a1.dtype, a2.dtype, a3.dtype       # check the type of data stored in arrray"
   ]
  },
  {
   "cell_type": "code",
   "execution_count": 26,
   "id": "55e4a3f7",
   "metadata": {},
   "outputs": [
    {
     "data": {
      "text/plain": [
       "(3, 6, 18)"
      ]
     },
     "execution_count": 26,
     "metadata": {},
     "output_type": "execute_result"
    }
   ],
   "source": [
    "a1.size, a2.size, a3.size         # check the no of elements in the array"
   ]
  },
  {
   "cell_type": "code",
   "execution_count": 27,
   "id": "43d76838",
   "metadata": {},
   "outputs": [
    {
     "data": {
      "text/plain": [
       "(numpy.ndarray, numpy.ndarray, numpy.ndarray)"
      ]
     },
     "execution_count": 27,
     "metadata": {},
     "output_type": "execute_result"
    }
   ],
   "source": [
    "type(a1), type(a2), type(a3)      # check what is the type of the datastructure"
   ]
  },
  {
   "cell_type": "markdown",
   "id": "72a6e84c",
   "metadata": {},
   "source": [
    " ## 2. Creating Numpy Arrays"
   ]
  },
  {
   "cell_type": "code",
   "execution_count": 28,
   "id": "70161201",
   "metadata": {},
   "outputs": [
    {
     "name": "stdout",
     "output_type": "stream",
     "text": [
      "[1 2 3]\n"
     ]
    }
   ],
   "source": [
    "sample_array = np.array([1,2,3])\n",
    "print(sample_array)"
   ]
  },
  {
   "cell_type": "code",
   "execution_count": 30,
   "id": "107218e5",
   "metadata": {},
   "outputs": [
    {
     "data": {
      "text/plain": [
       "dtype('int32')"
      ]
     },
     "execution_count": 30,
     "metadata": {},
     "output_type": "execute_result"
    }
   ],
   "source": [
    "sample_array.dtype"
   ]
  },
  {
   "cell_type": "code",
   "execution_count": 31,
   "id": "01c338ec",
   "metadata": {},
   "outputs": [],
   "source": [
    "ones = np.ones((2,3), dtype=float)    # gives a arrays with given shape and type, all filled with ones  "
   ]
  },
  {
   "cell_type": "code",
   "execution_count": 32,
   "id": "abc98601",
   "metadata": {},
   "outputs": [
    {
     "data": {
      "text/plain": [
       "array([[1., 1., 1.],\n",
       "       [1., 1., 1.]])"
      ]
     },
     "execution_count": 32,
     "metadata": {},
     "output_type": "execute_result"
    }
   ],
   "source": [
    "ones"
   ]
  },
  {
   "cell_type": "code",
   "execution_count": 33,
   "id": "125bcfb0",
   "metadata": {},
   "outputs": [
    {
     "name": "stdout",
     "output_type": "stream",
     "text": [
      "float64\n",
      "<class 'numpy.ndarray'>\n"
     ]
    }
   ],
   "source": [
    "print(ones.dtype)\n",
    "print(type(ones))"
   ]
  },
  {
   "cell_type": "code",
   "execution_count": 34,
   "id": "116f0761",
   "metadata": {},
   "outputs": [],
   "source": [
    "zeros = np.zeros((3,3))   # arrays filled with zeros "
   ]
  },
  {
   "cell_type": "code",
   "execution_count": 35,
   "id": "13843184",
   "metadata": {},
   "outputs": [
    {
     "data": {
      "text/plain": [
       "array([[0., 0., 0.],\n",
       "       [0., 0., 0.],\n",
       "       [0., 0., 0.]])"
      ]
     },
     "execution_count": 35,
     "metadata": {},
     "output_type": "execute_result"
    }
   ],
   "source": [
    "zeros"
   ]
  },
  {
   "cell_type": "code",
   "execution_count": 36,
   "id": "3eed6c5b",
   "metadata": {},
   "outputs": [],
   "source": [
    "range_array = np.arange(0, 10, 2)"
   ]
  },
  {
   "cell_type": "code",
   "execution_count": 37,
   "id": "db14375a",
   "metadata": {},
   "outputs": [
    {
     "data": {
      "text/plain": [
       "array([0, 2, 4, 6, 8])"
      ]
     },
     "execution_count": 37,
     "metadata": {},
     "output_type": "execute_result"
    }
   ],
   "source": [
    "range_array"
   ]
  },
  {
   "cell_type": "code",
   "execution_count": 38,
   "id": "f1b90f61",
   "metadata": {},
   "outputs": [],
   "source": [
    "random_array = np.random.randint(2, 9, size = (3,5))"
   ]
  },
  {
   "cell_type": "code",
   "execution_count": 39,
   "id": "bff7e9db",
   "metadata": {},
   "outputs": [
    {
     "data": {
      "text/plain": [
       "array([[8, 3, 3, 3, 6],\n",
       "       [5, 7, 7, 4, 6],\n",
       "       [3, 3, 3, 8, 6]])"
      ]
     },
     "execution_count": 39,
     "metadata": {},
     "output_type": "execute_result"
    }
   ],
   "source": [
    "random_array"
   ]
  },
  {
   "cell_type": "code",
   "execution_count": 40,
   "id": "6efef30e",
   "metadata": {},
   "outputs": [],
   "source": [
    "random_array2 = np.random.random((5,3))"
   ]
  },
  {
   "cell_type": "code",
   "execution_count": 41,
   "id": "2b29fe5a",
   "metadata": {},
   "outputs": [
    {
     "data": {
      "text/plain": [
       "array([[0.54545034, 0.05990775, 0.87687031],\n",
       "       [0.44172388, 0.88969806, 0.0912468 ],\n",
       "       [0.97318032, 0.93690296, 0.11006074],\n",
       "       [0.01938437, 0.64097538, 0.20994308],\n",
       "       [0.74122262, 0.32436457, 0.61371477]])"
      ]
     },
     "execution_count": 41,
     "metadata": {},
     "output_type": "execute_result"
    }
   ],
   "source": [
    "random_array2"
   ]
  },
  {
   "cell_type": "code",
   "execution_count": 42,
   "id": "ef25f748",
   "metadata": {},
   "outputs": [],
   "source": [
    "random_array3 = np.random.rand(3,3)"
   ]
  },
  {
   "cell_type": "code",
   "execution_count": 43,
   "id": "0d2c4b4a",
   "metadata": {},
   "outputs": [
    {
     "data": {
      "text/plain": [
       "array([[0.33838705, 0.38958052, 0.81603963],\n",
       "       [0.25403175, 0.5562384 , 0.95392395],\n",
       "       [0.25304136, 0.03427383, 0.76161778]])"
      ]
     },
     "execution_count": 43,
     "metadata": {},
     "output_type": "execute_result"
    }
   ],
   "source": [
    "random_array3"
   ]
  },
  {
   "cell_type": "markdown",
   "id": "a0637b71",
   "metadata": {},
   "source": [
    "## 3. Viewing arrays and matrices"
   ]
  },
  {
   "cell_type": "code",
   "execution_count": 44,
   "id": "2a951ab3",
   "metadata": {},
   "outputs": [
    {
     "data": {
      "text/plain": [
       "array([[8, 7, 5, 5],\n",
       "       [4, 4, 8, 2],\n",
       "       [3, 8, 5, 5],\n",
       "       [5, 2, 5, 6]])"
      ]
     },
     "execution_count": 44,
     "metadata": {},
     "output_type": "execute_result"
    }
   ],
   "source": [
    "my_array = np.random.randint(2,9,size=(4,4))\n",
    "my_array"
   ]
  },
  {
   "cell_type": "code",
   "execution_count": 45,
   "id": "0d3ab2fc",
   "metadata": {},
   "outputs": [
    {
     "data": {
      "text/plain": [
       "array([2, 3, 4, 5, 6, 7, 8])"
      ]
     },
     "execution_count": 45,
     "metadata": {},
     "output_type": "execute_result"
    }
   ],
   "source": [
    "np.unique(my_array)  # returns an array with all elements from the passed array only one time"
   ]
  },
  {
   "cell_type": "code",
   "execution_count": 46,
   "id": "ec81540b",
   "metadata": {},
   "outputs": [
    {
     "data": {
      "text/plain": [
       "array([[8, 7, 5, 5],\n",
       "       [4, 4, 8, 2],\n",
       "       [3, 8, 5, 5],\n",
       "       [5, 2, 5, 6]])"
      ]
     },
     "execution_count": 46,
     "metadata": {},
     "output_type": "execute_result"
    }
   ],
   "source": [
    "my_array"
   ]
  },
  {
   "cell_type": "code",
   "execution_count": 48,
   "id": "d9c8e8fb",
   "metadata": {},
   "outputs": [
    {
     "data": {
      "text/plain": [
       "(array([8, 7, 5, 5]),\n",
       " array([4, 4, 8, 2]),\n",
       " array([3, 8, 5, 5]),\n",
       " array([5, 2, 5, 6]))"
      ]
     },
     "execution_count": 48,
     "metadata": {},
     "output_type": "execute_result"
    }
   ],
   "source": [
    "my_array[0], my_array[1], my_array[2], my_array[3]"
   ]
  },
  {
   "cell_type": "code",
   "execution_count": 49,
   "id": "0086f1a4",
   "metadata": {},
   "outputs": [
    {
     "data": {
      "text/plain": [
       "(8, 7, 5, 5)"
      ]
     },
     "execution_count": 49,
     "metadata": {},
     "output_type": "execute_result"
    }
   ],
   "source": [
    "my_array[0][0], my_array[0][1], my_array[0][2], my_array[0][3], "
   ]
  },
  {
   "cell_type": "code",
   "execution_count": 50,
   "id": "07309b87",
   "metadata": {},
   "outputs": [
    {
     "data": {
      "text/plain": [
       "array([[8, 7, 5, 5],\n",
       "       [4, 4, 8, 2],\n",
       "       [3, 8, 5, 5],\n",
       "       [5, 2, 5, 6]])"
      ]
     },
     "execution_count": 50,
     "metadata": {},
     "output_type": "execute_result"
    }
   ],
   "source": [
    "# We can also use the slicing in numpy arrays. Just like the python\n",
    "my_array"
   ]
  },
  {
   "cell_type": "code",
   "execution_count": 51,
   "id": "2d9aa859",
   "metadata": {},
   "outputs": [
    {
     "data": {
      "text/plain": [
       "array([[8, 7, 5, 5],\n",
       "       [4, 4, 8, 2]])"
      ]
     },
     "execution_count": 51,
     "metadata": {},
     "output_type": "execute_result"
    }
   ],
   "source": [
    "my_array[0:2]"
   ]
  },
  {
   "cell_type": "code",
   "execution_count": 52,
   "id": "f6d01a1d",
   "metadata": {},
   "outputs": [
    {
     "data": {
      "text/plain": [
       "array([[3, 8, 5, 5],\n",
       "       [5, 2, 5, 6]])"
      ]
     },
     "execution_count": 52,
     "metadata": {},
     "output_type": "execute_result"
    }
   ],
   "source": [
    "my_array[2:4]"
   ]
  },
  {
   "cell_type": "code",
   "execution_count": 55,
   "id": "cff343be",
   "metadata": {},
   "outputs": [
    {
     "data": {
      "text/plain": [
       "array([[8, 7, 5, 5],\n",
       "       [4, 4, 8, 2],\n",
       "       [3, 8, 5, 5],\n",
       "       [5, 2, 5, 6]])"
      ]
     },
     "execution_count": 55,
     "metadata": {},
     "output_type": "execute_result"
    }
   ],
   "source": [
    "my_array[0:len(my_array)]"
   ]
  },
  {
   "cell_type": "code",
   "execution_count": 57,
   "id": "b04f9497",
   "metadata": {},
   "outputs": [
    {
     "data": {
      "text/plain": [
       "array([[8, 7, 5, 5],\n",
       "       [3, 8, 5, 5]])"
      ]
     },
     "execution_count": 57,
     "metadata": {},
     "output_type": "execute_result"
    }
   ],
   "source": [
    "my_array[0:4:2]"
   ]
  },
  {
   "cell_type": "code",
   "execution_count": 58,
   "id": "fb8feca7",
   "metadata": {},
   "outputs": [
    {
     "data": {
      "text/plain": [
       "array([[5, 2, 5, 6],\n",
       "       [3, 8, 5, 5],\n",
       "       [4, 4, 8, 2],\n",
       "       [8, 7, 5, 5]])"
      ]
     },
     "execution_count": 58,
     "metadata": {},
     "output_type": "execute_result"
    }
   ],
   "source": [
    "my_array[::-1]"
   ]
  },
  {
   "cell_type": "code",
   "execution_count": 59,
   "id": "7ef93c4d",
   "metadata": {},
   "outputs": [
    {
     "data": {
      "text/plain": [
       "array([[[[3, 0, 1, 9, 8],\n",
       "         [4, 1, 5, 1, 2],\n",
       "         [4, 4, 6, 3, 8],\n",
       "         [9, 8, 1, 5, 9]],\n",
       "\n",
       "        [[3, 2, 5, 8, 8],\n",
       "         [3, 7, 0, 7, 3],\n",
       "         [5, 2, 8, 3, 9],\n",
       "         [6, 1, 7, 2, 4]],\n",
       "\n",
       "        [[8, 3, 4, 8, 9],\n",
       "         [4, 1, 8, 8, 5],\n",
       "         [8, 2, 9, 0, 0],\n",
       "         [9, 5, 6, 2, 9]]],\n",
       "\n",
       "\n",
       "       [[[4, 2, 1, 3, 8],\n",
       "         [2, 2, 7, 1, 9],\n",
       "         [6, 3, 4, 1, 4],\n",
       "         [9, 4, 5, 1, 5]],\n",
       "\n",
       "        [[1, 2, 1, 1, 2],\n",
       "         [5, 6, 2, 4, 1],\n",
       "         [6, 6, 6, 9, 3],\n",
       "         [1, 1, 3, 4, 2]],\n",
       "\n",
       "        [[9, 4, 3, 3, 1],\n",
       "         [3, 4, 9, 9, 0],\n",
       "         [9, 8, 2, 7, 4],\n",
       "         [3, 9, 9, 7, 7]]]])"
      ]
     },
     "execution_count": 59,
     "metadata": {},
     "output_type": "execute_result"
    }
   ],
   "source": [
    "my_array2 = np.random.randint(10, size = (2,3,4,5))\n",
    "my_array2"
   ]
  },
  {
   "cell_type": "code",
   "execution_count": 60,
   "id": "6aa36085",
   "metadata": {},
   "outputs": [
    {
     "data": {
      "text/plain": [
       "array([[[[3],\n",
       "         [4],\n",
       "         [4],\n",
       "         [9]],\n",
       "\n",
       "        [[3],\n",
       "         [3],\n",
       "         [5],\n",
       "         [6]],\n",
       "\n",
       "        [[8],\n",
       "         [4],\n",
       "         [8],\n",
       "         [9]]],\n",
       "\n",
       "\n",
       "       [[[4],\n",
       "         [2],\n",
       "         [6],\n",
       "         [9]],\n",
       "\n",
       "        [[1],\n",
       "         [5],\n",
       "         [6],\n",
       "         [1]],\n",
       "\n",
       "        [[9],\n",
       "         [3],\n",
       "         [9],\n",
       "         [3]]]])"
      ]
     },
     "execution_count": 60,
     "metadata": {},
     "output_type": "execute_result"
    }
   ],
   "source": [
    "# get the first 4 numbers of the inner most arrays \n",
    "my_array2[:, :, :, :1]"
   ]
  },
  {
   "cell_type": "markdown",
   "id": "19074bd8",
   "metadata": {},
   "source": [
    " ## 4. Manipulating and Comparing Arrays"
   ]
  },
  {
   "cell_type": "markdown",
   "id": "5f60f1b1",
   "metadata": {},
   "source": [
    "### Arithmetic"
   ]
  },
  {
   "cell_type": "code",
   "execution_count": 61,
   "id": "e3644e0d",
   "metadata": {},
   "outputs": [],
   "source": [
    "ones =  np.ones(3)"
   ]
  },
  {
   "cell_type": "code",
   "execution_count": 62,
   "id": "d9506fe2",
   "metadata": {},
   "outputs": [
    {
     "data": {
      "text/plain": [
       "array([1., 1., 1.])"
      ]
     },
     "execution_count": 62,
     "metadata": {},
     "output_type": "execute_result"
    }
   ],
   "source": [
    "ones "
   ]
  },
  {
   "cell_type": "code",
   "execution_count": 74,
   "id": "2446261b",
   "metadata": {},
   "outputs": [
    {
     "data": {
      "text/plain": [
       "array([1, 2, 3])"
      ]
     },
     "execution_count": 74,
     "metadata": {},
     "output_type": "execute_result"
    }
   ],
   "source": [
    "a1 = np.array([1,2,3])\n",
    "a1"
   ]
  },
  {
   "cell_type": "code",
   "execution_count": 75,
   "id": "f639f393",
   "metadata": {},
   "outputs": [
    {
     "data": {
      "text/plain": [
       "array([2., 3., 4.])"
      ]
     },
     "execution_count": 75,
     "metadata": {},
     "output_type": "execute_result"
    }
   ],
   "source": [
    "a1 + ones"
   ]
  },
  {
   "cell_type": "code",
   "execution_count": 76,
   "id": "7b045088",
   "metadata": {},
   "outputs": [
    {
     "data": {
      "text/plain": [
       "array([0., 1., 2.])"
      ]
     },
     "execution_count": 76,
     "metadata": {},
     "output_type": "execute_result"
    }
   ],
   "source": [
    "a1 - ones"
   ]
  },
  {
   "cell_type": "code",
   "execution_count": 77,
   "id": "0d6631fe",
   "metadata": {},
   "outputs": [
    {
     "data": {
      "text/plain": [
       "array([1., 2., 3.])"
      ]
     },
     "execution_count": 77,
     "metadata": {},
     "output_type": "execute_result"
    }
   ],
   "source": [
    "a1 * ones "
   ]
  },
  {
   "cell_type": "code",
   "execution_count": 78,
   "id": "64ad4f19",
   "metadata": {},
   "outputs": [
    {
     "data": {
      "text/plain": [
       "array([[1, 2, 3],\n",
       "       [4, 5, 6]])"
      ]
     },
     "execution_count": 78,
     "metadata": {},
     "output_type": "execute_result"
    }
   ],
   "source": [
    "a2 = np.array([[1,2,3], [4,5,6]])\n",
    "a2"
   ]
  },
  {
   "cell_type": "code",
   "execution_count": 79,
   "id": "98a05511",
   "metadata": {},
   "outputs": [
    {
     "data": {
      "text/plain": [
       "array([[ 1,  4,  9],\n",
       "       [ 4, 10, 18]])"
      ]
     },
     "execution_count": 79,
     "metadata": {},
     "output_type": "execute_result"
    }
   ],
   "source": [
    "a1 * a2"
   ]
  },
  {
   "cell_type": "code",
   "execution_count": 80,
   "id": "85828856",
   "metadata": {},
   "outputs": [
    {
     "data": {
      "text/plain": [
       "array([[ 7,  8,  9],\n",
       "       [11, 12, 13]])"
      ]
     },
     "execution_count": 80,
     "metadata": {},
     "output_type": "execute_result"
    }
   ],
   "source": [
    "a3 = np.array([[7,8,9], [11,12,13]])\n",
    "a3"
   ]
  },
  {
   "cell_type": "code",
   "execution_count": 81,
   "id": "a7e0f7fd",
   "metadata": {},
   "outputs": [
    {
     "data": {
      "text/plain": [
       "array([[ 7, 16, 27],\n",
       "       [44, 60, 78]])"
      ]
     },
     "execution_count": 81,
     "metadata": {},
     "output_type": "execute_result"
    }
   ],
   "source": [
    "a2 * a3     # mmultiply adjacent elements "
   ]
  },
  {
   "cell_type": "code",
   "execution_count": 82,
   "id": "7d01e753",
   "metadata": {},
   "outputs": [
    {
     "data": {
      "text/plain": [
       "array([2, 4, 6])"
      ]
     },
     "execution_count": 82,
     "metadata": {},
     "output_type": "execute_result"
    }
   ],
   "source": [
    "a1 * 2"
   ]
  },
  {
   "cell_type": "code",
   "execution_count": 83,
   "id": "53e27ca3",
   "metadata": {},
   "outputs": [
    {
     "data": {
      "text/plain": [
       "array([1., 2., 3.])"
      ]
     },
     "execution_count": 83,
     "metadata": {},
     "output_type": "execute_result"
    }
   ],
   "source": [
    "a1 / ones "
   ]
  },
  {
   "cell_type": "code",
   "execution_count": 84,
   "id": "f9f4d163",
   "metadata": {},
   "outputs": [
    {
     "data": {
      "text/plain": [
       "array([[1. , 1. , 1. ],\n",
       "       [4. , 2.5, 2. ]])"
      ]
     },
     "execution_count": 84,
     "metadata": {},
     "output_type": "execute_result"
    }
   ],
   "source": [
    "a2 / a1"
   ]
  },
  {
   "cell_type": "code",
   "execution_count": 85,
   "id": "a4e55f1b",
   "metadata": {},
   "outputs": [
    {
     "data": {
      "text/plain": [
       "array([[1, 1, 1],\n",
       "       [4, 2, 2]], dtype=int32)"
      ]
     },
     "execution_count": 85,
     "metadata": {},
     "output_type": "execute_result"
    }
   ],
   "source": [
    "a2 // a1 # floor division"
   ]
  },
  {
   "cell_type": "code",
   "execution_count": 86,
   "id": "7619fc63",
   "metadata": {},
   "outputs": [
    {
     "data": {
      "text/plain": [
       "array([1, 4, 9], dtype=int32)"
      ]
     },
     "execution_count": 86,
     "metadata": {},
     "output_type": "execute_result"
    }
   ],
   "source": [
    "a1 ** 2"
   ]
  },
  {
   "cell_type": "code",
   "execution_count": 87,
   "id": "bc950054",
   "metadata": {},
   "outputs": [
    {
     "data": {
      "text/plain": [
       "array([[  1,   4,  27],\n",
       "       [  4,  25, 216]], dtype=int32)"
      ]
     },
     "execution_count": 87,
     "metadata": {},
     "output_type": "execute_result"
    }
   ],
   "source": [
    "a2 ** a1"
   ]
  },
  {
   "cell_type": "code",
   "execution_count": 89,
   "id": "3c5e595e",
   "metadata": {},
   "outputs": [
    {
     "data": {
      "text/plain": [
       "array([[ 1,  4,  9],\n",
       "       [16, 25, 36]], dtype=int32)"
      ]
     },
     "execution_count": 89,
     "metadata": {},
     "output_type": "execute_result"
    }
   ],
   "source": [
    "np.square(a2)"
   ]
  },
  {
   "cell_type": "code",
   "execution_count": 95,
   "id": "57e5c75d",
   "metadata": {},
   "outputs": [
    {
     "data": {
      "text/plain": [
       "array([1, 2, 3])"
      ]
     },
     "execution_count": 95,
     "metadata": {},
     "output_type": "execute_result"
    }
   ],
   "source": [
    "a1"
   ]
  },
  {
   "cell_type": "code",
   "execution_count": 96,
   "id": "ad219fb9",
   "metadata": {},
   "outputs": [
    {
     "data": {
      "text/plain": [
       "array([1., 1., 1.])"
      ]
     },
     "execution_count": 96,
     "metadata": {},
     "output_type": "execute_result"
    }
   ],
   "source": [
    "ones "
   ]
  },
  {
   "cell_type": "code",
   "execution_count": 97,
   "id": "aafe5a61",
   "metadata": {},
   "outputs": [
    {
     "data": {
      "text/plain": [
       "array([2., 3., 4.])"
      ]
     },
     "execution_count": 97,
     "metadata": {},
     "output_type": "execute_result"
    }
   ],
   "source": [
    "np.add(a1, ones )"
   ]
  },
  {
   "cell_type": "code",
   "execution_count": 99,
   "id": "d2ee7995",
   "metadata": {},
   "outputs": [
    {
     "data": {
      "text/plain": [
       "array([[1, 0, 1],\n",
       "       [0, 1, 0]], dtype=int32)"
      ]
     },
     "execution_count": 99,
     "metadata": {},
     "output_type": "execute_result"
    }
   ],
   "source": [
    "np.mod(a2,2) # return remainder after division"
   ]
  },
  {
   "cell_type": "code",
   "execution_count": 100,
   "id": "8c3f6f37",
   "metadata": {},
   "outputs": [
    {
     "data": {
      "text/plain": [
       "array([[1, 0, 1],\n",
       "       [0, 1, 0]], dtype=int32)"
      ]
     },
     "execution_count": 100,
     "metadata": {},
     "output_type": "execute_result"
    }
   ],
   "source": [
    "a2 % 2"
   ]
  },
  {
   "cell_type": "code",
   "execution_count": 103,
   "id": "aaef86da",
   "metadata": {},
   "outputs": [
    {
     "data": {
      "text/plain": [
       "array([[0.5, 1. , 1.5],\n",
       "       [2. , 2.5, 3. ]])"
      ]
     },
     "execution_count": 103,
     "metadata": {},
     "output_type": "execute_result"
    }
   ],
   "source": [
    "a2 / 2"
   ]
  },
  {
   "cell_type": "code",
   "execution_count": 104,
   "id": "7c5dcb58",
   "metadata": {},
   "outputs": [
    {
     "data": {
      "text/plain": [
       "array([[1, 0, 1],\n",
       "       [0, 1, 0]], dtype=int32)"
      ]
     },
     "execution_count": 104,
     "metadata": {},
     "output_type": "execute_result"
    }
   ],
   "source": [
    "a2%2"
   ]
  },
  {
   "cell_type": "code",
   "execution_count": 105,
   "id": "9152ff88",
   "metadata": {},
   "outputs": [
    {
     "data": {
      "text/plain": [
       "array([0.        , 0.69314718, 1.09861229])"
      ]
     },
     "execution_count": 105,
     "metadata": {},
     "output_type": "execute_result"
    }
   ],
   "source": [
    "np.log(a1)"
   ]
  },
  {
   "cell_type": "code",
   "execution_count": 106,
   "id": "971a96a9",
   "metadata": {},
   "outputs": [
    {
     "data": {
      "text/plain": [
       "array([[  2.71828183,   7.3890561 ,  20.08553692],\n",
       "       [ 54.59815003, 148.4131591 , 403.42879349]])"
      ]
     },
     "execution_count": 106,
     "metadata": {},
     "output_type": "execute_result"
    }
   ],
   "source": [
    "np.exp(a2)"
   ]
  },
  {
   "cell_type": "markdown",
   "id": "26581b4a",
   "metadata": {},
   "source": [
    "### Aggregation\n",
    "Performing the same operation on a number of things "
   ]
  },
  {
   "cell_type": "code",
   "execution_count": 109,
   "id": "447af55a",
   "metadata": {},
   "outputs": [
    {
     "data": {
      "text/plain": [
       "list"
      ]
     },
     "execution_count": 109,
     "metadata": {},
     "output_type": "execute_result"
    }
   ],
   "source": [
    "ls1 = [1,2,3]\n",
    "type(ls1)"
   ]
  },
  {
   "cell_type": "code",
   "execution_count": 110,
   "id": "b1a775a4",
   "metadata": {},
   "outputs": [
    {
     "data": {
      "text/plain": [
       "6"
      ]
     },
     "execution_count": 110,
     "metadata": {},
     "output_type": "execute_result"
    }
   ],
   "source": [
    "sum(ls1)"
   ]
  },
  {
   "cell_type": "code",
   "execution_count": 111,
   "id": "c2a3d9bd",
   "metadata": {},
   "outputs": [
    {
     "data": {
      "text/plain": [
       "6"
      ]
     },
     "execution_count": 111,
     "metadata": {},
     "output_type": "execute_result"
    }
   ],
   "source": [
    "a1 = np.array([1,2,3])\n",
    "sum(a1)"
   ]
  },
  {
   "cell_type": "code",
   "execution_count": 112,
   "id": "30021c06",
   "metadata": {},
   "outputs": [
    {
     "data": {
      "text/plain": [
       "6"
      ]
     },
     "execution_count": 112,
     "metadata": {},
     "output_type": "execute_result"
    }
   ],
   "source": [
    "np.sum(a1)"
   ]
  },
  {
   "cell_type": "markdown",
   "id": "980e01c9",
   "metadata": {},
   "source": [
    "- It is advised to perform pythons methods on python datatypes and use numpy's methods on the Numpy arrays"
   ]
  },
  {
   "cell_type": "code",
   "execution_count": 117,
   "id": "98c286df",
   "metadata": {},
   "outputs": [
    {
     "data": {
      "text/plain": [
       "array([0.90531317, 0.09193317, 0.96397208, ..., 0.47429839, 0.11038701,\n",
       "       0.289257  ])"
      ]
     },
     "execution_count": 117,
     "metadata": {},
     "output_type": "execute_result"
    }
   ],
   "source": [
    "# Create a massive numpy array\n",
    "massive_array = np.random.random(100000)\n",
    "massive_array"
   ]
  },
  {
   "cell_type": "code",
   "execution_count": 118,
   "id": "c681d057",
   "metadata": {},
   "outputs": [
    {
     "data": {
      "text/plain": [
       "100000"
      ]
     },
     "execution_count": 118,
     "metadata": {},
     "output_type": "execute_result"
    }
   ],
   "source": [
    "massive_array.size"
   ]
  },
  {
   "cell_type": "code",
   "execution_count": 119,
   "id": "eabb669a",
   "metadata": {},
   "outputs": [
    {
     "data": {
      "text/plain": [
       "dtype('float64')"
      ]
     },
     "execution_count": 119,
     "metadata": {},
     "output_type": "execute_result"
    }
   ],
   "source": [
    "massive_array.dtype"
   ]
  },
  {
   "cell_type": "code",
   "execution_count": 120,
   "id": "a000bd1f",
   "metadata": {},
   "outputs": [
    {
     "data": {
      "text/plain": [
       "numpy.ndarray"
      ]
     },
     "execution_count": 120,
     "metadata": {},
     "output_type": "execute_result"
    }
   ],
   "source": [
    "type(massive_array)"
   ]
  },
  {
   "cell_type": "code",
   "execution_count": 121,
   "id": "e4d2c11f",
   "metadata": {},
   "outputs": [
    {
     "name": "stdout",
     "output_type": "stream",
     "text": [
      "10.4 ms ± 584 µs per loop (mean ± std. dev. of 7 runs, 100 loops each)\n",
      "35.5 µs ± 1.53 µs per loop (mean ± std. dev. of 7 runs, 10000 loops each)\n"
     ]
    }
   ],
   "source": [
    "%timeit sum(massive_array)   #Python's sum method\n",
    "%timeit np.sum(massive_array) #Numpy sum method"
   ]
  },
  {
   "cell_type": "markdown",
   "id": "9c43ad38",
   "metadata": {},
   "source": [
    "`%timeit` is the jupyter magic function. It give the time taken by the line to execute.\n",
    "\n",
    "##### As we can see from the above calculation python `sum()` method take 10.4 milliseconds  while Numpy `np.sum()` method take 35.5 microseconds to perform the sum of 100000 entries.\n",
    "Pyhton method is 500+ times slower than numpy function. \n",
    "<br>\n",
    "Therefore numpy is great library for ML"
   ]
  },
  {
   "cell_type": "code",
   "execution_count": 122,
   "id": "c3aa1a19",
   "metadata": {},
   "outputs": [
    {
     "data": {
      "text/plain": [
       "0.49971779383120823"
      ]
     },
     "execution_count": 122,
     "metadata": {},
     "output_type": "execute_result"
    }
   ],
   "source": [
    "np.mean(massive_array)"
   ]
  },
  {
   "cell_type": "code",
   "execution_count": 123,
   "id": "d00cc754",
   "metadata": {},
   "outputs": [
    {
     "data": {
      "text/plain": [
       "0.49847740055854795"
      ]
     },
     "execution_count": 123,
     "metadata": {},
     "output_type": "execute_result"
    }
   ],
   "source": [
    "np.median(massive_array)"
   ]
  },
  {
   "cell_type": "code",
   "execution_count": 124,
   "id": "e71d45d1",
   "metadata": {},
   "outputs": [
    {
     "data": {
      "text/plain": [
       "3.932141535711864e-07"
      ]
     },
     "execution_count": 124,
     "metadata": {},
     "output_type": "execute_result"
    }
   ],
   "source": [
    "np.min(massive_array)   # minimum element"
   ]
  },
  {
   "cell_type": "code",
   "execution_count": 125,
   "id": "e7c269ec",
   "metadata": {},
   "outputs": [
    {
     "data": {
      "text/plain": [
       "0.9999904286086201"
      ]
     },
     "execution_count": 125,
     "metadata": {},
     "output_type": "execute_result"
    }
   ],
   "source": [
    "np.max(massive_array)   # maximum element"
   ]
  },
  {
   "cell_type": "code",
   "execution_count": 126,
   "id": "e3b15eec",
   "metadata": {},
   "outputs": [
    {
     "data": {
      "text/plain": [
       "0.2883568024203"
      ]
     },
     "execution_count": 126,
     "metadata": {},
     "output_type": "execute_result"
    }
   ],
   "source": [
    "np.std(massive_array)  # standerd deviation"
   ]
  },
  {
   "cell_type": "code",
   "execution_count": 127,
   "id": "1bf313c4",
   "metadata": {},
   "outputs": [
    {
     "data": {
      "text/plain": [
       "0.08314964550205992"
      ]
     },
     "execution_count": 127,
     "metadata": {},
     "output_type": "execute_result"
    }
   ],
   "source": [
    "np.var(massive_array)   # variance"
   ]
  },
  {
   "cell_type": "code",
   "execution_count": 128,
   "id": "5720a6cf",
   "metadata": {},
   "outputs": [
    {
     "data": {
      "text/plain": [
       "array([0.95147947, 0.30320483, 0.9818208 , ..., 0.68869325, 0.33224541,\n",
       "       0.53782618])"
      ]
     },
     "execution_count": 128,
     "metadata": {},
     "output_type": "execute_result"
    }
   ],
   "source": [
    "np.sqrt(massive_array)"
   ]
  },
  {
   "cell_type": "code",
   "execution_count": 129,
   "id": "39c0006d",
   "metadata": {},
   "outputs": [
    {
     "data": {
      "text/plain": [
       "array([0.81959194, 0.00845171, 0.92924217, ..., 0.22495896, 0.01218529,\n",
       "       0.08366961])"
      ]
     },
     "execution_count": 129,
     "metadata": {},
     "output_type": "execute_result"
    }
   ],
   "source": [
    "np.square(massive_array)"
   ]
  },
  {
   "cell_type": "code",
   "execution_count": 132,
   "id": "f447721b",
   "metadata": {},
   "outputs": [
    {
     "data": {
      "text/plain": [
       "array([7.41987383e-01, 7.76992272e-04, 8.95763512e-01, ...,\n",
       "       1.06697673e-01, 1.34509800e-03, 2.42020220e-02])"
      ]
     },
     "execution_count": 132,
     "metadata": {},
     "output_type": "execute_result"
    }
   ],
   "source": [
    "np.power(massive_array, 3)"
   ]
  },
  {
   "cell_type": "markdown",
   "id": "ad292082",
   "metadata": {},
   "source": [
    "## 5. Reshaping and Transposing"
   ]
  },
  {
   "cell_type": "code",
   "execution_count": 136,
   "id": "75b31582",
   "metadata": {},
   "outputs": [
    {
     "data": {
      "text/plain": [
       "(array([[1, 2, 3],\n",
       "        [4, 5, 6]]),\n",
       " (2, 3))"
      ]
     },
     "execution_count": 136,
     "metadata": {},
     "output_type": "execute_result"
    }
   ],
   "source": [
    "arr1 = np.array([[1,2,3],[4,5,6]])\n",
    "arr1, np.shape(arr1)"
   ]
  },
  {
   "cell_type": "code",
   "execution_count": 137,
   "id": "913e6083",
   "metadata": {},
   "outputs": [
    {
     "data": {
      "text/plain": [
       "(array([[[0, 6, 7],\n",
       "         [0, 4, 8],\n",
       "         [9, 2, 2]],\n",
       " \n",
       "        [[2, 9, 7],\n",
       "         [7, 8, 4],\n",
       "         [5, 5, 3]]]),\n",
       " (2, 3, 3))"
      ]
     },
     "execution_count": 137,
     "metadata": {},
     "output_type": "execute_result"
    }
   ],
   "source": [
    "arr2 = np.random.randint(0,10,size = (2,3,3))\n",
    "arr2, np.shape(arr2)"
   ]
  },
  {
   "cell_type": "code",
   "execution_count": 138,
   "id": "62fcefad",
   "metadata": {},
   "outputs": [
    {
     "ename": "ValueError",
     "evalue": "operands could not be broadcast together with shapes (2,3) (2,3,3) ",
     "output_type": "error",
     "traceback": [
      "\u001b[1;31m---------------------------------------------------------------------------\u001b[0m",
      "\u001b[1;31mValueError\u001b[0m                                Traceback (most recent call last)",
      "\u001b[1;32m~\\AppData\\Local\\Temp/ipykernel_16136/3653520007.py\u001b[0m in \u001b[0;36m<module>\u001b[1;34m\u001b[0m\n\u001b[1;32m----> 1\u001b[1;33m \u001b[0marr1\u001b[0m \u001b[1;33m*\u001b[0m \u001b[0marr2\u001b[0m\u001b[1;33m\u001b[0m\u001b[1;33m\u001b[0m\u001b[0m\n\u001b[0m",
      "\u001b[1;31mValueError\u001b[0m: operands could not be broadcast together with shapes (2,3) (2,3,3) "
     ]
    }
   ],
   "source": [
    "arr1 * arr2   # error"
   ]
  },
  {
   "cell_type": "code",
   "execution_count": 139,
   "id": "bf31a3e0",
   "metadata": {},
   "outputs": [
    {
     "data": {
      "text/plain": [
       "(array([[[1],\n",
       "         [2],\n",
       "         [3]],\n",
       " \n",
       "        [[4],\n",
       "         [5],\n",
       "         [6]]]),\n",
       " (2, 3, 1))"
      ]
     },
     "execution_count": 139,
     "metadata": {},
     "output_type": "execute_result"
    }
   ],
   "source": [
    "# Numpy broadcasting rule - two numpy array can only be operated if their shape is same or one of their shape is 1\n",
    "\n",
    "arr1_reshape = arr1.reshape(2,3,1)\n",
    "arr1_reshape, np.shape(arr1_reshape)"
   ]
  },
  {
   "cell_type": "code",
   "execution_count": 140,
   "id": "d21fff0d",
   "metadata": {},
   "outputs": [
    {
     "data": {
      "text/plain": [
       "array([[[ 0,  6,  7],\n",
       "        [ 0,  8, 16],\n",
       "        [27,  6,  6]],\n",
       "\n",
       "       [[ 8, 36, 28],\n",
       "        [35, 40, 20],\n",
       "        [30, 30, 18]]])"
      ]
     },
     "execution_count": 140,
     "metadata": {},
     "output_type": "execute_result"
    }
   ],
   "source": [
    "arr1_reshape * arr2   # now the multiplication is compactible "
   ]
  },
  {
   "cell_type": "code",
   "execution_count": 144,
   "id": "045f1ef0",
   "metadata": {},
   "outputs": [
    {
     "data": {
      "text/plain": [
       "array([[1, 4],\n",
       "       [2, 5],\n",
       "       [3, 6]])"
      ]
     },
     "execution_count": 144,
     "metadata": {},
     "output_type": "execute_result"
    }
   ],
   "source": [
    "arr1.T     # transpose the array"
   ]
  },
  {
   "cell_type": "code",
   "execution_count": 145,
   "id": "747abf2a",
   "metadata": {},
   "outputs": [
    {
     "data": {
      "text/plain": [
       "array([[[0, 2],\n",
       "        [0, 7],\n",
       "        [9, 5]],\n",
       "\n",
       "       [[6, 9],\n",
       "        [4, 8],\n",
       "        [2, 5]],\n",
       "\n",
       "       [[7, 7],\n",
       "        [8, 4],\n",
       "        [2, 3]]])"
      ]
     },
     "execution_count": 145,
     "metadata": {},
     "output_type": "execute_result"
    }
   ],
   "source": [
    "arr2.T"
   ]
  },
  {
   "cell_type": "code",
   "execution_count": 148,
   "id": "0f83f8ab",
   "metadata": {},
   "outputs": [
    {
     "data": {
      "text/plain": [
       "((2, 3, 3), (3, 3, 2))"
      ]
     },
     "execution_count": 148,
     "metadata": {},
     "output_type": "execute_result"
    }
   ],
   "source": [
    "arr2.shape, arr2.T.shape"
   ]
  },
  {
   "cell_type": "markdown",
   "id": "dee1964f",
   "metadata": {},
   "source": [
    "## 6. Comparison Operators"
   ]
  },
  {
   "cell_type": "code",
   "execution_count": 150,
   "id": "ad0e8962",
   "metadata": {},
   "outputs": [
    {
     "data": {
      "text/plain": [
       "array([[1, 2, 3],\n",
       "       [4, 5, 6]])"
      ]
     },
     "execution_count": 150,
     "metadata": {},
     "output_type": "execute_result"
    }
   ],
   "source": [
    "arr1"
   ]
  },
  {
   "cell_type": "code",
   "execution_count": 153,
   "id": "c7b11465",
   "metadata": {},
   "outputs": [
    {
     "data": {
      "text/plain": [
       "array([[[1],\n",
       "        [2],\n",
       "        [3]],\n",
       "\n",
       "       [[4],\n",
       "        [5],\n",
       "        [6]]])"
      ]
     },
     "execution_count": 153,
     "metadata": {},
     "output_type": "execute_result"
    }
   ],
   "source": [
    "arr1_reshape"
   ]
  },
  {
   "cell_type": "code",
   "execution_count": 158,
   "id": "b9ea6dfa",
   "metadata": {},
   "outputs": [
    {
     "data": {
      "text/plain": [
       "array([[[ True, False, False],\n",
       "        [ True, False, False],\n",
       "        [False,  True,  True]],\n",
       "\n",
       "       [[ True, False, False],\n",
       "        [False, False,  True],\n",
       "        [ True,  True,  True]]])"
      ]
     },
     "execution_count": 158,
     "metadata": {},
     "output_type": "execute_result"
    }
   ],
   "source": [
    "bool_array = arr1_reshape > arr2      # return a boolean array\n",
    "bool_array"
   ]
  },
  {
   "cell_type": "code",
   "execution_count": 159,
   "id": "f476e1ab",
   "metadata": {},
   "outputs": [
    {
     "data": {
      "text/plain": [
       "(array([[[ True, False, False],\n",
       "         [ True, False, False],\n",
       "         [False,  True,  True]],\n",
       " \n",
       "        [[ True, False, False],\n",
       "         [False, False,  True],\n",
       "         [ True,  True,  True]]]),\n",
       " dtype('bool'),\n",
       " numpy.ndarray)"
      ]
     },
     "execution_count": 159,
     "metadata": {},
     "output_type": "execute_result"
    }
   ],
   "source": [
    "bool_array, bool_array.dtype, type(bool_array)"
   ]
  },
  {
   "cell_type": "code",
   "execution_count": 161,
   "id": "f5034285",
   "metadata": {},
   "outputs": [
    {
     "data": {
      "text/plain": [
       "array([[[False, False, False],\n",
       "        [False, False, False],\n",
       "        [False, False, False]],\n",
       "\n",
       "       [[False, False, False],\n",
       "        [False, False, False],\n",
       "        [False, False, False]]])"
      ]
     },
     "execution_count": 161,
     "metadata": {},
     "output_type": "execute_result"
    }
   ],
   "source": [
    "arr1_reshape == arr2"
   ]
  },
  {
   "cell_type": "code",
   "execution_count": 163,
   "id": "c840e259",
   "metadata": {},
   "outputs": [
    {
     "data": {
      "text/plain": [
       "array([[[False,  True,  True],\n",
       "        [False,  True,  True],\n",
       "        [ True, False, False]],\n",
       "\n",
       "       [[False,  True,  True],\n",
       "        [ True,  True, False],\n",
       "        [False, False, False]]])"
      ]
     },
     "execution_count": 163,
     "metadata": {},
     "output_type": "execute_result"
    }
   ],
   "source": [
    "arr1_reshape < arr2"
   ]
  },
  {
   "cell_type": "markdown",
   "id": "259b079e",
   "metadata": {},
   "source": [
    "## 7. Sorting Arrays"
   ]
  },
  {
   "cell_type": "code",
   "execution_count": 171,
   "id": "99ce9e2d",
   "metadata": {},
   "outputs": [],
   "source": [
    "rand_array = np.random.randint(1, 10 ,size = (3,5))"
   ]
  },
  {
   "cell_type": "code",
   "execution_count": 172,
   "id": "afda479b",
   "metadata": {},
   "outputs": [
    {
     "data": {
      "text/plain": [
       "array([[3, 8, 7, 6, 3],\n",
       "       [3, 2, 1, 4, 6],\n",
       "       [9, 1, 1, 6, 1]])"
      ]
     },
     "execution_count": 172,
     "metadata": {},
     "output_type": "execute_result"
    }
   ],
   "source": [
    "rand_array"
   ]
  },
  {
   "cell_type": "code",
   "execution_count": 173,
   "id": "1ac130bc",
   "metadata": {},
   "outputs": [
    {
     "data": {
      "text/plain": [
       "array([[3, 3, 6, 7, 8],\n",
       "       [1, 2, 3, 4, 6],\n",
       "       [1, 1, 1, 6, 9]])"
      ]
     },
     "execution_count": 173,
     "metadata": {},
     "output_type": "execute_result"
    }
   ],
   "source": [
    "# Sort the elements in the array in default axis i.e axis = 1 column\n",
    "np.sort(rand_array)"
   ]
  },
  {
   "cell_type": "code",
   "execution_count": 175,
   "id": "7b39553a",
   "metadata": {},
   "outputs": [
    {
     "data": {
      "text/plain": [
       "array([[3, 1, 1, 4, 1],\n",
       "       [3, 2, 1, 6, 3],\n",
       "       [9, 8, 7, 6, 6]])"
      ]
     },
     "execution_count": 175,
     "metadata": {},
     "output_type": "execute_result"
    }
   ],
   "source": [
    "np.sort(rand_array, axis=0) # sort according to axis = 0 row"
   ]
  },
  {
   "cell_type": "code",
   "execution_count": 179,
   "id": "cd78e131",
   "metadata": {},
   "outputs": [
    {
     "data": {
      "text/plain": [
       "array([[3, 8, 7, 6, 3],\n",
       "       [3, 2, 1, 4, 6],\n",
       "       [9, 1, 1, 6, 1]])"
      ]
     },
     "execution_count": 179,
     "metadata": {},
     "output_type": "execute_result"
    }
   ],
   "source": [
    "rand_array"
   ]
  },
  {
   "cell_type": "code",
   "execution_count": 183,
   "id": "eb3a0a50",
   "metadata": {},
   "outputs": [
    {
     "data": {
      "text/plain": [
       "array([2, 0, 0, 0, 1], dtype=int64)"
      ]
     },
     "execution_count": 183,
     "metadata": {},
     "output_type": "execute_result"
    }
   ],
   "source": [
    "np.argmax(rand_array, axis=0) # return the indices of maximum element accross the axis"
   ]
  },
  {
   "cell_type": "code",
   "execution_count": 184,
   "id": "61541d30",
   "metadata": {},
   "outputs": [
    {
     "data": {
      "text/plain": [
       "array([1, 4, 0], dtype=int64)"
      ]
     },
     "execution_count": 184,
     "metadata": {},
     "output_type": "execute_result"
    }
   ],
   "source": [
    "np.argmax(rand_array, axis=1)"
   ]
  },
  {
   "cell_type": "markdown",
   "id": "827922b6",
   "metadata": {},
   "source": [
    "## Practical Example - Numpy in Action!!!!"
   ]
  },
  {
   "cell_type": "markdown",
   "id": "6b6e92a6",
   "metadata": {},
   "source": [
    "Converting the image into numbers "
   ]
  },
  {
   "cell_type": "markdown",
   "id": "bd6d167a",
   "metadata": {},
   "source": [
    "<img src='./images/panda.png'/>"
   ]
  },
  {
   "cell_type": "code",
   "execution_count": 186,
   "id": "c513622d",
   "metadata": {},
   "outputs": [],
   "source": [
    "# Turn a image into Numpy array\n",
    "from matplotlib.image import imread"
   ]
  },
  {
   "cell_type": "code",
   "execution_count": 187,
   "id": "7b38c486",
   "metadata": {},
   "outputs": [],
   "source": [
    "panda = imread('Images/panda.png') # it grab all the pixel and their colour values and store it in a numpy array"
   ]
  },
  {
   "cell_type": "code",
   "execution_count": 188,
   "id": "3b3da929",
   "metadata": {},
   "outputs": [
    {
     "name": "stdout",
     "output_type": "stream",
     "text": [
      "[[[0.05490196 0.10588235 0.06666667]\n",
      "  [0.05490196 0.10588235 0.06666667]\n",
      "  [0.05490196 0.10588235 0.06666667]\n",
      "  ...\n",
      "  [0.16470589 0.12941177 0.09411765]\n",
      "  [0.16470589 0.12941177 0.09411765]\n",
      "  [0.16470589 0.12941177 0.09411765]]\n",
      "\n",
      " [[0.05490196 0.10588235 0.06666667]\n",
      "  [0.05490196 0.10588235 0.06666667]\n",
      "  [0.05490196 0.10588235 0.06666667]\n",
      "  ...\n",
      "  [0.16470589 0.12941177 0.09411765]\n",
      "  [0.16470589 0.12941177 0.09411765]\n",
      "  [0.16470589 0.12941177 0.09411765]]\n",
      "\n",
      " [[0.05490196 0.10588235 0.06666667]\n",
      "  [0.05490196 0.10588235 0.06666667]\n",
      "  [0.05490196 0.10588235 0.06666667]\n",
      "  ...\n",
      "  [0.16470589 0.12941177 0.09411765]\n",
      "  [0.16470589 0.12941177 0.09411765]\n",
      "  [0.16470589 0.12941177 0.09411765]]\n",
      "\n",
      " ...\n",
      "\n",
      " [[0.13333334 0.07450981 0.05490196]\n",
      "  [0.12156863 0.0627451  0.04313726]\n",
      "  [0.10980392 0.05098039 0.03137255]\n",
      "  ...\n",
      "  [0.02745098 0.02745098 0.03529412]\n",
      "  [0.02745098 0.02745098 0.03529412]\n",
      "  [0.02745098 0.02745098 0.03529412]]\n",
      "\n",
      " [[0.13333334 0.07450981 0.05490196]\n",
      "  [0.12156863 0.0627451  0.04313726]\n",
      "  [0.12156863 0.0627451  0.04313726]\n",
      "  ...\n",
      "  [0.02352941 0.02352941 0.03137255]\n",
      "  [0.02352941 0.02352941 0.03137255]\n",
      "  [0.02352941 0.02352941 0.03137255]]\n",
      "\n",
      " [[0.13333334 0.07450981 0.05490196]\n",
      "  [0.12156863 0.0627451  0.04313726]\n",
      "  [0.12156863 0.0627451  0.04313726]\n",
      "  ...\n",
      "  [0.02352941 0.02352941 0.03137255]\n",
      "  [0.02352941 0.02352941 0.03137255]\n",
      "  [0.02352941 0.02352941 0.03137255]]]\n"
     ]
    }
   ],
   "source": [
    "print(panda)"
   ]
  },
  {
   "cell_type": "code",
   "execution_count": 190,
   "id": "939de68b",
   "metadata": {},
   "outputs": [
    {
     "data": {
      "text/plain": [
       "(24465000, (2330, 3500, 3), 3)"
      ]
     },
     "execution_count": 190,
     "metadata": {},
     "output_type": "execute_result"
    }
   ],
   "source": [
    "panda.size, panda.shape, panda.ndim"
   ]
  },
  {
   "cell_type": "code",
   "execution_count": 191,
   "id": "6de2030d",
   "metadata": {},
   "outputs": [
    {
     "data": {
      "text/plain": [
       "array([[[0.05490196, 0.10588235, 0.06666667],\n",
       "        [0.05490196, 0.10588235, 0.06666667],\n",
       "        [0.05490196, 0.10588235, 0.06666667],\n",
       "        ...,\n",
       "        [0.16470589, 0.12941177, 0.09411765],\n",
       "        [0.16470589, 0.12941177, 0.09411765],\n",
       "        [0.16470589, 0.12941177, 0.09411765]],\n",
       "\n",
       "       [[0.05490196, 0.10588235, 0.06666667],\n",
       "        [0.05490196, 0.10588235, 0.06666667],\n",
       "        [0.05490196, 0.10588235, 0.06666667],\n",
       "        ...,\n",
       "        [0.16470589, 0.12941177, 0.09411765],\n",
       "        [0.16470589, 0.12941177, 0.09411765],\n",
       "        [0.16470589, 0.12941177, 0.09411765]],\n",
       "\n",
       "       [[0.05490196, 0.10588235, 0.06666667],\n",
       "        [0.05490196, 0.10588235, 0.06666667],\n",
       "        [0.05490196, 0.10588235, 0.06666667],\n",
       "        ...,\n",
       "        [0.16470589, 0.12941177, 0.09411765],\n",
       "        [0.16470589, 0.12941177, 0.09411765],\n",
       "        [0.16470589, 0.12941177, 0.09411765]],\n",
       "\n",
       "       [[0.05490196, 0.10588235, 0.06666667],\n",
       "        [0.05490196, 0.10588235, 0.06666667],\n",
       "        [0.05490196, 0.10588235, 0.06666667],\n",
       "        ...,\n",
       "        [0.16862746, 0.13333334, 0.09803922],\n",
       "        [0.16862746, 0.13333334, 0.09803922],\n",
       "        [0.16862746, 0.13333334, 0.09803922]],\n",
       "\n",
       "       [[0.05490196, 0.10588235, 0.06666667],\n",
       "        [0.05490196, 0.10588235, 0.06666667],\n",
       "        [0.05490196, 0.10588235, 0.06666667],\n",
       "        ...,\n",
       "        [0.16862746, 0.13333334, 0.09803922],\n",
       "        [0.16862746, 0.13333334, 0.09803922],\n",
       "        [0.16862746, 0.13333334, 0.09803922]]], dtype=float32)"
      ]
     },
     "execution_count": 191,
     "metadata": {},
     "output_type": "execute_result"
    }
   ],
   "source": [
    "panda[:5]"
   ]
  },
  {
   "cell_type": "markdown",
   "id": "570f82f6",
   "metadata": {},
   "source": [
    "<img src=\"Images/car-photo.png\"/>"
   ]
  },
  {
   "cell_type": "code",
   "execution_count": 193,
   "id": "4836cc26",
   "metadata": {},
   "outputs": [],
   "source": [
    "car = imread('Images/car-photo.png')"
   ]
  },
  {
   "cell_type": "code",
   "execution_count": 194,
   "id": "abfda729",
   "metadata": {},
   "outputs": [
    {
     "name": "stdout",
     "output_type": "stream",
     "text": [
      "[[[0.5019608  0.50980395 0.4862745  1.        ]\n",
      "  [0.3372549  0.34509805 0.30588236 1.        ]\n",
      "  [0.20392157 0.21568628 0.14901961 1.        ]\n",
      "  ...\n",
      "  [0.64705884 0.7058824  0.54901963 1.        ]\n",
      "  [0.59607846 0.63529414 0.45882353 1.        ]\n",
      "  [0.44705883 0.47058824 0.3372549  1.        ]]\n",
      "\n",
      " [[0.44313726 0.43529412 0.40392157 1.        ]\n",
      "  [0.3137255  0.31764707 0.27450982 1.        ]\n",
      "  [0.2        0.21176471 0.14117648 1.        ]\n",
      "  ...\n",
      "  [0.5058824  0.5372549  0.4117647  1.        ]\n",
      "  [0.49803922 0.52156866 0.39607844 1.        ]\n",
      "  [0.4        0.42745098 0.34117648 1.        ]]\n",
      "\n",
      " [[0.39607844 0.38039216 0.34117648 1.        ]\n",
      "  [0.31764707 0.3137255  0.27450982 1.        ]\n",
      "  [0.28627452 0.29411766 0.24705882 1.        ]\n",
      "  ...\n",
      "  [0.44705883 0.45882353 0.32156864 1.        ]\n",
      "  [0.45882353 0.48235294 0.3529412  1.        ]\n",
      "  [0.4509804  0.49019608 0.38039216 1.        ]]\n",
      "\n",
      " ...\n",
      "\n",
      " [[0.47058824 0.57254905 0.6313726  1.        ]\n",
      "  [0.4392157  0.53333336 0.5882353  1.        ]\n",
      "  [0.48235294 0.5803922  0.6392157  1.        ]\n",
      "  ...\n",
      "  [0.6156863  0.7529412  0.827451   1.        ]\n",
      "  [0.61960787 0.7607843  0.83137256 1.        ]\n",
      "  [0.5921569  0.73333335 0.7921569  1.        ]]\n",
      "\n",
      " [[0.4745098  0.5803922  0.6392157  1.        ]\n",
      "  [0.47058824 0.58431375 0.63529414 1.        ]\n",
      "  [0.4117647  0.5019608  0.5529412  1.        ]\n",
      "  ...\n",
      "  [0.54901963 0.6784314  0.74509805 1.        ]\n",
      "  [0.65882355 0.8117647  0.8862745  1.        ]\n",
      "  [0.60784316 0.74509805 0.8117647  1.        ]]\n",
      "\n",
      " [[0.4745098  0.57254905 0.627451   1.        ]\n",
      "  [0.49411765 0.6        0.65882355 1.        ]\n",
      "  [0.49019608 0.5921569  0.64705884 1.        ]\n",
      "  ...\n",
      "  [0.5294118  0.63529414 0.69803923 1.        ]\n",
      "  [0.5529412  0.67058825 0.7372549  1.        ]\n",
      "  [0.6156863  0.73333335 0.8        1.        ]]]\n"
     ]
    }
   ],
   "source": [
    "print(car)"
   ]
  },
  {
   "cell_type": "code",
   "execution_count": 195,
   "id": "a919e303",
   "metadata": {},
   "outputs": [
    {
     "name": "stdout",
     "output_type": "stream",
     "text": [
      "<class 'numpy.ndarray'>\n"
     ]
    }
   ],
   "source": [
    "print(type(car))"
   ]
  },
  {
   "cell_type": "code",
   "execution_count": 196,
   "id": "2af92517",
   "metadata": {},
   "outputs": [
    {
     "name": "stdout",
     "output_type": "stream",
     "text": [
      "991300\n"
     ]
    }
   ],
   "source": [
    "print(car.size)"
   ]
  },
  {
   "cell_type": "code",
   "execution_count": null,
   "id": "6d5b99f3",
   "metadata": {},
   "outputs": [],
   "source": []
  }
 ],
 "metadata": {
  "kernelspec": {
   "display_name": "Python 3 (ipykernel)",
   "language": "python",
   "name": "python3"
  },
  "language_info": {
   "codemirror_mode": {
    "name": "ipython",
    "version": 3
   },
   "file_extension": ".py",
   "mimetype": "text/x-python",
   "name": "python",
   "nbconvert_exporter": "python",
   "pygments_lexer": "ipython3",
   "version": "3.10.1"
  }
 },
 "nbformat": 4,
 "nbformat_minor": 5
}
