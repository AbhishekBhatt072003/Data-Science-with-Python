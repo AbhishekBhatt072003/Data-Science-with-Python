{
 "cells": [
  {
   "cell_type": "markdown",
   "id": "b75f54f7",
   "metadata": {},
   "source": [
    "## Numpy"
   ]
  },
  {
   "cell_type": "markdown",
   "id": "ec8e9007",
   "metadata": {},
   "source": [
    "Numpy is a library for the python programming languange, adding large multi-dimensional arrays and matrices, along with the large collections of the high\n",
    "level mathematical functions to operate on these arrays\n",
    "- very fast\n",
    "- uses vectorization using brodcasting (without using loops)"
   ]
  },
  {
   "cell_type": "markdown",
   "id": "e7ff0b77",
   "metadata": {},
   "source": [
    "### 1. Datatypes and Attributes\n",
    "Numpy has only 1 datatype ndarray (n dimensional array)"
   ]
  },
  {
   "cell_type": "code",
   "execution_count": 5,
   "id": "f11df447",
   "metadata": {},
   "outputs": [],
   "source": [
    "import numpy as np"
   ]
  },
  {
   "cell_type": "code",
   "execution_count": 6,
   "id": "3538ccc9",
   "metadata": {},
   "outputs": [
    {
     "data": {
      "text/plain": [
       "array([1, 2, 3])"
      ]
     },
     "execution_count": 6,
     "metadata": {},
     "output_type": "execute_result"
    }
   ],
   "source": [
    "a1 = np.array([1,2,3])            # create a 1d array. It takes python list as parameters \n",
    "a1"
   ]
  },
  {
   "cell_type": "code",
   "execution_count": 7,
   "id": "03ed99b6",
   "metadata": {},
   "outputs": [],
   "source": [
    "l1 = [4,5,6]\n",
    "a1 = np.array(l1)"
   ]
  },
  {
   "cell_type": "code",
   "execution_count": 8,
   "id": "495c7573",
   "metadata": {},
   "outputs": [
    {
     "data": {
      "text/plain": [
       "array([4, 5, 6])"
      ]
     },
     "execution_count": 8,
     "metadata": {},
     "output_type": "execute_result"
    }
   ],
   "source": [
    "a1"
   ]
  },
  {
   "cell_type": "code",
   "execution_count": 9,
   "id": "22a55352",
   "metadata": {},
   "outputs": [
    {
     "data": {
      "text/plain": [
       "array([[1, 2, 3],\n",
       "       [4, 5, 6]])"
      ]
     },
     "execution_count": 9,
     "metadata": {},
     "output_type": "execute_result"
    }
   ],
   "source": [
    "a2 = np.array([[1,2,3],            # create 2d array\n",
    "               [4,5,6]])\n",
    "a2"
   ]
  },
  {
   "cell_type": "code",
   "execution_count": 10,
   "id": "502f6739",
   "metadata": {},
   "outputs": [],
   "source": [
    "a3 = np.array([[[1, 2, 3],\n",
    "                [4, 5, 6]],        #  create 3d array\n",
    "               [[7, 8, 9],\n",
    "                [10, 11, 12]],\n",
    "               [[13, 14, 15],\n",
    "                [16, 17, 18]]])"
   ]
  },
  {
   "cell_type": "code",
   "execution_count": 12,
   "id": "0deb66b2",
   "metadata": {},
   "outputs": [
    {
     "data": {
      "text/plain": [
       "array([[[ 1,  2,  3],\n",
       "        [ 4,  5,  6]],\n",
       "\n",
       "       [[ 7,  8,  9],\n",
       "        [10, 11, 12]],\n",
       "\n",
       "       [[13, 14, 15],\n",
       "        [16, 17, 18]]])"
      ]
     },
     "execution_count": 12,
     "metadata": {},
     "output_type": "execute_result"
    }
   ],
   "source": [
    "a3"
   ]
  },
  {
   "cell_type": "code",
   "execution_count": 14,
   "id": "7c6267e2",
   "metadata": {},
   "outputs": [
    {
     "data": {
      "text/plain": [
       "(3,)"
      ]
     },
     "execution_count": 14,
     "metadata": {},
     "output_type": "execute_result"
    }
   ],
   "source": [
    "a1.shape"
   ]
  },
  {
   "cell_type": "code",
   "execution_count": 15,
   "id": "f0f7580a",
   "metadata": {},
   "outputs": [
    {
     "data": {
      "text/plain": [
       "(2, 3)"
      ]
     },
     "execution_count": 15,
     "metadata": {},
     "output_type": "execute_result"
    }
   ],
   "source": [
    "a2.shape"
   ]
  },
  {
   "cell_type": "code",
   "execution_count": 23,
   "id": "d3bebfb0",
   "metadata": {},
   "outputs": [
    {
     "data": {
      "text/plain": [
       "(3, 2, 3)"
      ]
     },
     "execution_count": 23,
     "metadata": {},
     "output_type": "execute_result"
    }
   ],
   "source": [
    "a3.shape                          # check how many dimensions are there in array"
   ]
  },
  {
   "cell_type": "code",
   "execution_count": 24,
   "id": "1f83bf6e",
   "metadata": {},
   "outputs": [
    {
     "data": {
      "text/plain": [
       "(1, 2, 3)"
      ]
     },
     "execution_count": 24,
     "metadata": {},
     "output_type": "execute_result"
    }
   ],
   "source": [
    "a1.ndim , a2.ndim, a3.ndim        # check the dimensions of array"
   ]
  },
  {
   "cell_type": "code",
   "execution_count": 25,
   "id": "dcf81f95",
   "metadata": {},
   "outputs": [
    {
     "data": {
      "text/plain": [
       "(dtype('int32'), dtype('int32'), dtype('int32'))"
      ]
     },
     "execution_count": 25,
     "metadata": {},
     "output_type": "execute_result"
    }
   ],
   "source": [
    "a1.dtype, a2.dtype, a3.dtype       # check the type of data stored in arrray"
   ]
  },
  {
   "cell_type": "code",
   "execution_count": 26,
   "id": "6ff6bad4",
   "metadata": {},
   "outputs": [
    {
     "data": {
      "text/plain": [
       "(3, 6, 18)"
      ]
     },
     "execution_count": 26,
     "metadata": {},
     "output_type": "execute_result"
    }
   ],
   "source": [
    "a1.size, a2.size, a3.size         # check the no of elements in the array"
   ]
  },
  {
   "cell_type": "code",
   "execution_count": 27,
   "id": "a809f98e",
   "metadata": {},
   "outputs": [
    {
     "data": {
      "text/plain": [
       "(numpy.ndarray, numpy.ndarray, numpy.ndarray)"
      ]
     },
     "execution_count": 27,
     "metadata": {},
     "output_type": "execute_result"
    }
   ],
   "source": [
    "type(a1), type(a2), type(a3)      # check what is the type of the datastructure"
   ]
  },
  {
   "cell_type": "markdown",
   "id": "8b5efb78",
   "metadata": {},
   "source": [
    " ## 2. Creating Numpy Arrays"
   ]
  },
  {
   "cell_type": "code",
   "execution_count": 28,
   "id": "176c13a1",
   "metadata": {},
   "outputs": [
    {
     "name": "stdout",
     "output_type": "stream",
     "text": [
      "[1 2 3]\n"
     ]
    }
   ],
   "source": [
    "sample_array = np.array([1,2,3])\n",
    "print(sample_array)"
   ]
  },
  {
   "cell_type": "code",
   "execution_count": 30,
   "id": "5fd253a7",
   "metadata": {},
   "outputs": [
    {
     "data": {
      "text/plain": [
       "dtype('int32')"
      ]
     },
     "execution_count": 30,
     "metadata": {},
     "output_type": "execute_result"
    }
   ],
   "source": [
    "sample_array.dtype"
   ]
  },
  {
   "cell_type": "code",
   "execution_count": 31,
   "id": "ead6b4ee",
   "metadata": {},
   "outputs": [],
   "source": [
    "ones = np.ones((2,3), dtype=float)    # gives a arrays with given shape and type, all filled with ones  "
   ]
  },
  {
   "cell_type": "code",
   "execution_count": 32,
   "id": "5800e46d",
   "metadata": {},
   "outputs": [
    {
     "data": {
      "text/plain": [
       "array([[1., 1., 1.],\n",
       "       [1., 1., 1.]])"
      ]
     },
     "execution_count": 32,
     "metadata": {},
     "output_type": "execute_result"
    }
   ],
   "source": [
    "ones"
   ]
  },
  {
   "cell_type": "code",
   "execution_count": 33,
   "id": "fd07ff89",
   "metadata": {},
   "outputs": [
    {
     "name": "stdout",
     "output_type": "stream",
     "text": [
      "float64\n",
      "<class 'numpy.ndarray'>\n"
     ]
    }
   ],
   "source": [
    "print(ones.dtype)\n",
    "print(type(ones))"
   ]
  },
  {
   "cell_type": "code",
   "execution_count": 34,
   "id": "c5d205fc",
   "metadata": {},
   "outputs": [],
   "source": [
    "zeros = np.zeros((3,3))   # arrays filled with zeros "
   ]
  },
  {
   "cell_type": "code",
   "execution_count": 35,
   "id": "ae772dce",
   "metadata": {},
   "outputs": [
    {
     "data": {
      "text/plain": [
       "array([[0., 0., 0.],\n",
       "       [0., 0., 0.],\n",
       "       [0., 0., 0.]])"
      ]
     },
     "execution_count": 35,
     "metadata": {},
     "output_type": "execute_result"
    }
   ],
   "source": [
    "zeros"
   ]
  },
  {
   "cell_type": "code",
   "execution_count": 36,
   "id": "9d97d6b8",
   "metadata": {},
   "outputs": [],
   "source": [
    "range_array = np.arange(0, 10, 2)"
   ]
  },
  {
   "cell_type": "code",
   "execution_count": 37,
   "id": "69a69308",
   "metadata": {},
   "outputs": [
    {
     "data": {
      "text/plain": [
       "array([0, 2, 4, 6, 8])"
      ]
     },
     "execution_count": 37,
     "metadata": {},
     "output_type": "execute_result"
    }
   ],
   "source": [
    "range_array"
   ]
  },
  {
   "cell_type": "code",
   "execution_count": 38,
   "id": "e63ca891",
   "metadata": {},
   "outputs": [],
   "source": [
    "random_array = np.random.randint(2, 9, size = (3,5))"
   ]
  },
  {
   "cell_type": "code",
   "execution_count": 39,
   "id": "683da7db",
   "metadata": {},
   "outputs": [
    {
     "data": {
      "text/plain": [
       "array([[8, 3, 3, 3, 6],\n",
       "       [5, 7, 7, 4, 6],\n",
       "       [3, 3, 3, 8, 6]])"
      ]
     },
     "execution_count": 39,
     "metadata": {},
     "output_type": "execute_result"
    }
   ],
   "source": [
    "random_array"
   ]
  },
  {
   "cell_type": "code",
   "execution_count": 40,
   "id": "fbdcb064",
   "metadata": {},
   "outputs": [],
   "source": [
    "random_array2 = np.random.random((5,3))"
   ]
  },
  {
   "cell_type": "code",
   "execution_count": 41,
   "id": "529b8c34",
   "metadata": {},
   "outputs": [
    {
     "data": {
      "text/plain": [
       "array([[0.54545034, 0.05990775, 0.87687031],\n",
       "       [0.44172388, 0.88969806, 0.0912468 ],\n",
       "       [0.97318032, 0.93690296, 0.11006074],\n",
       "       [0.01938437, 0.64097538, 0.20994308],\n",
       "       [0.74122262, 0.32436457, 0.61371477]])"
      ]
     },
     "execution_count": 41,
     "metadata": {},
     "output_type": "execute_result"
    }
   ],
   "source": [
    "random_array2"
   ]
  },
  {
   "cell_type": "code",
   "execution_count": 42,
   "id": "22d903b5",
   "metadata": {},
   "outputs": [],
   "source": [
    "random_array3 = np.random.rand(3,3)"
   ]
  },
  {
   "cell_type": "code",
   "execution_count": 43,
   "id": "d9a2144d",
   "metadata": {},
   "outputs": [
    {
     "data": {
      "text/plain": [
       "array([[0.33838705, 0.38958052, 0.81603963],\n",
       "       [0.25403175, 0.5562384 , 0.95392395],\n",
       "       [0.25304136, 0.03427383, 0.76161778]])"
      ]
     },
     "execution_count": 43,
     "metadata": {},
     "output_type": "execute_result"
    }
   ],
   "source": [
    "random_array3"
   ]
  },
  {
   "cell_type": "markdown",
   "id": "d62c1ac7",
   "metadata": {},
   "source": [
    "## 3. Viewing arrays and matrices"
   ]
  },
  {
   "cell_type": "code",
   "execution_count": 44,
   "id": "faac8aae",
   "metadata": {},
   "outputs": [
    {
     "data": {
      "text/plain": [
       "array([[8, 7, 5, 5],\n",
       "       [4, 4, 8, 2],\n",
       "       [3, 8, 5, 5],\n",
       "       [5, 2, 5, 6]])"
      ]
     },
     "execution_count": 44,
     "metadata": {},
     "output_type": "execute_result"
    }
   ],
   "source": [
    "my_array = np.random.randint(2,9,size=(4,4))\n",
    "my_array"
   ]
  },
  {
   "cell_type": "code",
   "execution_count": 45,
   "id": "662cdcb6",
   "metadata": {},
   "outputs": [
    {
     "data": {
      "text/plain": [
       "array([2, 3, 4, 5, 6, 7, 8])"
      ]
     },
     "execution_count": 45,
     "metadata": {},
     "output_type": "execute_result"
    }
   ],
   "source": [
    "np.unique(my_array)  # returns an array with all elements from the passed array only one time"
   ]
  },
  {
   "cell_type": "code",
   "execution_count": 46,
   "id": "4cd80655",
   "metadata": {},
   "outputs": [
    {
     "data": {
      "text/plain": [
       "array([[8, 7, 5, 5],\n",
       "       [4, 4, 8, 2],\n",
       "       [3, 8, 5, 5],\n",
       "       [5, 2, 5, 6]])"
      ]
     },
     "execution_count": 46,
     "metadata": {},
     "output_type": "execute_result"
    }
   ],
   "source": [
    "my_array"
   ]
  },
  {
   "cell_type": "code",
   "execution_count": 48,
   "id": "02832241",
   "metadata": {},
   "outputs": [
    {
     "data": {
      "text/plain": [
       "(array([8, 7, 5, 5]),\n",
       " array([4, 4, 8, 2]),\n",
       " array([3, 8, 5, 5]),\n",
       " array([5, 2, 5, 6]))"
      ]
     },
     "execution_count": 48,
     "metadata": {},
     "output_type": "execute_result"
    }
   ],
   "source": [
    "my_array[0], my_array[1], my_array[2], my_array[3]"
   ]
  },
  {
   "cell_type": "code",
   "execution_count": 49,
   "id": "5e6f33a2",
   "metadata": {},
   "outputs": [
    {
     "data": {
      "text/plain": [
       "(8, 7, 5, 5)"
      ]
     },
     "execution_count": 49,
     "metadata": {},
     "output_type": "execute_result"
    }
   ],
   "source": [
    "my_array[0][0], my_array[0][1], my_array[0][2], my_array[0][3], "
   ]
  },
  {
   "cell_type": "code",
   "execution_count": 50,
   "id": "5971d2c1",
   "metadata": {},
   "outputs": [
    {
     "data": {
      "text/plain": [
       "array([[8, 7, 5, 5],\n",
       "       [4, 4, 8, 2],\n",
       "       [3, 8, 5, 5],\n",
       "       [5, 2, 5, 6]])"
      ]
     },
     "execution_count": 50,
     "metadata": {},
     "output_type": "execute_result"
    }
   ],
   "source": [
    "# We can also use the slicing in numpy arrays. Just like the python\n",
    "my_array"
   ]
  },
  {
   "cell_type": "code",
   "execution_count": 51,
   "id": "d648e1e2",
   "metadata": {},
   "outputs": [
    {
     "data": {
      "text/plain": [
       "array([[8, 7, 5, 5],\n",
       "       [4, 4, 8, 2]])"
      ]
     },
     "execution_count": 51,
     "metadata": {},
     "output_type": "execute_result"
    }
   ],
   "source": [
    "my_array[0:2]"
   ]
  },
  {
   "cell_type": "code",
   "execution_count": 52,
   "id": "b950d388",
   "metadata": {},
   "outputs": [
    {
     "data": {
      "text/plain": [
       "array([[3, 8, 5, 5],\n",
       "       [5, 2, 5, 6]])"
      ]
     },
     "execution_count": 52,
     "metadata": {},
     "output_type": "execute_result"
    }
   ],
   "source": [
    "my_array[2:4]"
   ]
  },
  {
   "cell_type": "code",
   "execution_count": 55,
   "id": "16ebc8b5",
   "metadata": {},
   "outputs": [
    {
     "data": {
      "text/plain": [
       "array([[8, 7, 5, 5],\n",
       "       [4, 4, 8, 2],\n",
       "       [3, 8, 5, 5],\n",
       "       [5, 2, 5, 6]])"
      ]
     },
     "execution_count": 55,
     "metadata": {},
     "output_type": "execute_result"
    }
   ],
   "source": [
    "my_array[0:len(my_array)]"
   ]
  },
  {
   "cell_type": "code",
   "execution_count": 57,
   "id": "19198547",
   "metadata": {},
   "outputs": [
    {
     "data": {
      "text/plain": [
       "array([[8, 7, 5, 5],\n",
       "       [3, 8, 5, 5]])"
      ]
     },
     "execution_count": 57,
     "metadata": {},
     "output_type": "execute_result"
    }
   ],
   "source": [
    "my_array[0:4:2]"
   ]
  },
  {
   "cell_type": "code",
   "execution_count": 58,
   "id": "0b54236e",
   "metadata": {},
   "outputs": [
    {
     "data": {
      "text/plain": [
       "array([[5, 2, 5, 6],\n",
       "       [3, 8, 5, 5],\n",
       "       [4, 4, 8, 2],\n",
       "       [8, 7, 5, 5]])"
      ]
     },
     "execution_count": 58,
     "metadata": {},
     "output_type": "execute_result"
    }
   ],
   "source": [
    "my_array[::-1]"
   ]
  },
  {
   "cell_type": "code",
   "execution_count": 59,
   "id": "2a1fec0c",
   "metadata": {},
   "outputs": [
    {
     "data": {
      "text/plain": [
       "array([[[[3, 0, 1, 9, 8],\n",
       "         [4, 1, 5, 1, 2],\n",
       "         [4, 4, 6, 3, 8],\n",
       "         [9, 8, 1, 5, 9]],\n",
       "\n",
       "        [[3, 2, 5, 8, 8],\n",
       "         [3, 7, 0, 7, 3],\n",
       "         [5, 2, 8, 3, 9],\n",
       "         [6, 1, 7, 2, 4]],\n",
       "\n",
       "        [[8, 3, 4, 8, 9],\n",
       "         [4, 1, 8, 8, 5],\n",
       "         [8, 2, 9, 0, 0],\n",
       "         [9, 5, 6, 2, 9]]],\n",
       "\n",
       "\n",
       "       [[[4, 2, 1, 3, 8],\n",
       "         [2, 2, 7, 1, 9],\n",
       "         [6, 3, 4, 1, 4],\n",
       "         [9, 4, 5, 1, 5]],\n",
       "\n",
       "        [[1, 2, 1, 1, 2],\n",
       "         [5, 6, 2, 4, 1],\n",
       "         [6, 6, 6, 9, 3],\n",
       "         [1, 1, 3, 4, 2]],\n",
       "\n",
       "        [[9, 4, 3, 3, 1],\n",
       "         [3, 4, 9, 9, 0],\n",
       "         [9, 8, 2, 7, 4],\n",
       "         [3, 9, 9, 7, 7]]]])"
      ]
     },
     "execution_count": 59,
     "metadata": {},
     "output_type": "execute_result"
    }
   ],
   "source": [
    "my_array2 = np.random.randint(10, size = (2,3,4,5))\n",
    "my_array2"
   ]
  },
  {
   "cell_type": "code",
   "execution_count": 60,
   "id": "189b703b",
   "metadata": {},
   "outputs": [
    {
     "data": {
      "text/plain": [
       "array([[[[3],\n",
       "         [4],\n",
       "         [4],\n",
       "         [9]],\n",
       "\n",
       "        [[3],\n",
       "         [3],\n",
       "         [5],\n",
       "         [6]],\n",
       "\n",
       "        [[8],\n",
       "         [4],\n",
       "         [8],\n",
       "         [9]]],\n",
       "\n",
       "\n",
       "       [[[4],\n",
       "         [2],\n",
       "         [6],\n",
       "         [9]],\n",
       "\n",
       "        [[1],\n",
       "         [5],\n",
       "         [6],\n",
       "         [1]],\n",
       "\n",
       "        [[9],\n",
       "         [3],\n",
       "         [9],\n",
       "         [3]]]])"
      ]
     },
     "execution_count": 60,
     "metadata": {},
     "output_type": "execute_result"
    }
   ],
   "source": [
    "# get the first 4 numbers of the inner most arrays \n",
    "my_array2[:, :, :, :1]"
   ]
  },
  {
   "cell_type": "markdown",
   "id": "f576591b",
   "metadata": {},
   "source": [
    " ## 4. Manipulating and Comparing Arrays"
   ]
  },
  {
   "cell_type": "markdown",
   "id": "8c018f06",
   "metadata": {},
   "source": [
    "### Arithmetic"
   ]
  },
  {
   "cell_type": "code",
   "execution_count": 61,
   "id": "f0be9232",
   "metadata": {},
   "outputs": [],
   "source": [
    "ones =  np.ones(3)"
   ]
  },
  {
   "cell_type": "code",
   "execution_count": 62,
   "id": "6653a6b3",
   "metadata": {},
   "outputs": [
    {
     "data": {
      "text/plain": [
       "array([1., 1., 1.])"
      ]
     },
     "execution_count": 62,
     "metadata": {},
     "output_type": "execute_result"
    }
   ],
   "source": [
    "ones "
   ]
  },
  {
   "cell_type": "code",
   "execution_count": 74,
   "id": "aa0bec05",
   "metadata": {},
   "outputs": [
    {
     "data": {
      "text/plain": [
       "array([1, 2, 3])"
      ]
     },
     "execution_count": 74,
     "metadata": {},
     "output_type": "execute_result"
    }
   ],
   "source": [
    "a1 = np.array([1,2,3])\n",
    "a1"
   ]
  },
  {
   "cell_type": "code",
   "execution_count": 75,
   "id": "d35bf656",
   "metadata": {},
   "outputs": [
    {
     "data": {
      "text/plain": [
       "array([2., 3., 4.])"
      ]
     },
     "execution_count": 75,
     "metadata": {},
     "output_type": "execute_result"
    }
   ],
   "source": [
    "a1 + ones"
   ]
  },
  {
   "cell_type": "code",
   "execution_count": 76,
   "id": "9568c791",
   "metadata": {},
   "outputs": [
    {
     "data": {
      "text/plain": [
       "array([0., 1., 2.])"
      ]
     },
     "execution_count": 76,
     "metadata": {},
     "output_type": "execute_result"
    }
   ],
   "source": [
    "a1 - ones"
   ]
  },
  {
   "cell_type": "code",
   "execution_count": 77,
   "id": "25986dba",
   "metadata": {},
   "outputs": [
    {
     "data": {
      "text/plain": [
       "array([1., 2., 3.])"
      ]
     },
     "execution_count": 77,
     "metadata": {},
     "output_type": "execute_result"
    }
   ],
   "source": [
    "a1 * ones "
   ]
  },
  {
   "cell_type": "code",
   "execution_count": 78,
   "id": "e4d5fd83",
   "metadata": {},
   "outputs": [
    {
     "data": {
      "text/plain": [
       "array([[1, 2, 3],\n",
       "       [4, 5, 6]])"
      ]
     },
     "execution_count": 78,
     "metadata": {},
     "output_type": "execute_result"
    }
   ],
   "source": [
    "a2 = np.array([[1,2,3], [4,5,6]])\n",
    "a2"
   ]
  },
  {
   "cell_type": "code",
   "execution_count": 79,
   "id": "9581c635",
   "metadata": {},
   "outputs": [
    {
     "data": {
      "text/plain": [
       "array([[ 1,  4,  9],\n",
       "       [ 4, 10, 18]])"
      ]
     },
     "execution_count": 79,
     "metadata": {},
     "output_type": "execute_result"
    }
   ],
   "source": [
    "a1 * a2"
   ]
  },
  {
   "cell_type": "code",
   "execution_count": 80,
   "id": "515ad025",
   "metadata": {},
   "outputs": [
    {
     "data": {
      "text/plain": [
       "array([[ 7,  8,  9],\n",
       "       [11, 12, 13]])"
      ]
     },
     "execution_count": 80,
     "metadata": {},
     "output_type": "execute_result"
    }
   ],
   "source": [
    "a3 = np.array([[7,8,9], [11,12,13]])\n",
    "a3"
   ]
  },
  {
   "cell_type": "code",
   "execution_count": 81,
   "id": "32ec6040",
   "metadata": {},
   "outputs": [
    {
     "data": {
      "text/plain": [
       "array([[ 7, 16, 27],\n",
       "       [44, 60, 78]])"
      ]
     },
     "execution_count": 81,
     "metadata": {},
     "output_type": "execute_result"
    }
   ],
   "source": [
    "a2 * a3     # mmultiply adjacent elements "
   ]
  },
  {
   "cell_type": "code",
   "execution_count": 82,
   "id": "b884f99d",
   "metadata": {},
   "outputs": [
    {
     "data": {
      "text/plain": [
       "array([2, 4, 6])"
      ]
     },
     "execution_count": 82,
     "metadata": {},
     "output_type": "execute_result"
    }
   ],
   "source": [
    "a1 * 2"
   ]
  },
  {
   "cell_type": "code",
   "execution_count": 83,
   "id": "f6f7790b",
   "metadata": {},
   "outputs": [
    {
     "data": {
      "text/plain": [
       "array([1., 2., 3.])"
      ]
     },
     "execution_count": 83,
     "metadata": {},
     "output_type": "execute_result"
    }
   ],
   "source": [
    "a1 / ones "
   ]
  },
  {
   "cell_type": "code",
   "execution_count": 84,
   "id": "17a4d232",
   "metadata": {},
   "outputs": [
    {
     "data": {
      "text/plain": [
       "array([[1. , 1. , 1. ],\n",
       "       [4. , 2.5, 2. ]])"
      ]
     },
     "execution_count": 84,
     "metadata": {},
     "output_type": "execute_result"
    }
   ],
   "source": [
    "a2 / a1"
   ]
  },
  {
   "cell_type": "code",
   "execution_count": 85,
   "id": "e2fa6b7e",
   "metadata": {},
   "outputs": [
    {
     "data": {
      "text/plain": [
       "array([[1, 1, 1],\n",
       "       [4, 2, 2]], dtype=int32)"
      ]
     },
     "execution_count": 85,
     "metadata": {},
     "output_type": "execute_result"
    }
   ],
   "source": [
    "a2 // a1 # floor division"
   ]
  },
  {
   "cell_type": "code",
   "execution_count": 86,
   "id": "00b84e10",
   "metadata": {},
   "outputs": [
    {
     "data": {
      "text/plain": [
       "array([1, 4, 9], dtype=int32)"
      ]
     },
     "execution_count": 86,
     "metadata": {},
     "output_type": "execute_result"
    }
   ],
   "source": [
    "a1 ** 2"
   ]
  },
  {
   "cell_type": "code",
   "execution_count": 87,
   "id": "9239cb9d",
   "metadata": {},
   "outputs": [
    {
     "data": {
      "text/plain": [
       "array([[  1,   4,  27],\n",
       "       [  4,  25, 216]], dtype=int32)"
      ]
     },
     "execution_count": 87,
     "metadata": {},
     "output_type": "execute_result"
    }
   ],
   "source": [
    "a2 ** a1"
   ]
  },
  {
   "cell_type": "code",
   "execution_count": 89,
   "id": "98a9aa71",
   "metadata": {},
   "outputs": [
    {
     "data": {
      "text/plain": [
       "array([[ 1,  4,  9],\n",
       "       [16, 25, 36]], dtype=int32)"
      ]
     },
     "execution_count": 89,
     "metadata": {},
     "output_type": "execute_result"
    }
   ],
   "source": [
    "np.square(a2)"
   ]
  },
  {
   "cell_type": "code",
   "execution_count": 95,
   "id": "6173e753",
   "metadata": {},
   "outputs": [
    {
     "data": {
      "text/plain": [
       "array([1, 2, 3])"
      ]
     },
     "execution_count": 95,
     "metadata": {},
     "output_type": "execute_result"
    }
   ],
   "source": [
    "a1"
   ]
  },
  {
   "cell_type": "code",
   "execution_count": 96,
   "id": "e718bdcb",
   "metadata": {},
   "outputs": [
    {
     "data": {
      "text/plain": [
       "array([1., 1., 1.])"
      ]
     },
     "execution_count": 96,
     "metadata": {},
     "output_type": "execute_result"
    }
   ],
   "source": [
    "ones "
   ]
  },
  {
   "cell_type": "code",
   "execution_count": 97,
   "id": "6a8e70f4",
   "metadata": {},
   "outputs": [
    {
     "data": {
      "text/plain": [
       "array([2., 3., 4.])"
      ]
     },
     "execution_count": 97,
     "metadata": {},
     "output_type": "execute_result"
    }
   ],
   "source": [
    "np.add(a1, ones )"
   ]
  },
  {
   "cell_type": "code",
   "execution_count": 99,
   "id": "4002ee79",
   "metadata": {},
   "outputs": [
    {
     "data": {
      "text/plain": [
       "array([[1, 0, 1],\n",
       "       [0, 1, 0]], dtype=int32)"
      ]
     },
     "execution_count": 99,
     "metadata": {},
     "output_type": "execute_result"
    }
   ],
   "source": [
    "np.mod(a2,2) # return remainder after division"
   ]
  },
  {
   "cell_type": "code",
   "execution_count": 100,
   "id": "02f041a2",
   "metadata": {},
   "outputs": [
    {
     "data": {
      "text/plain": [
       "array([[1, 0, 1],\n",
       "       [0, 1, 0]], dtype=int32)"
      ]
     },
     "execution_count": 100,
     "metadata": {},
     "output_type": "execute_result"
    }
   ],
   "source": [
    "a2 % 2"
   ]
  },
  {
   "cell_type": "code",
   "execution_count": 103,
   "id": "65111794",
   "metadata": {},
   "outputs": [
    {
     "data": {
      "text/plain": [
       "array([[0.5, 1. , 1.5],\n",
       "       [2. , 2.5, 3. ]])"
      ]
     },
     "execution_count": 103,
     "metadata": {},
     "output_type": "execute_result"
    }
   ],
   "source": [
    "a2 / 2"
   ]
  },
  {
   "cell_type": "code",
   "execution_count": 104,
   "id": "11b3c042",
   "metadata": {},
   "outputs": [
    {
     "data": {
      "text/plain": [
       "array([[1, 0, 1],\n",
       "       [0, 1, 0]], dtype=int32)"
      ]
     },
     "execution_count": 104,
     "metadata": {},
     "output_type": "execute_result"
    }
   ],
   "source": [
    "a2%2"
   ]
  },
  {
   "cell_type": "code",
   "execution_count": 105,
   "id": "37d71797",
   "metadata": {},
   "outputs": [
    {
     "data": {
      "text/plain": [
       "array([0.        , 0.69314718, 1.09861229])"
      ]
     },
     "execution_count": 105,
     "metadata": {},
     "output_type": "execute_result"
    }
   ],
   "source": [
    "np.log(a1)"
   ]
  },
  {
   "cell_type": "code",
   "execution_count": 106,
   "id": "fbf435b3",
   "metadata": {},
   "outputs": [
    {
     "data": {
      "text/plain": [
       "array([[  2.71828183,   7.3890561 ,  20.08553692],\n",
       "       [ 54.59815003, 148.4131591 , 403.42879349]])"
      ]
     },
     "execution_count": 106,
     "metadata": {},
     "output_type": "execute_result"
    }
   ],
   "source": [
    "np.exp(a2)"
   ]
  },
  {
   "cell_type": "markdown",
   "id": "77aa7232",
   "metadata": {},
   "source": [
    "## Aggregation\n",
    "Performing the same operation on a number of things "
   ]
  },
  {
   "cell_type": "code",
   "execution_count": 109,
   "id": "b78cd8b9",
   "metadata": {},
   "outputs": [
    {
     "data": {
      "text/plain": [
       "list"
      ]
     },
     "execution_count": 109,
     "metadata": {},
     "output_type": "execute_result"
    }
   ],
   "source": [
    "ls1 = [1,2,3]\n",
    "type(ls1)"
   ]
  },
  {
   "cell_type": "code",
   "execution_count": 110,
   "id": "a08fbf96",
   "metadata": {},
   "outputs": [
    {
     "data": {
      "text/plain": [
       "6"
      ]
     },
     "execution_count": 110,
     "metadata": {},
     "output_type": "execute_result"
    }
   ],
   "source": [
    "sum(ls1)"
   ]
  },
  {
   "cell_type": "code",
   "execution_count": 111,
   "id": "6087bf03",
   "metadata": {},
   "outputs": [
    {
     "data": {
      "text/plain": [
       "6"
      ]
     },
     "execution_count": 111,
     "metadata": {},
     "output_type": "execute_result"
    }
   ],
   "source": [
    "a1 = np.array([1,2,3])\n",
    "sum(a1)"
   ]
  },
  {
   "cell_type": "code",
   "execution_count": 112,
   "id": "b33b14ad",
   "metadata": {},
   "outputs": [
    {
     "data": {
      "text/plain": [
       "6"
      ]
     },
     "execution_count": 112,
     "metadata": {},
     "output_type": "execute_result"
    }
   ],
   "source": [
    "np.sum(a1)"
   ]
  },
  {
   "cell_type": "markdown",
   "id": "29f8bb39",
   "metadata": {},
   "source": [
    "- It is advised to perform pythons methods on python datatypes and use numpy's methods on the Numpy arrays"
   ]
  },
  {
   "cell_type": "code",
   "execution_count": 117,
   "id": "fad60df5",
   "metadata": {},
   "outputs": [
    {
     "data": {
      "text/plain": [
       "array([0.90531317, 0.09193317, 0.96397208, ..., 0.47429839, 0.11038701,\n",
       "       0.289257  ])"
      ]
     },
     "execution_count": 117,
     "metadata": {},
     "output_type": "execute_result"
    }
   ],
   "source": [
    "# Create a massive numpy array\n",
    "massive_array = np.random.random(100000)\n",
    "massive_array"
   ]
  },
  {
   "cell_type": "code",
   "execution_count": 118,
   "id": "09412743",
   "metadata": {},
   "outputs": [
    {
     "data": {
      "text/plain": [
       "100000"
      ]
     },
     "execution_count": 118,
     "metadata": {},
     "output_type": "execute_result"
    }
   ],
   "source": [
    "massive_array.size"
   ]
  },
  {
   "cell_type": "code",
   "execution_count": 119,
   "id": "3461389c",
   "metadata": {},
   "outputs": [
    {
     "data": {
      "text/plain": [
       "dtype('float64')"
      ]
     },
     "execution_count": 119,
     "metadata": {},
     "output_type": "execute_result"
    }
   ],
   "source": [
    "massive_array.dtype"
   ]
  },
  {
   "cell_type": "code",
   "execution_count": 120,
   "id": "a2d5b687",
   "metadata": {},
   "outputs": [
    {
     "data": {
      "text/plain": [
       "numpy.ndarray"
      ]
     },
     "execution_count": 120,
     "metadata": {},
     "output_type": "execute_result"
    }
   ],
   "source": [
    "type(massive_array)"
   ]
  },
  {
   "cell_type": "code",
   "execution_count": 121,
   "id": "1ecccb2e",
   "metadata": {},
   "outputs": [
    {
     "name": "stdout",
     "output_type": "stream",
     "text": [
      "10.4 ms ± 584 µs per loop (mean ± std. dev. of 7 runs, 100 loops each)\n",
      "35.5 µs ± 1.53 µs per loop (mean ± std. dev. of 7 runs, 10000 loops each)\n"
     ]
    }
   ],
   "source": [
    "%timeit sum(massive_array)   #Python's sum method\n",
    "%timeit np.sum(massive_array) #Numpy sum method"
   ]
  },
  {
   "cell_type": "markdown",
   "id": "ea32b605",
   "metadata": {},
   "source": [
    "`%timeit` is the jupyter magic function. It give the time taken by the line to execute.\n",
    "\n",
    "##### As we can see from the above calculation python `sum()` method take 10.4 milliseconds  while Numpy `np.sum()` method take 35.5 microseconds to perform the sum of 100000 entries.\n",
    "Pyhton method is 500+ times slower than numpy function. \n",
    "<br>\n",
    "Therefore numpy is great library for ML"
   ]
  },
  {
   "cell_type": "code",
   "execution_count": null,
   "id": "cfc64312",
   "metadata": {},
   "outputs": [],
   "source": []
  }
 ],
 "metadata": {
  "kernelspec": {
   "display_name": "Python 3 (ipykernel)",
   "language": "python",
   "name": "python3"
  },
  "language_info": {
   "codemirror_mode": {
    "name": "ipython",
    "version": 3
   },
   "file_extension": ".py",
   "mimetype": "text/x-python",
   "name": "python",
   "nbconvert_exporter": "python",
   "pygments_lexer": "ipython3",
   "version": "3.10.1"
  }
 },
 "nbformat": 4,
 "nbformat_minor": 5
}
