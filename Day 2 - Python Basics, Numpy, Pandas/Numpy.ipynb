{
 "cells": [
  {
   "cell_type": "markdown",
   "id": "b75f54f7",
   "metadata": {},
   "source": [
    "## Numpy"
   ]
  },
  {
   "cell_type": "markdown",
   "id": "ec8e9007",
   "metadata": {},
   "source": [
    "Numpy is a library for the python programming languange, adding large multi-dimensional arrays and matrices, along with the large collections of the high\n",
    "level mathematical functions to operate on these arrays"
   ]
  },
  {
   "cell_type": "markdown",
   "id": "e7ff0b77",
   "metadata": {},
   "source": [
    "### 1. Datatypes and Attributes\n",
    "Numpy has only 1 datatype ndarray (n dimensional array)"
   ]
  },
  {
   "cell_type": "code",
   "execution_count": 5,
   "id": "f11df447",
   "metadata": {},
   "outputs": [],
   "source": [
    "import numpy as np"
   ]
  },
  {
   "cell_type": "code",
   "execution_count": 6,
   "id": "3538ccc9",
   "metadata": {},
   "outputs": [
    {
     "data": {
      "text/plain": [
       "array([1, 2, 3])"
      ]
     },
     "execution_count": 6,
     "metadata": {},
     "output_type": "execute_result"
    }
   ],
   "source": [
    "a1 = np.array([1,2,3])            # create a 1d array. It takes python list as parameters \n",
    "a1"
   ]
  },
  {
   "cell_type": "code",
   "execution_count": 7,
   "id": "03ed99b6",
   "metadata": {},
   "outputs": [],
   "source": [
    "l1 = [4,5,6]\n",
    "a1 = np.array(l1)"
   ]
  },
  {
   "cell_type": "code",
   "execution_count": 8,
   "id": "495c7573",
   "metadata": {},
   "outputs": [
    {
     "data": {
      "text/plain": [
       "array([4, 5, 6])"
      ]
     },
     "execution_count": 8,
     "metadata": {},
     "output_type": "execute_result"
    }
   ],
   "source": [
    "a1"
   ]
  },
  {
   "cell_type": "code",
   "execution_count": 9,
   "id": "22a55352",
   "metadata": {},
   "outputs": [
    {
     "data": {
      "text/plain": [
       "array([[1, 2, 3],\n",
       "       [4, 5, 6]])"
      ]
     },
     "execution_count": 9,
     "metadata": {},
     "output_type": "execute_result"
    }
   ],
   "source": [
    "a2 = np.array([[1,2,3],            # create 2d array\n",
    "               [4,5,6]])\n",
    "a2"
   ]
  },
  {
   "cell_type": "code",
   "execution_count": 10,
   "id": "502f6739",
   "metadata": {},
   "outputs": [],
   "source": [
    "a3 = np.array([[[1, 2, 3],\n",
    "                [4, 5, 6]],        #  create 3d array\n",
    "               [[7, 8, 9],\n",
    "                [10, 11, 12]],\n",
    "               [[13, 14, 15],\n",
    "                [16, 17, 18]]])"
   ]
  },
  {
   "cell_type": "code",
   "execution_count": 12,
   "id": "0deb66b2",
   "metadata": {},
   "outputs": [
    {
     "data": {
      "text/plain": [
       "array([[[ 1,  2,  3],\n",
       "        [ 4,  5,  6]],\n",
       "\n",
       "       [[ 7,  8,  9],\n",
       "        [10, 11, 12]],\n",
       "\n",
       "       [[13, 14, 15],\n",
       "        [16, 17, 18]]])"
      ]
     },
     "execution_count": 12,
     "metadata": {},
     "output_type": "execute_result"
    }
   ],
   "source": [
    "a3"
   ]
  },
  {
   "cell_type": "code",
   "execution_count": 14,
   "id": "ded2b5f7",
   "metadata": {},
   "outputs": [
    {
     "data": {
      "text/plain": [
       "(3,)"
      ]
     },
     "execution_count": 14,
     "metadata": {},
     "output_type": "execute_result"
    }
   ],
   "source": [
    "a1.shape"
   ]
  },
  {
   "cell_type": "code",
   "execution_count": 15,
   "id": "19bd4fba",
   "metadata": {},
   "outputs": [
    {
     "data": {
      "text/plain": [
       "(2, 3)"
      ]
     },
     "execution_count": 15,
     "metadata": {},
     "output_type": "execute_result"
    }
   ],
   "source": [
    "a2.shape"
   ]
  },
  {
   "cell_type": "code",
   "execution_count": 23,
   "id": "a620538e",
   "metadata": {},
   "outputs": [
    {
     "data": {
      "text/plain": [
       "(3, 2, 3)"
      ]
     },
     "execution_count": 23,
     "metadata": {},
     "output_type": "execute_result"
    }
   ],
   "source": [
    "a3.shape                          # check how many dimensions are there in array"
   ]
  },
  {
   "cell_type": "code",
   "execution_count": 24,
   "id": "d98a8f0b",
   "metadata": {},
   "outputs": [
    {
     "data": {
      "text/plain": [
       "(1, 2, 3)"
      ]
     },
     "execution_count": 24,
     "metadata": {},
     "output_type": "execute_result"
    }
   ],
   "source": [
    "a1.ndim , a2.ndim, a3.ndim        # check the dimensions of array"
   ]
  },
  {
   "cell_type": "code",
   "execution_count": 25,
   "id": "8de93adf",
   "metadata": {},
   "outputs": [
    {
     "data": {
      "text/plain": [
       "(dtype('int32'), dtype('int32'), dtype('int32'))"
      ]
     },
     "execution_count": 25,
     "metadata": {},
     "output_type": "execute_result"
    }
   ],
   "source": [
    "a1.dtype, a2.dtype, a3.dtype       # check the type of data stored in arrray"
   ]
  },
  {
   "cell_type": "code",
   "execution_count": 26,
   "id": "a5a6e5ff",
   "metadata": {},
   "outputs": [
    {
     "data": {
      "text/plain": [
       "(3, 6, 18)"
      ]
     },
     "execution_count": 26,
     "metadata": {},
     "output_type": "execute_result"
    }
   ],
   "source": [
    "a1.size, a2.size, a3.size         # check the no of elements in the array"
   ]
  },
  {
   "cell_type": "code",
   "execution_count": 27,
   "id": "5c676485",
   "metadata": {},
   "outputs": [
    {
     "data": {
      "text/plain": [
       "(numpy.ndarray, numpy.ndarray, numpy.ndarray)"
      ]
     },
     "execution_count": 27,
     "metadata": {},
     "output_type": "execute_result"
    }
   ],
   "source": [
    "type(a1), type(a2), type(a3)      # check what is the type of the datastructure"
   ]
  },
  {
   "cell_type": "markdown",
   "id": "738a618f",
   "metadata": {},
   "source": [
    " ## 2. Creating Numpy Arrays"
   ]
  },
  {
   "cell_type": "code",
   "execution_count": 28,
   "id": "896a5343",
   "metadata": {},
   "outputs": [
    {
     "name": "stdout",
     "output_type": "stream",
     "text": [
      "[1 2 3]\n"
     ]
    }
   ],
   "source": [
    "sample_array = np.array([1,2,3])\n",
    "print(sample_array)"
   ]
  },
  {
   "cell_type": "code",
   "execution_count": 30,
   "id": "a3285781",
   "metadata": {},
   "outputs": [
    {
     "data": {
      "text/plain": [
       "dtype('int32')"
      ]
     },
     "execution_count": 30,
     "metadata": {},
     "output_type": "execute_result"
    }
   ],
   "source": [
    "sample_array.dtype"
   ]
  },
  {
   "cell_type": "code",
   "execution_count": 31,
   "id": "cc66dc0e",
   "metadata": {},
   "outputs": [],
   "source": [
    "ones = np.ones((2,3), dtype=float)    # gives a arrays with given shape and type, all filled with ones  "
   ]
  },
  {
   "cell_type": "code",
   "execution_count": 32,
   "id": "5d3ce2b5",
   "metadata": {},
   "outputs": [
    {
     "data": {
      "text/plain": [
       "array([[1., 1., 1.],\n",
       "       [1., 1., 1.]])"
      ]
     },
     "execution_count": 32,
     "metadata": {},
     "output_type": "execute_result"
    }
   ],
   "source": [
    "ones"
   ]
  },
  {
   "cell_type": "code",
   "execution_count": 33,
   "id": "3219679a",
   "metadata": {},
   "outputs": [
    {
     "name": "stdout",
     "output_type": "stream",
     "text": [
      "float64\n",
      "<class 'numpy.ndarray'>\n"
     ]
    }
   ],
   "source": [
    "print(ones.dtype)\n",
    "print(type(ones))"
   ]
  },
  {
   "cell_type": "code",
   "execution_count": 34,
   "id": "3f031b5e",
   "metadata": {},
   "outputs": [],
   "source": [
    "zeros = np.zeros((3,3))   # arrays filled with zeros "
   ]
  },
  {
   "cell_type": "code",
   "execution_count": 35,
   "id": "819e4679",
   "metadata": {},
   "outputs": [
    {
     "data": {
      "text/plain": [
       "array([[0., 0., 0.],\n",
       "       [0., 0., 0.],\n",
       "       [0., 0., 0.]])"
      ]
     },
     "execution_count": 35,
     "metadata": {},
     "output_type": "execute_result"
    }
   ],
   "source": [
    "zeros"
   ]
  },
  {
   "cell_type": "code",
   "execution_count": 36,
   "id": "26253f89",
   "metadata": {},
   "outputs": [],
   "source": [
    "range_array = np.arange(0, 10, 2)"
   ]
  },
  {
   "cell_type": "code",
   "execution_count": 37,
   "id": "047aa408",
   "metadata": {},
   "outputs": [
    {
     "data": {
      "text/plain": [
       "array([0, 2, 4, 6, 8])"
      ]
     },
     "execution_count": 37,
     "metadata": {},
     "output_type": "execute_result"
    }
   ],
   "source": [
    "range_array"
   ]
  },
  {
   "cell_type": "code",
   "execution_count": 38,
   "id": "3edd801e",
   "metadata": {},
   "outputs": [],
   "source": [
    "random_array = np.random.randint(2, 9, size = (3,5))"
   ]
  },
  {
   "cell_type": "code",
   "execution_count": 39,
   "id": "6a57ffff",
   "metadata": {},
   "outputs": [
    {
     "data": {
      "text/plain": [
       "array([[8, 3, 3, 3, 6],\n",
       "       [5, 7, 7, 4, 6],\n",
       "       [3, 3, 3, 8, 6]])"
      ]
     },
     "execution_count": 39,
     "metadata": {},
     "output_type": "execute_result"
    }
   ],
   "source": [
    "random_array"
   ]
  },
  {
   "cell_type": "code",
   "execution_count": 40,
   "id": "8d04e18e",
   "metadata": {},
   "outputs": [],
   "source": [
    "random_array2 = np.random.random((5,3))"
   ]
  },
  {
   "cell_type": "code",
   "execution_count": 41,
   "id": "2af417f2",
   "metadata": {},
   "outputs": [
    {
     "data": {
      "text/plain": [
       "array([[0.54545034, 0.05990775, 0.87687031],\n",
       "       [0.44172388, 0.88969806, 0.0912468 ],\n",
       "       [0.97318032, 0.93690296, 0.11006074],\n",
       "       [0.01938437, 0.64097538, 0.20994308],\n",
       "       [0.74122262, 0.32436457, 0.61371477]])"
      ]
     },
     "execution_count": 41,
     "metadata": {},
     "output_type": "execute_result"
    }
   ],
   "source": [
    "random_array2"
   ]
  },
  {
   "cell_type": "code",
   "execution_count": 42,
   "id": "fbe68c02",
   "metadata": {},
   "outputs": [],
   "source": [
    "random_array3 = np.random.rand(3,3)"
   ]
  },
  {
   "cell_type": "code",
   "execution_count": 43,
   "id": "58ffdc7c",
   "metadata": {},
   "outputs": [
    {
     "data": {
      "text/plain": [
       "array([[0.33838705, 0.38958052, 0.81603963],\n",
       "       [0.25403175, 0.5562384 , 0.95392395],\n",
       "       [0.25304136, 0.03427383, 0.76161778]])"
      ]
     },
     "execution_count": 43,
     "metadata": {},
     "output_type": "execute_result"
    }
   ],
   "source": [
    "random_array3"
   ]
  },
  {
   "cell_type": "markdown",
   "id": "4713265d",
   "metadata": {},
   "source": [
    "## 3. Viewing arrays and matrices"
   ]
  },
  {
   "cell_type": "code",
   "execution_count": 44,
   "id": "ce5a1659",
   "metadata": {},
   "outputs": [
    {
     "data": {
      "text/plain": [
       "array([[8, 7, 5, 5],\n",
       "       [4, 4, 8, 2],\n",
       "       [3, 8, 5, 5],\n",
       "       [5, 2, 5, 6]])"
      ]
     },
     "execution_count": 44,
     "metadata": {},
     "output_type": "execute_result"
    }
   ],
   "source": [
    "my_array = np.random.randint(2,9,size=(4,4))\n",
    "my_array"
   ]
  },
  {
   "cell_type": "code",
   "execution_count": 45,
   "id": "d12ebfb1",
   "metadata": {},
   "outputs": [
    {
     "data": {
      "text/plain": [
       "array([2, 3, 4, 5, 6, 7, 8])"
      ]
     },
     "execution_count": 45,
     "metadata": {},
     "output_type": "execute_result"
    }
   ],
   "source": [
    "np.unique(my_array)  # returns an array with all elements from the passed array only one time"
   ]
  },
  {
   "cell_type": "code",
   "execution_count": 46,
   "id": "e9294eb1",
   "metadata": {},
   "outputs": [
    {
     "data": {
      "text/plain": [
       "array([[8, 7, 5, 5],\n",
       "       [4, 4, 8, 2],\n",
       "       [3, 8, 5, 5],\n",
       "       [5, 2, 5, 6]])"
      ]
     },
     "execution_count": 46,
     "metadata": {},
     "output_type": "execute_result"
    }
   ],
   "source": [
    "my_array"
   ]
  },
  {
   "cell_type": "code",
   "execution_count": 48,
   "id": "27ea4ec7",
   "metadata": {},
   "outputs": [
    {
     "data": {
      "text/plain": [
       "(array([8, 7, 5, 5]),\n",
       " array([4, 4, 8, 2]),\n",
       " array([3, 8, 5, 5]),\n",
       " array([5, 2, 5, 6]))"
      ]
     },
     "execution_count": 48,
     "metadata": {},
     "output_type": "execute_result"
    }
   ],
   "source": [
    "my_array[0], my_array[1], my_array[2], my_array[3]"
   ]
  },
  {
   "cell_type": "code",
   "execution_count": 49,
   "id": "2eba10b3",
   "metadata": {},
   "outputs": [
    {
     "data": {
      "text/plain": [
       "(8, 7, 5, 5)"
      ]
     },
     "execution_count": 49,
     "metadata": {},
     "output_type": "execute_result"
    }
   ],
   "source": [
    "my_array[0][0], my_array[0][1], my_array[0][2], my_array[0][3], "
   ]
  },
  {
   "cell_type": "code",
   "execution_count": 50,
   "id": "dfd0df10",
   "metadata": {},
   "outputs": [
    {
     "data": {
      "text/plain": [
       "array([[8, 7, 5, 5],\n",
       "       [4, 4, 8, 2],\n",
       "       [3, 8, 5, 5],\n",
       "       [5, 2, 5, 6]])"
      ]
     },
     "execution_count": 50,
     "metadata": {},
     "output_type": "execute_result"
    }
   ],
   "source": [
    "# We can also use the slicing in numpy arrays. Just like the python\n",
    "my_array"
   ]
  },
  {
   "cell_type": "code",
   "execution_count": 51,
   "id": "5e6bd3e9",
   "metadata": {},
   "outputs": [
    {
     "data": {
      "text/plain": [
       "array([[8, 7, 5, 5],\n",
       "       [4, 4, 8, 2]])"
      ]
     },
     "execution_count": 51,
     "metadata": {},
     "output_type": "execute_result"
    }
   ],
   "source": [
    "my_array[0:2]"
   ]
  },
  {
   "cell_type": "code",
   "execution_count": 52,
   "id": "397759f6",
   "metadata": {},
   "outputs": [
    {
     "data": {
      "text/plain": [
       "array([[3, 8, 5, 5],\n",
       "       [5, 2, 5, 6]])"
      ]
     },
     "execution_count": 52,
     "metadata": {},
     "output_type": "execute_result"
    }
   ],
   "source": [
    "my_array[2:4]"
   ]
  },
  {
   "cell_type": "code",
   "execution_count": 55,
   "id": "3adbe5a6",
   "metadata": {},
   "outputs": [
    {
     "data": {
      "text/plain": [
       "array([[8, 7, 5, 5],\n",
       "       [4, 4, 8, 2],\n",
       "       [3, 8, 5, 5],\n",
       "       [5, 2, 5, 6]])"
      ]
     },
     "execution_count": 55,
     "metadata": {},
     "output_type": "execute_result"
    }
   ],
   "source": [
    "my_array[0:len(my_array)]"
   ]
  },
  {
   "cell_type": "code",
   "execution_count": 57,
   "id": "46b24540",
   "metadata": {},
   "outputs": [
    {
     "data": {
      "text/plain": [
       "array([[8, 7, 5, 5],\n",
       "       [3, 8, 5, 5]])"
      ]
     },
     "execution_count": 57,
     "metadata": {},
     "output_type": "execute_result"
    }
   ],
   "source": [
    "my_array[0:4:2]"
   ]
  },
  {
   "cell_type": "code",
   "execution_count": 58,
   "id": "0478fa59",
   "metadata": {},
   "outputs": [
    {
     "data": {
      "text/plain": [
       "array([[5, 2, 5, 6],\n",
       "       [3, 8, 5, 5],\n",
       "       [4, 4, 8, 2],\n",
       "       [8, 7, 5, 5]])"
      ]
     },
     "execution_count": 58,
     "metadata": {},
     "output_type": "execute_result"
    }
   ],
   "source": [
    "my_array[::-1]"
   ]
  },
  {
   "cell_type": "code",
   "execution_count": 59,
   "id": "117339ad",
   "metadata": {},
   "outputs": [
    {
     "data": {
      "text/plain": [
       "array([[[[3, 0, 1, 9, 8],\n",
       "         [4, 1, 5, 1, 2],\n",
       "         [4, 4, 6, 3, 8],\n",
       "         [9, 8, 1, 5, 9]],\n",
       "\n",
       "        [[3, 2, 5, 8, 8],\n",
       "         [3, 7, 0, 7, 3],\n",
       "         [5, 2, 8, 3, 9],\n",
       "         [6, 1, 7, 2, 4]],\n",
       "\n",
       "        [[8, 3, 4, 8, 9],\n",
       "         [4, 1, 8, 8, 5],\n",
       "         [8, 2, 9, 0, 0],\n",
       "         [9, 5, 6, 2, 9]]],\n",
       "\n",
       "\n",
       "       [[[4, 2, 1, 3, 8],\n",
       "         [2, 2, 7, 1, 9],\n",
       "         [6, 3, 4, 1, 4],\n",
       "         [9, 4, 5, 1, 5]],\n",
       "\n",
       "        [[1, 2, 1, 1, 2],\n",
       "         [5, 6, 2, 4, 1],\n",
       "         [6, 6, 6, 9, 3],\n",
       "         [1, 1, 3, 4, 2]],\n",
       "\n",
       "        [[9, 4, 3, 3, 1],\n",
       "         [3, 4, 9, 9, 0],\n",
       "         [9, 8, 2, 7, 4],\n",
       "         [3, 9, 9, 7, 7]]]])"
      ]
     },
     "execution_count": 59,
     "metadata": {},
     "output_type": "execute_result"
    }
   ],
   "source": [
    "my_array2 = np.random.randint(10, size = (2,3,4,5))\n",
    "my_array2"
   ]
  },
  {
   "cell_type": "code",
   "execution_count": 60,
   "id": "a42cb982",
   "metadata": {},
   "outputs": [
    {
     "data": {
      "text/plain": [
       "array([[[[3],\n",
       "         [4],\n",
       "         [4],\n",
       "         [9]],\n",
       "\n",
       "        [[3],\n",
       "         [3],\n",
       "         [5],\n",
       "         [6]],\n",
       "\n",
       "        [[8],\n",
       "         [4],\n",
       "         [8],\n",
       "         [9]]],\n",
       "\n",
       "\n",
       "       [[[4],\n",
       "         [2],\n",
       "         [6],\n",
       "         [9]],\n",
       "\n",
       "        [[1],\n",
       "         [5],\n",
       "         [6],\n",
       "         [1]],\n",
       "\n",
       "        [[9],\n",
       "         [3],\n",
       "         [9],\n",
       "         [3]]]])"
      ]
     },
     "execution_count": 60,
     "metadata": {},
     "output_type": "execute_result"
    }
   ],
   "source": [
    "# get the first 4 numbers of the inner most arrays \n",
    "my_array2[:, :, :, :1]"
   ]
  },
  {
   "cell_type": "code",
   "execution_count": null,
   "id": "58b2504b",
   "metadata": {},
   "outputs": [],
   "source": [
    " "
   ]
  }
 ],
 "metadata": {
  "kernelspec": {
   "display_name": "Python 3 (ipykernel)",
   "language": "python",
   "name": "python3"
  },
  "language_info": {
   "codemirror_mode": {
    "name": "ipython",
    "version": 3
   },
   "file_extension": ".py",
   "mimetype": "text/x-python",
   "name": "python",
   "nbconvert_exporter": "python",
   "pygments_lexer": "ipython3",
   "version": "3.10.1"
  }
 },
 "nbformat": 4,
 "nbformat_minor": 5
}
