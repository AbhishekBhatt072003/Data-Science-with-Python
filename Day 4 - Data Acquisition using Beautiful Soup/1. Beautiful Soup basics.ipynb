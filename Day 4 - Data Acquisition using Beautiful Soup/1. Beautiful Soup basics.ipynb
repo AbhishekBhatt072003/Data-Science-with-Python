{
 "cells": [
  {
   "cell_type": "markdown",
   "id": "46f05600",
   "metadata": {},
   "source": [
    "# Beautiful Soup"
   ]
  },
  {
   "cell_type": "markdown",
   "id": "4518b177",
   "metadata": {},
   "source": [
    "Beautiful Soup is a Python library for pulling data out of HTML and XML files. It works with your favorite parser to provide idiomatic ways of navigating, searching, and modifying the parse tree."
   ]
  },
  {
   "cell_type": "markdown",
   "id": "2c5ba5e1",
   "metadata": {},
   "source": [
    "If you want to scrape a Website:\n",
    "\n",
    "- Use the APIS\n",
    "- HTML web Scraping using some tools like bs4"
   ]
  },
  {
   "cell_type": "markdown",
   "id": "9e7e281d",
   "metadata": {},
   "source": [
    "We will require Beautiful soup, requests and html4lib for the following porpose.\n",
    "- html4lib for parsing HTML \n",
    "- requests for making API requests\n",
    "- bs4 for html tree traversal"
   ]
  },
  {
   "cell_type": "markdown",
   "id": "a66ae54b",
   "metadata": {},
   "source": [
    "### Step 1\n",
    "\n",
    "Import the required Libraries\n"
   ]
  },
  {
   "cell_type": "code",
   "execution_count": 1,
   "id": "7017ef71",
   "metadata": {},
   "outputs": [],
   "source": [
    "import requests\n",
    "from bs4 import BeautifulSoup"
   ]
  },
  {
   "cell_type": "markdown",
   "id": "1f956336",
   "metadata": {},
   "source": [
    "### Step 2\n",
    "\n",
    "Get the HTML"
   ]
  },
  {
   "cell_type": "code",
   "execution_count": 2,
   "id": "79fa699c",
   "metadata": {},
   "outputs": [
    {
     "name": "stdout",
     "output_type": "stream",
     "text": [
      "b'<!DOCTYPE html><html lang=\"en\"><head><meta name=\"viewport\" content=\"width=device-width\"/><meta charSet=\"utf-8\"/><script async=\"\" src=\"https://pagead2.googlesyndication.com/pagead/js/adsbygoogle.js?client=ca-pub-9655830461045889\" crossorigin=\"anonymous\"></script><script>(function(w,d,s,l,i){w[l]=w[l]||[];w[l].push({\\'gtm.start\\':\\n        new Date().getTime(),event:\\'gtm.js\\'});var f=d.getElementsByTagName(s)[0],\\n        j=d.createElement(s),dl=l!=\\'dataLayer\\'?\\'&l=\\'+l:\\'\\';j.async=true;j.src=\\n        \\'https://www.googletagmanager.com/gtm.js?id=\\'+i+dl;f.parentNode.insertBefore(j,f);\\n        })(window,document,\\'script\\',\\'dataLayer\\',\\'GTM-MCDDKRF\\');</script><title>Courses | CodeWithHarry</title><meta name=\"description\" content=\"Confused on which course to take? I have got you covered. Browse courses and find out the best course for you. Its free!\"/><link rel=\"icon\" href=\"/favicon.ico\"/><meta name=\"next-head-count\" content=\"7\"/><link rel=\"preload\" href=\"/_next/static/css/95fea26d92efb53e.css\" as=\"style\"/><link rel=\"stylesheet\" href=\"/_next/static/css/95fea26d92efb53e.css\" data-n-g=\"\"/><noscript data-n-css=\"\"></noscript><script defer=\"\" nomodule=\"\" src=\"/_next/static/chunks/polyfills-5cd94c89d3acac5f.js\"></script><script src=\"/_next/static/chunks/webpack-cb79fe2bfb796200.js\" defer=\"\"></script><script src=\"/_next/static/chunks/framework-91d7f78b5b4003c8.js\" defer=\"\"></script><script src=\"/_next/static/chunks/main-728af1fb3715c9e8.js\" defer=\"\"></script><script src=\"/_next/static/chunks/pages/_app-7ccd4159d18b03be.js\" defer=\"\"></script><script src=\"/_next/static/chunks/pages/videos-d1eb886045329dad.js\" defer=\"\"></script><script src=\"/_next/static/rfvTYxiehEIWBMQwVhnbo/_buildManifest.js\" defer=\"\"></script><script src=\"/_next/static/rfvTYxiehEIWBMQwVhnbo/_ssgManifest.js\" defer=\"\"></script><script src=\"/_next/static/rfvTYxiehEIWBMQwVhnbo/_middlewareManifest.js\" defer=\"\"></script></head><body><noscript><iframe src=\"https://www.googletagmanager.com/ns.html?id=GTM-MCDDKRF\" height=\"0\" width=\"0\" style=\"display:none;visibility:hidden\"></iframe></noscript><div id=\"__next\"><div class=\" w-full z-10 sticky bg-white top-0 border-b border-grey-light\"><div class=\"w-full flex flex-wrap items-center lg:justify-between mt-0 py-4 justify-center\"><div class=\" mx-0 px-0 lg:pl-4 flex items-center lg:mx-4\"><span class=\"text-teal-700 no-underline hover:no-underline font-bold text-xl text-purple-800\"><a href=\"/\">CodeWithHarry</a></span></div><div class=\"pr-4 absolute top-1 right-1 pt-3\"><button class=\"lg:hidden flex items-center px-3 py-2 border rounded text-grey border-grey-dark hover:text-black hover:border-purple appearance-none focus:outline-none\"><svg class=\"fill-current h-3 w-3\" viewBox=\"0 0 20 20\" xmlns=\"http://www.w3.org/2000/svg\"><title>Menu</title><path d=\"M0 3h20v2H0V3zm0 6h20v2H0V9zm0 6h20v2H0v-2z\"></path></svg></button></div><div class=\"w-full flex-grow lg:flex lg:flex-1 lg:content-center lg:justify-end lg:w-auto h-0 lg:h-auto overflow-hidden mt-2 lg:mt-0 z-20 transition-all\" id=\"nav-content\"><ul class=\"flex items-center flex-col lg:flex-row\"><div id=\"search-toggle\" class=\"search-icon cursor-pointer px-6 hidden\"><svg class=\"fill-current pointer-events-none text-grey-darkest w-4 h-4 inline\" xmlns=\"http://www.w3.org/2000/svg\" viewBox=\"0 0 20 20\"><path d=\"M12.9 14.32a8 8 0 1 1 1.41-1.41l5.35 5.33-1.42 1.42-5.33-5.34zM8 14A6 6 0 1 0 8 2a6 6 0 0 0 0 12z\"></path></svg></div><li class=\"mx-2 my-2\"><a href=\"/\">Home</a></li><li class=\"mx-2 my-2\"><a href=\"/videos/\">Courses</a></li><li class=\"mx-2 my-2\"><a href=\"/blog/\">Blog</a></li><li class=\"mx-2 my-2\"><a href=\"/contact/\">Contact</a></li></ul><div class=\"text-center my-2 px-4\"><button id=\"login\" class=\"text-white bg-purple-700 hover:bg-purple-800 focus:ring-4 focus:ring-purple-300 font-medium rounded-lg text-sm px-3 py-2 text-center inline-flex items-center mx-1\">Login</button><button id=\"signup\" class=\"text-white bg-purple-700 hover:bg-purple-800 focus:ring-4 focus:ring-purple-300 font-medium rounded-lg text-sm px-3 py-2 text-center inline-flex items-center mx-1\">Signup</button></div></div></div></div><div class=\"relative w-full hidden bg-white shadow-xl\" id=\"search-content\"><div class=\"container mx-auto py-4 text-black\"><input type=\"search\" id=\"searchfield\" placeholder=\"Search...\" autofocus=\"\" class=\"w-full text-grey-800 transition focus:outline-none focus:border-transparent p-2 appearance-none leading-normal text-xl lg:text-2xl\"/></div></div><div class=\"mx-auto my-1\"></div><div class=\"\" style=\"position:fixed;top:0;left:0;height:2px;background:transparent;z-index:99999999999;width:100%\"><div class=\"\" style=\"height:100%;background:purple;transition:all 500ms ease;width:0%\"><div style=\"box-shadow:0 0 10px purple, 0 0 10px purple;width:5%;opacity:1;position:absolute;height:100%;transition:all 500ms ease;transform:rotate(3deg) translate(0px, -4px);left:-10rem\"></div></div></div><div><div class=\"text-center text-gray-900 lg:mt-6 text-2xl font-bold\"></div><section class=\"text-gray-600 body-font\"><div class=\"container lg:py-10 mx-auto\"><div class=\"flex justify-center align-middle flex-wrap mx-auto\"></div></div></section></div><div><footer class=\"text-gray-600 body-font mt-8 px-10 bg-white\"><div class=\"px-2 py-4 mx-auto flex items-center sm:flex-row flex-col\"><span class=\"flex title-font font-medium items-center md:justify-start justify-center text-gray-900\"><img src=\"/img/logo-blue.png\" class=\"rounded h-12\"/><span class=\"ml-3 text-xl\">CodeWithHarry</span></span><p class=\"text-sm text-gray-500 sm:ml-4 sm:pl-4 sm:border-l-2 sm:border-gray-200 sm:py-2 sm:mt-0 mt-4 text-center\">Copyright \\xc2\\xa9 2022 CodeWithHarry.com</p><span class=\"inline-flex sm:ml-auto sm:mt-0 mt-4 justify-center sm:justify-start\"><a href=\"https://www.facebook.com/CodeWithHarry/\" target=\"_blank\" rel=\"noreferrer\" class=\"text-gray-500\"><svg fill=\"currentColor\" stroke-linecap=\"round\" stroke-linejoin=\"round\" stroke-width=\"2\" class=\"w-5 h-5\" viewBox=\"0 0 24 24\"><path d=\"M18 2h-3a5 5 0 00-5 5v3H7v4h3v8h4v-8h3l1-4h-4V7a1 1 0 011-1h3z\"></path></svg></a><a href=\"https://www.instagram.com/CodeWithHarry/\" target=\"_blank\" rel=\"noreferrer\" class=\"ml-3 text-gray-500\"><svg fill=\"none\" stroke=\"currentColor\" stroke-linecap=\"round\" stroke-linejoin=\"round\" stroke-width=\"2\" class=\"w-5 h-5\" viewBox=\"0 0 24 24\"><rect width=\"20\" height=\"20\" x=\"2\" y=\"2\" rx=\"5\" ry=\"5\"></rect><path d=\"M16 11.37A4 4 0 1112.63 8 4 4 0 0116 11.37zm1.5-4.87h.01\"></path></svg></a></span></div></footer></div></div><script id=\"__NEXT_DATA__\" type=\"application/json\">{\"props\":{\"pageProps\":{\"url\":\"https://cwh-apis-strapi-c39h9.ondigitalocean.app\"},\"__N_SSG\":true},\"page\":\"/videos\",\"query\":{},\"buildId\":\"rfvTYxiehEIWBMQwVhnbo\",\"isFallback\":false,\"gsp\":true,\"scriptLoader\":[]}</script></body></html>'\n"
     ]
    }
   ],
   "source": [
    "url = \"https://codewithharry.com/videos/\"\n",
    "r = requests.get(url)              # making the get request to the URL\n",
    "htmlContent = r.content\n",
    "print(htmlContent)"
   ]
  },
  {
   "cell_type": "markdown",
   "id": "639f1e55",
   "metadata": {},
   "source": [
    "### Step 2 : Parse the HTML\n",
    "\n",
    "This step is generally called as creating the soup"
   ]
  },
  {
   "cell_type": "code",
   "execution_count": 3,
   "id": "f2c13b9a",
   "metadata": {},
   "outputs": [
    {
     "data": {
      "text/plain": [
       "bs4.BeautifulSoup"
      ]
     },
     "execution_count": 3,
     "metadata": {},
     "output_type": "execute_result"
    }
   ],
   "source": [
    "soup = BeautifulSoup(htmlContent, 'html.parser')\n",
    "type(soup)"
   ]
  },
  {
   "cell_type": "code",
   "execution_count": 4,
   "id": "5ff04895",
   "metadata": {},
   "outputs": [
    {
     "data": {
      "text/plain": [
       "(<title>Courses | CodeWithHarry</title>, bs4.element.Tag)"
      ]
     },
     "execution_count": 4,
     "metadata": {},
     "output_type": "execute_result"
    }
   ],
   "source": [
    "title = soup.title          # get the title of the html page\n",
    "title, type(title)"
   ]
  },
  {
   "cell_type": "code",
   "execution_count": 5,
   "id": "0fc9b59a",
   "metadata": {},
   "outputs": [
    {
     "data": {
      "text/plain": [
       "'Courses | CodeWithHarry'"
      ]
     },
     "execution_count": 5,
     "metadata": {},
     "output_type": "execute_result"
    }
   ],
   "source": [
    "title.string"
   ]
  },
  {
   "cell_type": "markdown",
   "id": "87046987",
   "metadata": {},
   "source": [
    "#### Commonly used types of objects"
   ]
  },
  {
   "cell_type": "markdown",
   "id": "a4066a7e",
   "metadata": {},
   "source": [
    "1. tag\n",
    "2. NavigableString\n",
    "3. Beautiful Soup Object\n",
    "4. Comment"
   ]
  },
  {
   "cell_type": "code",
   "execution_count": 6,
   "id": "b8be48bd",
   "metadata": {},
   "outputs": [
    {
     "data": {
      "text/plain": [
       "[<p class=\"text-sm text-gray-500 sm:ml-4 sm:pl-4 sm:border-l-2 sm:border-gray-200 sm:py-2 sm:mt-0 mt-4 text-center\">Copyright © 2022 CodeWithHarry.com</p>]"
      ]
     },
     "execution_count": 6,
     "metadata": {},
     "output_type": "execute_result"
    }
   ],
   "source": [
    "# Get all the paragraphs from the page.\n",
    "paras = soup.find_all('p')\n",
    "paras"
   ]
  },
  {
   "cell_type": "code",
   "execution_count": 7,
   "id": "7bb9e039",
   "metadata": {},
   "outputs": [
    {
     "data": {
      "text/plain": [
       "[<a href=\"/\">CodeWithHarry</a>,\n",
       " <a href=\"/\">Home</a>,\n",
       " <a href=\"/videos/\">Courses</a>,\n",
       " <a href=\"/blog/\">Blog</a>,\n",
       " <a href=\"/contact/\">Contact</a>,\n",
       " <a class=\"text-gray-500\" href=\"https://www.facebook.com/CodeWithHarry/\" rel=\"noreferrer\" target=\"_blank\"><svg class=\"w-5 h-5\" fill=\"currentColor\" stroke-linecap=\"round\" stroke-linejoin=\"round\" stroke-width=\"2\" viewbox=\"0 0 24 24\"><path d=\"M18 2h-3a5 5 0 00-5 5v3H7v4h3v8h4v-8h3l1-4h-4V7a1 1 0 011-1h3z\"></path></svg></a>,\n",
       " <a class=\"ml-3 text-gray-500\" href=\"https://www.instagram.com/CodeWithHarry/\" rel=\"noreferrer\" target=\"_blank\"><svg class=\"w-5 h-5\" fill=\"none\" stroke=\"currentColor\" stroke-linecap=\"round\" stroke-linejoin=\"round\" stroke-width=\"2\" viewbox=\"0 0 24 24\"><rect height=\"20\" rx=\"5\" ry=\"5\" width=\"20\" x=\"2\" y=\"2\"></rect><path d=\"M16 11.37A4 4 0 1112.63 8 4 4 0 0116 11.37zm1.5-4.87h.01\"></path></svg></a>]"
      ]
     },
     "execution_count": 7,
     "metadata": {},
     "output_type": "execute_result"
    }
   ],
   "source": [
    "# Get all the anchor tags from the page.\n",
    "anchors = soup.find_all('a')\n",
    "anchors"
   ]
  },
  {
   "cell_type": "code",
   "execution_count": 8,
   "id": "a67a0849",
   "metadata": {},
   "outputs": [
    {
     "data": {
      "text/plain": [
       "<p class=\"text-sm text-gray-500 sm:ml-4 sm:pl-4 sm:border-l-2 sm:border-gray-200 sm:py-2 sm:mt-0 mt-4 text-center\">Copyright © 2022 CodeWithHarry.com</p>"
      ]
     },
     "execution_count": 8,
     "metadata": {},
     "output_type": "execute_result"
    }
   ],
   "source": [
    "# Get first paragraph from the page.\n",
    "para_1 = soup.find('p')\n",
    "para_1"
   ]
  },
  {
   "cell_type": "code",
   "execution_count": 9,
   "id": "a9d84dd9",
   "metadata": {},
   "outputs": [
    {
     "data": {
      "text/plain": [
       "['text-sm',\n",
       " 'text-gray-500',\n",
       " 'sm:ml-4',\n",
       " 'sm:pl-4',\n",
       " 'sm:border-l-2',\n",
       " 'sm:border-gray-200',\n",
       " 'sm:py-2',\n",
       " 'sm:mt-0',\n",
       " 'mt-4',\n",
       " 'text-center']"
      ]
     },
     "execution_count": 9,
     "metadata": {},
     "output_type": "execute_result"
    }
   ],
   "source": [
    "para_1['class']   # get the attributes of the tag whether it be classes or id"
   ]
  },
  {
   "cell_type": "code",
   "execution_count": 10,
   "id": "f5c0b576",
   "metadata": {},
   "outputs": [
    {
     "name": "stdout",
     "output_type": "stream",
     "text": [
      "Copyright © 2022 CodeWithHarry.com\n"
     ]
    }
   ],
   "source": [
    "# Get all the text from the elements/tags/soup\n",
    "print(soup.find('p').get_text())"
   ]
  },
  {
   "cell_type": "code",
   "execution_count": 11,
   "id": "217807d3",
   "metadata": {},
   "outputs": [
    {
     "name": "stdout",
     "output_type": "stream",
     "text": [
      "Courses | CodeWithHarryCodeWithHarryMenuHomeCoursesBlogContactLoginSignupCodeWithHarryCopyright © 2022 CodeWithHarry.com\n"
     ]
    }
   ],
   "source": [
    "print(soup.get_text())"
   ]
  },
  {
   "cell_type": "code",
   "execution_count": 12,
   "id": "b423a5b0",
   "metadata": {},
   "outputs": [
    {
     "name": "stdout",
     "output_type": "stream",
     "text": [
      "None\n",
      "None\n",
      "None\n",
      "None\n",
      "None\n",
      "None\n",
      "None\n"
     ]
    }
   ],
   "source": [
    "# get all the links \n",
    "anchors = soup.find_all('a')\n",
    "anchors\n",
    "for link in anchors:\n",
    "    print(link.get('herf'))"
   ]
  },
  {
   "cell_type": "code",
   "execution_count": 13,
   "id": "f3477f87",
   "metadata": {},
   "outputs": [
    {
     "data": {
      "text/plain": [
       "'Hey, buddy. Want to buy a used parser?'"
      ]
     },
     "execution_count": 13,
     "metadata": {},
     "output_type": "execute_result"
    }
   ],
   "source": [
    "markup = \"<b><!--Hey, buddy. Want to buy a used parser?--></b>\"\n",
    "soup = BeautifulSoup(markup, 'html.parser')\n",
    "comment = soup.b.string\n",
    "comment"
   ]
  },
  {
   "cell_type": "code",
   "execution_count": 14,
   "id": "d0f44bde",
   "metadata": {},
   "outputs": [
    {
     "name": "stdout",
     "output_type": "stream",
     "text": [
      "<class 'bs4.element.Comment'>\n"
     ]
    }
   ],
   "source": [
    "print(type(comment))"
   ]
  },
  {
   "cell_type": "code",
   "execution_count": 20,
   "id": "370e4377",
   "metadata": {},
   "outputs": [
    {
     "data": {
      "text/plain": [
       "NoneType"
      ]
     },
     "execution_count": 20,
     "metadata": {},
     "output_type": "execute_result"
    }
   ],
   "source": [
    "# get a element with particular id\n",
    "part_element = soup.find(id=\"search-content\")\n",
    "type(part_element)"
   ]
  },
  {
   "cell_type": "code",
   "execution_count": 19,
   "id": "c454c6c9",
   "metadata": {},
   "outputs": [],
   "source": []
  },
  {
   "cell_type": "code",
   "execution_count": null,
   "id": "1ffdd448",
   "metadata": {},
   "outputs": [],
   "source": []
  },
  {
   "cell_type": "code",
   "execution_count": null,
   "id": "bcc8f427",
   "metadata": {},
   "outputs": [],
   "source": []
  },
  {
   "cell_type": "code",
   "execution_count": null,
   "id": "d397d5ca",
   "metadata": {},
   "outputs": [],
   "source": []
  }
 ],
 "metadata": {
  "kernelspec": {
   "display_name": "Python 3 (ipykernel)",
   "language": "python",
   "name": "python3"
  },
  "language_info": {
   "codemirror_mode": {
    "name": "ipython",
    "version": 3
   },
   "file_extension": ".py",
   "mimetype": "text/x-python",
   "name": "python",
   "nbconvert_exporter": "python",
   "pygments_lexer": "ipython3",
   "version": "3.10.1"
  }
 },
 "nbformat": 4,
 "nbformat_minor": 5
}
